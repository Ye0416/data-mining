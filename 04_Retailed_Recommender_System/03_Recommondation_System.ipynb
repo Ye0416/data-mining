{
 "cells": [
  {
   "cell_type": "markdown",
   "id": "651f3616",
   "metadata": {},
   "source": [
    "## Importing Libraries\n",
    "\n",
    "We use Pandas (heavy lifting), matplotlib (graphs), SKLearn (Cosine Similarity) and SciPy (CSR matrix)."
   ]
  },
  {
   "cell_type": "code",
   "execution_count": 1,
   "id": "735413d06a0ad0d9",
   "metadata": {
    "ExecuteTime": {
     "end_time": "2023-11-16T05:30:27.563072Z",
     "start_time": "2023-11-16T05:30:27.490176Z"
    }
   },
   "outputs": [],
   "source": [
    "import warnings  # To hide FutureWarnings from Pandas regarding use of concat\n",
    "warnings.simplefilter(action='ignore', category=FutureWarning)\n",
    "from statistics import mean\n",
    "from random import choices\n",
    "import pandas as pd\n",
    "import matplotlib.pyplot as plt\n",
    "from sklearn.model_selection import train_test_split\n",
    "from sklearn.metrics.pairwise import cosine_similarity\n",
    "from scipy.sparse import csr_matrix"
   ]
  },
  {
   "cell_type": "markdown",
   "id": "928269bc3eeb6cce",
   "metadata": {},
   "source": [
    "## Dataset\n",
    "\n",
    "This data was downloaded from…\n",
    "\n",
    "### Data Cleaning\n",
    "\n",
    "The code in this section has been commented as it only needs to be run once to clean the data. The cleaned data has been exported to CSV files and will be used in the rest of the notebook. The code is left here for reference.\n",
    "\n",
    "#### Importing Raw Data"
   ]
  },
  {
   "cell_type": "code",
   "execution_count": 2,
   "id": "8220fea8",
   "metadata": {
    "ExecuteTime": {
     "end_time": "2023-11-16T05:30:27.565228Z",
     "start_time": "2023-11-16T05:30:27.493132Z"
    }
   },
   "outputs": [],
   "source": [
    "# raw_data = pd.read_csv('UserBehavior.csv',names=['userID','itemID','category','behavior','datetime'])\n",
    "# print(\"Raw Data:\")\n",
    "# raw_data.info()\n",
    "\n",
    "# Raw Data:\n",
    "# <class 'pandas.core.frame.DataFrame'>\n",
    "# RangeIndex: 100150807 entries, 0 to 100150806\n",
    "# Data columns (total 5 columns):\n",
    "#  #   Column    Dtype \n",
    "# ---  ------    ----- \n",
    "#  0   userID    int64 \n",
    "#  1   itemID    int64 \n",
    "#  2   category  int64 \n",
    "#  3   behavior  object\n",
    "#  4   datetime  int64 \n",
    "# dtypes: int64(4), object(1)\n",
    "# memory usage: 3.7+ GB"
   ]
  },
  {
   "cell_type": "markdown",
   "id": "2d508c7db1c76bb3",
   "metadata": {},
   "source": [
    "We have 100,150,807 interactions in the dataset. The dataset has 5 columns, which are:\n",
    "- userID: the user who performed the interaction\n",
    "- itemID: the item which was interacted with\n",
    "- category: the category of the item\n",
    "- behavior: the type of interaction (buy, cart, favourite, page view)\n",
    "- datetime: the time when the interaction happened (in seconds)\n",
    "\n",
    "#### Removing Duplicates and Empty Values"
   ]
  },
  {
   "cell_type": "code",
   "execution_count": 3,
   "id": "59dbdfec",
   "metadata": {
    "ExecuteTime": {
     "end_time": "2023-11-16T05:30:27.571975Z",
     "start_time": "2023-11-16T05:30:27.497884Z"
    }
   },
   "outputs": [],
   "source": [
    "# clean = raw_data.drop_duplicates().dropna()\n",
    "# print(f\"We removed {raw_data.shape[0] - clean.shape[0]} items which were duplicates or had empty values.\")\n",
    "\n",
    "# We removed 49 items which were duplicates or had empty values."
   ]
  },
  {
   "cell_type": "markdown",
   "id": "43ba58c59f27c591",
   "metadata": {},
   "source": [
    "#### Converting Dates"
   ]
  },
  {
   "cell_type": "code",
   "execution_count": 4,
   "id": "9a99d532",
   "metadata": {
    "ExecuteTime": {
     "end_time": "2023-11-16T05:30:27.618306Z",
     "start_time": "2023-11-16T05:30:27.501074Z"
    }
   },
   "outputs": [],
   "source": [
    "# clean['datetime'] = pd.to_datetime(clean['datetime'], unit='s')\n",
    "# clean['date'] = clean['datetime'].dt.date\n",
    "# clean['time'] = clean['datetime'].dt.time\n",
    "# \n",
    "# print(\"Example of Data with datetime (original) and separate date/time columns:\")\n",
    "# clean.head()\n",
    "\n",
    "# Example of Data with datetime (original) and separate date/time columns:\n",
    "# | index | userID | itemID | category | behavior | datetime | date | time |\n",
    "# | 0 | 1 | 2268318 | 2520377 | pv | 2017-11-24 17:21:10 | 2017-11-24 | 17:21:10 |\n",
    "# | 1 | 1 | 2333346 | 2520771 | pv | 2017-11-24 22:15:33 | 2017-11-24 | 22:15:33 |\n",
    "# | 2 | 1 | 2576651 | 149192  | pv | 2017-11-25 01:21:25 | 2017-11-25 | 01:21:25 |\n",
    "# | 3 | 1 | 3830808 | 4181361 | pv | 2017-11-25 07:04:53 | 2017-11-25 | 07:04:53 |\n",
    "# | 4 | 1 | 4365585 | 2520377 | pv | 2017-11-25 07:49:06 | 2017-11-25 | 07:49:06 |"
   ]
  },
  {
   "cell_type": "markdown",
   "id": "5436f06d6e789277",
   "metadata": {},
   "source": [
    "Note how the date and time are now in separate columns.\n",
    "\n",
    "#### Trimming Dates"
   ]
  },
  {
   "cell_type": "code",
   "execution_count": 5,
   "id": "cfa3ddb8",
   "metadata": {
    "ExecuteTime": {
     "end_time": "2023-11-16T05:30:27.620768Z",
     "start_time": "2023-11-16T05:30:27.505957Z"
    }
   },
   "outputs": [],
   "source": [
    "# clean = clean.drop(columns=['datetime'])\n",
    "# clean['date'] = pd.to_datetime(clean['date'])\n",
    "# clean1 = clean[(clean['date'] >= '2017-11-25') & (clean['date'] <= '2017-12-03')]\n",
    "# print(f\"We removed {clean.shape[0] - clean1.shape[0]:,} items which had dates outside the expected range.\")\n",
    "# print(f\"Our clean dataset now has {clean1.shape[0]:,} items.\")\n",
    "\n",
    "# We removed 1,236,274 items which had dates outside the expected range.\n",
    "# Our clean dataset now has 98,914,484 items."
   ]
  },
  {
   "cell_type": "markdown",
   "id": "a779331f35083126",
   "metadata": {},
   "source": [
    "### Exporting Cleaned Data\n",
    "\n",
    "Given the large size of the dataset, we will be exporting the cleaned data to CSV files with 1M, 10M and 100M rows. This will allow us to work with smaller datasets while developing and testing our models."
   ]
  },
  {
   "cell_type": "code",
   "execution_count": 6,
   "id": "52284660",
   "metadata": {
    "ExecuteTime": {
     "end_time": "2023-11-16T05:30:27.622630Z",
     "start_time": "2023-11-16T05:30:27.509932Z"
    }
   },
   "outputs": [],
   "source": [
    "# clean1.to_csv('clean_100M.csv', index=False)  # It is really 98.9M, but we will call it 100M for simplicity\n",
    "# clean1.head(1000000).to_csv('clean_1M.csv', index=False)\n",
    "# clean1.head(10000000).to_csv('clean_10M.csv', index=False)"
   ]
  },
  {
   "cell_type": "markdown",
   "id": "984bcb4c17c292bd",
   "metadata": {},
   "source": [
    "## Exploratory Data Analysis\n",
    "\n",
    "### Overall Statistics"
   ]
  },
  {
   "cell_type": "code",
   "execution_count": 7,
   "id": "be534bd523168f66",
   "metadata": {
    "ExecuteTime": {
     "end_time": "2023-11-16T05:31:48.945910Z",
     "start_time": "2023-11-16T05:30:27.516911Z"
    }
   },
   "outputs": [],
   "source": [
    "# # TODO: Define which dataset to use\n",
    "# current_dataset = 'clean_100M.csv'\n",
    "\n",
    "# data = pd.read_csv(current_dataset)\n",
    "# size_of_dataset = data.shape[0]\n",
    "\n",
    "# buy_actions = data[data['behavior']=='buy']\n",
    "# pageview_actions = data[data['behavior']=='pv']\n",
    "# addtocart_actions = data[data['behavior']=='cart']\n",
    "# markfavourite_actions = data[data['behavior']=='fav']\n",
    "\n",
    "# print(f\"Number of unique users: {data['userID'].nunique():,}\")\n",
    "# print(f\"Number of unique items: {data['itemID'].nunique():,}\")\n",
    "# print(f\"Number of unique categories: {data['category'].nunique():,}\")\n",
    "# print(f\"Number of page views: {len(pageview_actions):,} ({len(pageview_actions)/size_of_dataset:.2%})\")\n",
    "# print(f\"Number of add to carts: {len(addtocart_actions):,} ({len(addtocart_actions)/size_of_dataset:.2%})\")\n",
    "# print(f\"Number of mark favourites: {len(markfavourite_actions):,} ({len(markfavourite_actions)/size_of_dataset:.2%})\")\n",
    "# print(f\"Number of buys: {len(buy_actions):,} ({len(buy_actions)/size_of_dataset:.2%})\")\n",
    "# print(f\"Total number of interactions: {len(data):,}\")\n",
    "# print(f\"The first date is {data['date'].min()} and the last date is {data['date'].max()} ({data['date'].nunique()} days).\")"
   ]
  },
  {
   "cell_type": "markdown",
   "id": "4ad742bc843067d8",
   "metadata": {},
   "source": [
    "### Distribution of Number of Interactions per User"
   ]
  },
  {
   "cell_type": "code",
   "execution_count": 8,
   "id": "c953982313fb989f",
   "metadata": {
    "ExecuteTime": {
     "end_time": "2023-11-16T05:31:50.481581Z",
     "start_time": "2023-11-16T05:31:48.946788Z"
    }
   },
   "outputs": [],
   "source": [
    "# interactions_per_user = data.groupby('userID').size()\n",
    "# print(f\"The minimum number of interactions per user is: {interactions_per_user.min()}\")\n",
    "# print(f\"The mean number of interactions per user is: {interactions_per_user.mean():,.0f}\")\n",
    "# print(f\"The median number of interactions per user is: {interactions_per_user.median():.0f}\")\n",
    "# print(f\"The maximum number of interactions per user is: {interactions_per_user.max():,}\")"
   ]
  },
  {
   "cell_type": "markdown",
   "id": "3a84c518",
   "metadata": {},
   "source": [
    "###### Top 10 Users and Categories"
   ]
  },
  {
   "cell_type": "code",
   "execution_count": 9,
   "id": "682f836c",
   "metadata": {
    "ExecuteTime": {
     "end_time": "2023-11-16T05:32:27.344138Z",
     "start_time": "2023-11-16T05:31:50.482480Z"
    }
   },
   "outputs": [],
   "source": [
    "# users_per_category = (\n",
    "#     data.groupby('category')['userID']\n",
    "#     .nunique()\n",
    "#     .reset_index(name='unique_categories_count')\n",
    "#     .sort_values(by='unique_categories_count', ascending=False)\n",
    "# )\n",
    "# print(f\"Top 10 categories with most unique users:\")\n",
    "# users_per_category.head(10)"
   ]
  },
  {
   "cell_type": "code",
   "execution_count": 10,
   "id": "8f0f8545",
   "metadata": {
    "ExecuteTime": {
     "end_time": "2023-11-16T05:32:27.828694Z",
     "start_time": "2023-11-16T05:32:27.341512Z"
    }
   },
   "outputs": [],
   "source": [
    "# buy_actions_per_category = (\n",
    "#     buy_actions.groupby('category')['userID']\n",
    "#     .nunique()\n",
    "#     .reset_index(name='unique_categories_count')\n",
    "#     .sort_values(by='unique_categories_count', ascending=False)\n",
    "# )\n",
    "# print(f\"Top 10 categories with most purchased items:\")\n",
    "# buy_actions_per_category.head(10)"
   ]
  },
  {
   "cell_type": "markdown",
   "id": "092ec094",
   "metadata": {},
   "source": [
    "###### 4. Top 10 Items"
   ]
  },
  {
   "cell_type": "code",
   "execution_count": 11,
   "id": "c023a3c2",
   "metadata": {
    "ExecuteTime": {
     "end_time": "2023-11-16T05:32:28.029842Z",
     "start_time": "2023-11-16T05:32:27.818470Z"
    }
   },
   "outputs": [],
   "source": [
    "# item_buy_count = buy_actions.groupby('itemID').size().reset_index(name='count').sort_values(by='count', ascending=False)\n",
    "# print(f\"Top 10 most-purchased items:\")\n",
    "# item_buy_count.head(10)"
   ]
  },
  {
   "cell_type": "code",
   "execution_count": 12,
   "id": "2a425519",
   "metadata": {
    "ExecuteTime": {
     "end_time": "2023-11-16T05:32:32.779539Z",
     "start_time": "2023-11-16T05:32:28.032409Z"
    }
   },
   "outputs": [],
   "source": [
    "# item_pageview_count = pageview_actions.groupby('itemID').size().reset_index(name='count').sort_values(by='count', ascending=False)\n",
    "# item_cart_count = addtocart_actions.groupby('itemID').size().reset_index(name='count').sort_values(by='count', ascending=False)\n",
    "# item_favourite_count = markfavourite_actions.groupby('itemID').size().reset_index(name='count').sort_values(by='count', ascending=False)"
   ]
  },
  {
   "cell_type": "code",
   "execution_count": 13,
   "id": "b197454c",
   "metadata": {
    "ExecuteTime": {
     "end_time": "2023-11-16T05:41:36.974071Z",
     "start_time": "2023-11-16T05:41:36.381066Z"
    }
   },
   "outputs": [],
   "source": [
    "# top10_items_dfs = [df.head(10) for df in [item_pageview_count, item_cart_count, item_favourite_count, item_buy_count]]\n",
    "# behavior_temp = ['Pageviews','Add to Cart','Favourite','Buy']\n",
    "\n",
    "# plt.figure(figsize=(14,10))\n",
    "\n",
    "# for i, top10_items in enumerate(top10_items_dfs, 1):\n",
    "#     plt.subplot(2, 2, i)\n",
    "#     plt.bar(top10_items['itemID'].astype(str), top10_items['count'])\n",
    "#     plt.title(f'Top 10 Items by {behavior_temp[i-1]} Count')\n",
    "#     plt.xlabel('Item ID')\n",
    "#     plt.ylabel(f'{behavior_temp[i-1]} Count')\n",
    "#     plt.xticks(rotation=45, ha='right')  # rotate x-axis labels\n",
    "    \n",
    "#     for index, value in enumerate(top10_items['count']):\n",
    "#         plt.text(index, value, str(value), ha='center', va='bottom')\n",
    "\n",
    "# plt.tight_layout()\n",
    "# plt.show()"
   ]
  },
  {
   "cell_type": "markdown",
   "id": "d6e67fcc9ffa5244",
   "metadata": {},
   "source": [
    "## Splitting Data into Training and Testing Sets"
   ]
  },
  {
   "cell_type": "code",
   "execution_count": 14,
   "id": "246e040548ad1fac",
   "metadata": {
    "ExecuteTime": {
     "end_time": "2023-11-16T04:24:32.220033Z",
     "start_time": "2023-11-16T04:24:30.038778Z"
    }
   },
   "outputs": [
    {
     "name": "stdout",
     "output_type": "stream",
     "text": [
      "Training dataset size: 799,999\n",
      "Testing  dataset size: 200,000\n"
     ]
    }
   ],
   "source": [
    "# TODO: Comment/Uncomment the lines below to either generate or load the datasets\n",
    "\n",
    "### ---------------- changes here ---------------###\n",
    "\n",
    "data = pd.read_csv('clean_1M.csv')\n",
    "data_sorted = data.sort_values(by=['date', 'time'])\n",
    "\n",
    "split_index = int(len(data_sorted) * 0.8)\n",
    "\n",
    "train_dataset = data_sorted.iloc[:split_index]\n",
    "test_dataset = data_sorted.iloc[split_index:]\n",
    "\n",
    "####################################################\n",
    "\n",
    "# The code below has been commented as it only needs to be run once.\n",
    "# train_dataset, test_dataset = train_test_split(data, test_size=0.2, random_state=42)\n",
    "train_dataset.to_csv('train_1M.csv', index=False)\n",
    "test_dataset.to_csv('test_1M.csv', index=False)\n",
    "\n",
    "# Once generated, we can load the datasets directly from the CSV files.\n",
    "train_dataset = pd.read_csv('train_1M.csv')\n",
    "test_dataset = pd.read_csv('test_1M.csv')\n",
    "\n",
    "print(f\"Training dataset size: {train_dataset.shape[0]:,}\")\n",
    "print(f\"Testing  dataset size: {test_dataset.shape[0]:,}\")"
   ]
  },
  {
   "cell_type": "markdown",
   "id": "e76915e6503792a9",
   "metadata": {},
   "source": [
    "### Pre-Calculate Unique Users and Items"
   ]
  },
  {
   "cell_type": "code",
   "execution_count": 15,
   "id": "b9e908aeccaac73d",
   "metadata": {
    "ExecuteTime": {
     "end_time": "2023-11-16T05:28:35.595171Z",
     "start_time": "2023-11-16T05:28:35.206469Z"
    }
   },
   "outputs": [
    {
     "name": "stdout",
     "output_type": "stream",
     "text": [
      "Unique Users: 9,862\n",
      "Unique Items: 341,660\n",
      "Unique Categories: 5,570\n"
     ]
    }
   ],
   "source": [
    "# Find Unique Users and Items\n",
    "user_u = list(sorted(train_dataset.userID.unique()))\n",
    "item_u = list(sorted(train_dataset.itemID.unique()))\n",
    "cat_u = list(sorted(train_dataset.category.unique()))\n",
    "print(f\"Unique Users: {len(user_u):,}\")\n",
    "print(f\"Unique Items: {len(item_u):,}\")\n",
    "print(f\"Unique Categories: {len(cat_u):,}\")"
   ]
  },
  {
   "cell_type": "markdown",
   "id": "c8b7894fe7e3eef2",
   "metadata": {},
   "source": [
    "### Replace User and Item IDs with Categories"
   ]
  },
  {
   "cell_type": "code",
   "execution_count": 16,
   "id": "f9f89c503bc090b7",
   "metadata": {
    "ExecuteTime": {
     "end_time": "2023-11-16T04:24:32.966491Z",
     "start_time": "2023-11-16T04:24:32.675173Z"
    }
   },
   "outputs": [],
   "source": [
    "train_dataset['userID'] = train_dataset['userID'].astype('category')\n",
    "train_dataset['itemID'] = train_dataset['itemID'].astype('category')\n",
    "row = train_dataset['userID'].cat.codes\n",
    "col = train_dataset['itemID'].cat.codes"
   ]
  },
  {
   "cell_type": "markdown",
   "id": "9c281cdf09ee2451",
   "metadata": {},
   "source": [
    "## Collaborative Filtering based on Purchases Alone\n",
    "\n",
    "### Create Rating Column by Weighting Interactions\n",
    "For this recommender engine we disregard all other types of interactions and only consider purchases."
   ]
  },
  {
   "cell_type": "code",
   "execution_count": 17,
   "id": "190049ef",
   "metadata": {
    "ExecuteTime": {
     "end_time": "2023-11-16T04:24:33.171468Z",
     "start_time": "2023-11-16T04:24:32.968438Z"
    }
   },
   "outputs": [
    {
     "data": {
      "text/html": [
       "<div>\n",
       "<style scoped>\n",
       "    .dataframe tbody tr th:only-of-type {\n",
       "        vertical-align: middle;\n",
       "    }\n",
       "\n",
       "    .dataframe tbody tr th {\n",
       "        vertical-align: top;\n",
       "    }\n",
       "\n",
       "    .dataframe thead th {\n",
       "        text-align: right;\n",
       "    }\n",
       "</style>\n",
       "<table border=\"1\" class=\"dataframe\">\n",
       "  <thead>\n",
       "    <tr style=\"text-align: right;\">\n",
       "      <th></th>\n",
       "      <th>userID</th>\n",
       "      <th>itemID</th>\n",
       "      <th>category</th>\n",
       "      <th>behavior</th>\n",
       "      <th>date</th>\n",
       "      <th>time</th>\n",
       "      <th>rating</th>\n",
       "    </tr>\n",
       "  </thead>\n",
       "  <tbody>\n",
       "    <tr>\n",
       "      <th>0</th>\n",
       "      <td>1001566</td>\n",
       "      <td>1249641</td>\n",
       "      <td>4217906</td>\n",
       "      <td>pv</td>\n",
       "      <td>2017-11-25</td>\n",
       "      <td>00:00:00</td>\n",
       "      <td>0</td>\n",
       "    </tr>\n",
       "    <tr>\n",
       "      <th>1</th>\n",
       "      <td>117560</td>\n",
       "      <td>222276</td>\n",
       "      <td>669762</td>\n",
       "      <td>pv</td>\n",
       "      <td>2017-11-25</td>\n",
       "      <td>00:00:00</td>\n",
       "      <td>0</td>\n",
       "    </tr>\n",
       "    <tr>\n",
       "      <th>2</th>\n",
       "      <td>1018000</td>\n",
       "      <td>511063</td>\n",
       "      <td>3455617</td>\n",
       "      <td>pv</td>\n",
       "      <td>2017-11-25</td>\n",
       "      <td>00:00:01</td>\n",
       "      <td>0</td>\n",
       "    </tr>\n",
       "    <tr>\n",
       "      <th>3</th>\n",
       "      <td>108605</td>\n",
       "      <td>2127694</td>\n",
       "      <td>3738615</td>\n",
       "      <td>pv</td>\n",
       "      <td>2017-11-25</td>\n",
       "      <td>00:00:02</td>\n",
       "      <td>0</td>\n",
       "    </tr>\n",
       "    <tr>\n",
       "      <th>4</th>\n",
       "      <td>115350</td>\n",
       "      <td>3119944</td>\n",
       "      <td>3738615</td>\n",
       "      <td>pv</td>\n",
       "      <td>2017-11-25</td>\n",
       "      <td>00:00:02</td>\n",
       "      <td>0</td>\n",
       "    </tr>\n",
       "  </tbody>\n",
       "</table>\n",
       "</div>"
      ],
      "text/plain": [
       "    userID   itemID  category behavior        date      time  rating\n",
       "0  1001566  1249641   4217906       pv  2017-11-25  00:00:00       0\n",
       "1   117560   222276    669762       pv  2017-11-25  00:00:00       0\n",
       "2  1018000   511063   3455617       pv  2017-11-25  00:00:01       0\n",
       "3   108605  2127694   3738615       pv  2017-11-25  00:00:02       0\n",
       "4   115350  3119944   3738615       pv  2017-11-25  00:00:02       0"
      ]
     },
     "execution_count": 17,
     "metadata": {},
     "output_type": "execute_result"
    }
   ],
   "source": [
    "# Create a copy of the dataset to avoid modifying the original\n",
    "# All variables specific to the purchase-only recommender engine will be prefixed with \"po_\"\n",
    "\n",
    "po_data = train_dataset.copy()\n",
    "po_weights = { 'buy': 1, 'cart': 0, 'fav': 0, 'pv': 0 }\n",
    "po_data['rating'] = po_data['behavior'].map(po_weights)\n",
    "\n",
    "po_data.head()"
   ]
  },
  {
   "cell_type": "markdown",
   "id": "850b86b644b75387",
   "metadata": {},
   "source": [
    "### Create Sparse Matrix and User Similarity Matrix"
   ]
  },
  {
   "cell_type": "code",
   "execution_count": 18,
   "id": "d8ec5afc",
   "metadata": {
    "ExecuteTime": {
     "end_time": "2023-11-16T04:24:42.956727Z",
     "start_time": "2023-11-16T04:24:33.188803Z"
    }
   },
   "outputs": [],
   "source": [
    "# Create a list of ratings for use in the sparse matrix\n",
    "po_ratings = po_data['rating'].tolist()\n",
    "\n",
    "# Calculate Sparse Matrix\n",
    "po_sparse_matrix = csr_matrix((po_ratings, (row, col)), shape=(len(user_u), len(item_u)))\n",
    "\n",
    "# Convert the Matrix into a DataFrame\n",
    "po_user_item_matrix = pd.DataFrame.sparse.from_spmatrix(po_sparse_matrix, index=user_u, columns=item_u)\n",
    "\n",
    "# Apply Cosine Similiarity algorithm to sparse matrix\n",
    "po_user_similarity_df = pd.DataFrame(cosine_similarity(po_sparse_matrix), index=user_u, columns=user_u)"
   ]
  },
  {
   "cell_type": "markdown",
   "id": "cb8d9e45b11c68fa",
   "metadata": {},
   "source": [
    "### Define User-Based Recommendation Function (used for both PO & WI Engines)"
   ]
  },
  {
   "cell_type": "code",
   "execution_count": 19,
   "id": "20f477d465f48ea1",
   "metadata": {
    "ExecuteTime": {
     "end_time": "2023-11-16T08:32:41.810320Z",
     "start_time": "2023-11-16T08:32:41.805806Z"
    }
   },
   "outputs": [],
   "source": [
    "def evaluate_sparsity(sparse_matrix):\n",
    "    total_elements = sparse_matrix.shape[0] * sparse_matrix.shape[1]\n",
    "    non_zero_elements = sparse_matrix.nnz\n",
    "    zero_elements = total_elements - non_zero_elements\n",
    "    \n",
    "    # sparsity_ratio = zero_elements / total_elements\n",
    "    density = non_zero_elements / total_elements\n",
    "\n",
    "    print(f\"{zero_elements:,} of '0' in {total_elements:,} values, density is {density}.\")\n",
    "\n",
    "\n",
    "def user_based_recommendations(user_id, user_similarity_df, user_item_matrix, top_users=5, top_items=5):\n",
    "    \"\"\"\n",
    "    Returns a list of items to recommend based on the Top N Similar users.\n",
    "    \n",
    "    :param user_id: ID of the target user.\n",
    "    :param user_similarity_df: User similarity dataframe\n",
    "    :param user_item_matrix: User/Item Sparse matrix\n",
    "    :param top_users: Target number of similar users to consider, default=5\n",
    "    :param top_items: Target number of items to recommend, default=5\n",
    "    :return: pandas Series with descending list of items.\n",
    "    \"\"\"\n",
    "    \n",
    "    # Double check that the user_id is an integer\n",
    "    user_id = int(user_id)\n",
    "\n",
    "    # Find the top N similar users to the target user\n",
    "    similar_users = user_similarity_df[user_id].sort_values(ascending=False).index\n",
    "    similar_users = similar_users[1:top_users+1]\n",
    "    \n",
    "    # We want to avoid recommending an item that the user has already interacted with\n",
    "    user_rated_items = user_item_matrix.loc[user_id]\n",
    "    \n",
    "    # Create an empty series to store the recommended items\n",
    "    recommended_items = pd.Series(dtype='float64')\n",
    "\n",
    "    for similar_user in similar_users:\n",
    "        # Iterate over all similar users and find the items they interacted with\n",
    "        similar_user_ratings = user_item_matrix.loc[similar_user]\n",
    "\n",
    "        # Exclude items the target user has interacted with\n",
    "        unrated_items = similar_user_ratings[user_rated_items == 0].loc[lambda x : x > 0]\n",
    "\n",
    "        # Add these items to the list of recommended items\n",
    "        recommended_items = pd.concat([recommended_items, unrated_items])\n",
    "        # recommended_items = pd.concat([recommended_items.astype(recommended_items.dtypes), unrated_items.astype(unrated_items.dtypes)])\n",
    "\n",
    "    # Sort the list of recommended items by their rating\n",
    "    recommended_items = recommended_items.groupby(recommended_items.index).sum().sort_values(ascending=False)\n",
    "\n",
    "    return recommended_items[:top_items]"
   ]
  },
  {
   "cell_type": "code",
   "execution_count": 20,
   "id": "5114988a172c2b86",
   "metadata": {
    "ExecuteTime": {
     "end_time": "2023-11-16T08:32:44.862019Z",
     "start_time": "2023-11-16T08:32:44.838422Z"
    }
   },
   "outputs": [
    {
     "name": "stdout",
     "output_type": "stream",
     "text": [
      "3,368,839,915 of '0' in 3,369,450,920 values, density is 0.00018133666716237552.\n"
     ]
    }
   ],
   "source": [
    "evaluate_sparsity(po_sparse_matrix)"
   ]
  },
  {
   "cell_type": "markdown",
   "id": "83d210ab307e6211",
   "metadata": {},
   "source": [
    "### Example Recommendations for a Random user"
   ]
  },
  {
   "cell_type": "code",
   "execution_count": 21,
   "id": "4b2f605c5bce2999",
   "metadata": {
    "ExecuteTime": {
     "end_time": "2023-11-16T04:28:11.910325Z",
     "start_time": "2023-11-16T04:24:42.963589Z"
    }
   },
   "outputs": [
    {
     "name": "stdout",
     "output_type": "stream",
     "text": [
      "Recommended items for user 1119 based on purchases-only: [4252236, 3873209, 642571, 4722844, 5161341]\n"
     ]
    }
   ],
   "source": [
    "# TODO: Define target user, number of similar users and number of items to recommend\n",
    "# Unless overridden, the values below will apply to all recommender engines\n",
    "target_user = 1119  # a UserID from the training dataset\n",
    "top_n_users = 100   # number of similar users to consider\n",
    "top_n_items = 5     # number of items to recommend\n",
    "\n",
    "po_recs = user_based_recommendations(target_user, po_user_similarity_df, po_user_item_matrix, top_n_users, top_n_items)\n",
    "print(f\"Recommended items for user {target_user} based on purchases-only: {po_recs.index.tolist()}\")"
   ]
  },
  {
   "cell_type": "markdown",
   "id": "8d77da6c2778d3a2",
   "metadata": {},
   "source": [
    "## Collaborative Filtering based on Weighted scores for Interactions\n",
    "\n",
    "### Create Rating Column by Weighting Interactions\n",
    "\n",
    "In this recommender engine we will consider all types of interactions, but we will weight them differently. We will give more weight to purchases (10), followed by add to cart (5), marking an item as a favourite (3) and page views (1)."
   ]
  },
  {
   "cell_type": "code",
   "execution_count": 22,
   "id": "0aee7f00",
   "metadata": {
    "ExecuteTime": {
     "end_time": "2023-11-16T04:28:12.155483Z",
     "start_time": "2023-11-16T04:28:11.913221Z"
    }
   },
   "outputs": [
    {
     "data": {
      "text/html": [
       "<div>\n",
       "<style scoped>\n",
       "    .dataframe tbody tr th:only-of-type {\n",
       "        vertical-align: middle;\n",
       "    }\n",
       "\n",
       "    .dataframe tbody tr th {\n",
       "        vertical-align: top;\n",
       "    }\n",
       "\n",
       "    .dataframe thead th {\n",
       "        text-align: right;\n",
       "    }\n",
       "</style>\n",
       "<table border=\"1\" class=\"dataframe\">\n",
       "  <thead>\n",
       "    <tr style=\"text-align: right;\">\n",
       "      <th></th>\n",
       "      <th>userID</th>\n",
       "      <th>itemID</th>\n",
       "      <th>category</th>\n",
       "      <th>behavior</th>\n",
       "      <th>date</th>\n",
       "      <th>time</th>\n",
       "      <th>rating</th>\n",
       "    </tr>\n",
       "  </thead>\n",
       "  <tbody>\n",
       "    <tr>\n",
       "      <th>0</th>\n",
       "      <td>1001566</td>\n",
       "      <td>1249641</td>\n",
       "      <td>4217906</td>\n",
       "      <td>pv</td>\n",
       "      <td>2017-11-25</td>\n",
       "      <td>00:00:00</td>\n",
       "      <td>1</td>\n",
       "    </tr>\n",
       "    <tr>\n",
       "      <th>1</th>\n",
       "      <td>117560</td>\n",
       "      <td>222276</td>\n",
       "      <td>669762</td>\n",
       "      <td>pv</td>\n",
       "      <td>2017-11-25</td>\n",
       "      <td>00:00:00</td>\n",
       "      <td>1</td>\n",
       "    </tr>\n",
       "    <tr>\n",
       "      <th>2</th>\n",
       "      <td>1018000</td>\n",
       "      <td>511063</td>\n",
       "      <td>3455617</td>\n",
       "      <td>pv</td>\n",
       "      <td>2017-11-25</td>\n",
       "      <td>00:00:01</td>\n",
       "      <td>1</td>\n",
       "    </tr>\n",
       "    <tr>\n",
       "      <th>3</th>\n",
       "      <td>108605</td>\n",
       "      <td>2127694</td>\n",
       "      <td>3738615</td>\n",
       "      <td>pv</td>\n",
       "      <td>2017-11-25</td>\n",
       "      <td>00:00:02</td>\n",
       "      <td>1</td>\n",
       "    </tr>\n",
       "    <tr>\n",
       "      <th>4</th>\n",
       "      <td>115350</td>\n",
       "      <td>3119944</td>\n",
       "      <td>3738615</td>\n",
       "      <td>pv</td>\n",
       "      <td>2017-11-25</td>\n",
       "      <td>00:00:02</td>\n",
       "      <td>1</td>\n",
       "    </tr>\n",
       "  </tbody>\n",
       "</table>\n",
       "</div>"
      ],
      "text/plain": [
       "    userID   itemID  category behavior        date      time  rating\n",
       "0  1001566  1249641   4217906       pv  2017-11-25  00:00:00       1\n",
       "1   117560   222276    669762       pv  2017-11-25  00:00:00       1\n",
       "2  1018000   511063   3455617       pv  2017-11-25  00:00:01       1\n",
       "3   108605  2127694   3738615       pv  2017-11-25  00:00:02       1\n",
       "4   115350  3119944   3738615       pv  2017-11-25  00:00:02       1"
      ]
     },
     "execution_count": 22,
     "metadata": {},
     "output_type": "execute_result"
    }
   ],
   "source": [
    "# Create a copy of the dataset to avoid modifying the original\n",
    "# All variables specific to the weighted-interactions recommender engine will be prefixed with \"wi_\"\n",
    "\n",
    "wi_data = train_dataset.copy()\n",
    "wi_weights = { 'buy': 10, 'cart': 5, 'fav': 3, 'pv': 1 }\n",
    "wi_data['rating'] = wi_data['behavior'].map(wi_weights)\n",
    "wi_data.head()"
   ]
  },
  {
   "cell_type": "markdown",
   "id": "a7b63b126911ea31",
   "metadata": {},
   "source": [
    "### Create Sparse Matrix and User Similarity Matrix"
   ]
  },
  {
   "cell_type": "code",
   "execution_count": 23,
   "id": "37c6aba7",
   "metadata": {
    "ExecuteTime": {
     "end_time": "2023-11-16T04:28:27.584875Z",
     "start_time": "2023-11-16T04:28:12.504249Z"
    }
   },
   "outputs": [],
   "source": [
    "# Create a list of ratings for use in the sparse matrix\n",
    "wi_ratings = wi_data['rating'].tolist()\n",
    "\n",
    "# Calculate Sparse Matrix\n",
    "wi_sparse_matrix = csr_matrix((wi_ratings, (row, col)), shape=(len(user_u), len(item_u)))\n",
    "\n",
    "# Convert the Matrix into a DataFrame\n",
    "wi_user_item_matrix = pd.DataFrame.sparse.from_spmatrix(wi_sparse_matrix, index=user_u, columns=item_u)\n",
    "\n",
    "# Apply Cosine Similiarity algorithm to sparse matrix\n",
    "wi_user_similarity_df = pd.DataFrame(cosine_similarity(wi_sparse_matrix), index=user_u, columns=user_u)"
   ]
  },
  {
   "cell_type": "markdown",
   "id": "6599bd557507e1b1",
   "metadata": {},
   "source": [
    "### Example Recommendations for a random user"
   ]
  },
  {
   "cell_type": "code",
   "execution_count": 24,
   "id": "01df392f",
   "metadata": {
    "ExecuteTime": {
     "end_time": "2023-11-16T04:31:56.113914Z",
     "start_time": "2023-11-16T04:28:27.584413Z"
    }
   },
   "outputs": [
    {
     "name": "stdout",
     "output_type": "stream",
     "text": [
      "Recommended items for user 1119 based on weighted interactions: [667682, 4789150, 1690748, 4732412, 2659286]\n"
     ]
    }
   ],
   "source": [
    "# Reuse the same target user and number of items as before:\n",
    "# target_user = 1119  # a UserID from the training dataset\n",
    "# top_n_users = 100   # number of similar users to consider\n",
    "# top_n_items = 5     # number of items to recommend\n",
    "\n",
    "wi_recs = user_based_recommendations(target_user, wi_user_similarity_df, wi_user_item_matrix, top_n_users, top_n_items)\n",
    "print(f\"Recommended items for user {target_user} based on weighted interactions: {wi_recs.index.tolist()}\")"
   ]
  },
  {
   "cell_type": "markdown",
   "id": "d2180bec4d28d6a4",
   "metadata": {},
   "source": [
    "# Colloborative Filtering: Item-based Recommendations"
   ]
  },
  {
   "cell_type": "code",
   "execution_count": 25,
   "id": "cdcff17a9981e772",
   "metadata": {
    "ExecuteTime": {
     "end_time": "2023-11-16T04:31:56.316963Z",
     "start_time": "2023-11-16T04:31:56.115959Z"
    },
    "colab": {
     "base_uri": "https://localhost:8080/",
     "height": 424
    },
    "executionInfo": {
     "elapsed": 8,
     "status": "ok",
     "timestamp": 1699713233243,
     "user": {
      "displayName": "Dharmesh Chaudhary",
      "userId": "07913134985138550333"
     },
     "user_tz": -660
    },
    "id": "190049ef",
    "outputId": "76a95bd4-ee66-47cf-b1d4-4b4569c78c09"
   },
   "outputs": [
    {
     "data": {
      "text/html": [
       "<div>\n",
       "<style scoped>\n",
       "    .dataframe tbody tr th:only-of-type {\n",
       "        vertical-align: middle;\n",
       "    }\n",
       "\n",
       "    .dataframe tbody tr th {\n",
       "        vertical-align: top;\n",
       "    }\n",
       "\n",
       "    .dataframe thead th {\n",
       "        text-align: right;\n",
       "    }\n",
       "</style>\n",
       "<table border=\"1\" class=\"dataframe\">\n",
       "  <thead>\n",
       "    <tr style=\"text-align: right;\">\n",
       "      <th></th>\n",
       "      <th>userID</th>\n",
       "      <th>itemID</th>\n",
       "      <th>category</th>\n",
       "      <th>behavior</th>\n",
       "      <th>date</th>\n",
       "      <th>time</th>\n",
       "      <th>rating</th>\n",
       "    </tr>\n",
       "  </thead>\n",
       "  <tbody>\n",
       "    <tr>\n",
       "      <th>0</th>\n",
       "      <td>1001566</td>\n",
       "      <td>1249641</td>\n",
       "      <td>4217906</td>\n",
       "      <td>pv</td>\n",
       "      <td>2017-11-25</td>\n",
       "      <td>00:00:00</td>\n",
       "      <td>1</td>\n",
       "    </tr>\n",
       "    <tr>\n",
       "      <th>1</th>\n",
       "      <td>117560</td>\n",
       "      <td>222276</td>\n",
       "      <td>669762</td>\n",
       "      <td>pv</td>\n",
       "      <td>2017-11-25</td>\n",
       "      <td>00:00:00</td>\n",
       "      <td>1</td>\n",
       "    </tr>\n",
       "    <tr>\n",
       "      <th>2</th>\n",
       "      <td>1018000</td>\n",
       "      <td>511063</td>\n",
       "      <td>3455617</td>\n",
       "      <td>pv</td>\n",
       "      <td>2017-11-25</td>\n",
       "      <td>00:00:01</td>\n",
       "      <td>1</td>\n",
       "    </tr>\n",
       "    <tr>\n",
       "      <th>3</th>\n",
       "      <td>108605</td>\n",
       "      <td>2127694</td>\n",
       "      <td>3738615</td>\n",
       "      <td>pv</td>\n",
       "      <td>2017-11-25</td>\n",
       "      <td>00:00:02</td>\n",
       "      <td>1</td>\n",
       "    </tr>\n",
       "    <tr>\n",
       "      <th>4</th>\n",
       "      <td>115350</td>\n",
       "      <td>3119944</td>\n",
       "      <td>3738615</td>\n",
       "      <td>pv</td>\n",
       "      <td>2017-11-25</td>\n",
       "      <td>00:00:02</td>\n",
       "      <td>1</td>\n",
       "    </tr>\n",
       "  </tbody>\n",
       "</table>\n",
       "</div>"
      ],
      "text/plain": [
       "    userID   itemID  category behavior        date      time  rating\n",
       "0  1001566  1249641   4217906       pv  2017-11-25  00:00:00       1\n",
       "1   117560   222276    669762       pv  2017-11-25  00:00:00       1\n",
       "2  1018000   511063   3455617       pv  2017-11-25  00:00:01       1\n",
       "3   108605  2127694   3738615       pv  2017-11-25  00:00:02       1\n",
       "4   115350  3119944   3738615       pv  2017-11-25  00:00:02       1"
      ]
     },
     "execution_count": 25,
     "metadata": {},
     "output_type": "execute_result"
    }
   ],
   "source": [
    "# Create a copy of the dataset to avoid modifying the original\n",
    "# All variables specific to the item-based recommender engine will be prefixed with \"ib_\"\n",
    "\n",
    "ib_data = train_dataset.copy()\n",
    "ib_data['rating'] = 1\n",
    "\n",
    "ib_data.head()"
   ]
  },
  {
   "cell_type": "markdown",
   "id": "c75284ea3e67803c",
   "metadata": {},
   "source": [
    "### Create Sparse Matrix and Item Similarity Matrix"
   ]
  },
  {
   "cell_type": "code",
   "execution_count": 26,
   "id": "3e4f429db32177a2",
   "metadata": {
    "ExecuteTime": {
     "end_time": "2023-11-16T04:32:12.940103Z",
     "start_time": "2023-11-16T04:31:56.312620Z"
    }
   },
   "outputs": [],
   "source": [
    "# Create a list of ratings for use in the sparse matrix\n",
    "ib_ratings = ib_data['rating'].tolist()\n",
    "\n",
    "# Calculate Sparse Matrix\n",
    "ib_sparse_matrix = csr_matrix((ib_ratings, (row, col)), shape=(len(user_u), len(item_u)))\n",
    "\n",
    "# Convert the Matrix into a DataFrame\n",
    "ib_user_item_matrix = pd.DataFrame.sparse.from_spmatrix(ib_sparse_matrix, index=user_u, columns=item_u)\n",
    "\n",
    "# Apply Cosine Similiarity algorithm to sparse matrix\n",
    "item_similarity_df = pd.DataFrame(cosine_similarity(ib_sparse_matrix).T, index=ib_user_item_matrix.index, columns=ib_user_item_matrix.index)"
   ]
  },
  {
   "cell_type": "markdown",
   "id": "dc1f582cb7646844",
   "metadata": {},
   "source": [
    "### Define Item-Based Recommendation Function"
   ]
  },
  {
   "cell_type": "code",
   "execution_count": 27,
   "id": "c73ae0a53082497b",
   "metadata": {
    "ExecuteTime": {
     "end_time": "2023-11-16T04:32:12.941738Z",
     "start_time": "2023-11-16T04:32:12.938722Z"
    },
    "executionInfo": {
     "elapsed": 7,
     "status": "ok",
     "timestamp": 1699713242525,
     "user": {
      "displayName": "Dharmesh Chaudhary",
      "userId": "07913134985138550333"
     },
     "user_tz": -660
    },
    "id": "yA0FtskNFOpH"
   },
   "outputs": [],
   "source": [
    "def item_based_recommendations(user_id, item_sim_df, user_item_matrix, top_users=5, top_items=5):\n",
    "    # Double check that the user_id is an integer\n",
    "    user_id = int(user_id)\n",
    "\n",
    "    # Find the top N similar users to the target user\n",
    "    similar_users = item_sim_df[user_id].sort_values(ascending=False)[1:top_users+1].index\n",
    "\n",
    "    # Sort the list of recommended items by their rating\n",
    "    recommendation_candidates = user_item_matrix.loc[similar_users].sum(axis=0).sort_values(ascending=False)\n",
    "\n",
    "    return recommendation_candidates.head(top_items)"
   ]
  },
  {
   "cell_type": "markdown",
   "id": "612e4c4efb978682",
   "metadata": {},
   "source": [
    "### Example Recommendations for a random user"
   ]
  },
  {
   "cell_type": "code",
   "execution_count": 28,
   "id": "7c1cd343ede3d628",
   "metadata": {
    "ExecuteTime": {
     "end_time": "2023-11-16T04:34:11.620554Z",
     "start_time": "2023-11-16T04:32:12.940884Z"
    },
    "colab": {
     "base_uri": "https://localhost:8080/",
     "height": 373
    },
    "executionInfo": {
     "elapsed": 42996,
     "status": "error",
     "timestamp": 1699713285514,
     "user": {
      "displayName": "Dharmesh Chaudhary",
      "userId": "07913134985138550333"
     },
     "user_tz": -660
    },
    "id": "9teCgomxFYBC",
    "outputId": "87867b8c-bae6-4474-b34f-c84f25f1e225"
   },
   "outputs": [
    {
     "name": "stdout",
     "output_type": "stream",
     "text": [
      "Recommended items for user 1119 by item-based RE: [1269144, 265985, 4848388, 2282775, 822820]\n"
     ]
    }
   ],
   "source": [
    "# Reuse the same target user and number of items as before:\n",
    "# target_user = 1119  # a UserID from the training dataset\n",
    "# top_n_users = 100   # number of similar users to consider\n",
    "# top_n_items = 5     # number of items to recommend\n",
    "\n",
    "ib_recs = item_based_recommendations(target_user, item_similarity_df, ib_user_item_matrix, top_n_users, top_n_items)\n",
    "print(f\"Recommended items for user {target_user} by item-based RE: {ib_recs.index.tolist()}\")"
   ]
  },
  {
   "cell_type": "markdown",
   "id": "38b3dd13ac98f7a8",
   "metadata": {},
   "source": [
    "## Evaluation"
   ]
  },
  {
   "cell_type": "code",
   "execution_count": 29,
   "id": "16c6f6fc",
   "metadata": {
    "ExecuteTime": {
     "end_time": "2023-11-16T05:53:43.012921Z",
     "start_time": "2023-11-16T05:53:41.594790Z"
    }
   },
   "outputs": [
    {
     "name": "stdout",
     "output_type": "stream",
     "text": [
      "We found 9 users in the test dataset who have interactions registered in the training dataset. Such as: [107932, 114948, 122504, 125674, 128379]\n"
     ]
    }
   ],
   "source": [
    "# Select only the users with 3 or more purchases in the test dataset who have interactions registered in the training dataset\n",
    "user_u_test = list(sorted(test_dataset.userID.unique()))\n",
    "test_data_buy = test_dataset[test_dataset['behavior']=='buy']\n",
    "user_u_buy_test = list(sorted(test_data_buy.userID.unique()))\n",
    "intsct_users = []\n",
    "for user in user_u_buy_test:\n",
    "    if len(test_data_buy[test_data_buy['userID']==user]) >= 10:\n",
    "        intsct_users.append(user)\n",
    "\n",
    "print(f\"We found {len(intsct_users):,} users in the test dataset who have interactions registered in the training dataset. Such as:\", intsct_users[:5])"
   ]
  },
  {
   "cell_type": "markdown",
   "id": "2979a51a5bac9067",
   "metadata": {},
   "source": [
    "### Define Evaluation Function"
   ]
  },
  {
   "cell_type": "code",
   "execution_count": 30,
   "id": "f35a72e8",
   "metadata": {
    "ExecuteTime": {
     "end_time": "2023-11-16T05:53:56.058189Z",
     "start_time": "2023-11-16T05:53:56.048350Z"
    }
   },
   "outputs": [],
   "source": [
    "def evaluate_re(name, re_func, user_similarity_df, user_item_matrix, target_users):\n",
    "    \"\"\"\n",
    "    \n",
    "    :param name: Name of the recommender engine;\n",
    "    :param re_func: the recommendation function to be evaluated;\n",
    "    :param user_similarity_df: the user_similarity_df of the training dataset;\n",
    "    :param user_item_matrix: the user_item_matrix of the training dataset;\n",
    "    :param target_users: Target users (from the intersection) to consider;\n",
    "    :return: \n",
    "    \"\"\"\n",
    "    global intsct_users, test_data_buy, test_dataset, top_n_users\n",
    "    \n",
    "    # Create stats object to store the results\n",
    "    stats = {'name': name,  'measurements' : { # 'Purchase-Only', 'Weighted-Interactions', 'Item-Based'\n",
    "             'Item Stats':     {'Precision': [], 'Recall': [], 'F1-Score': []},\n",
    "             'Category Stats': {'Precision': [], 'Recall': [], 'F1-Score': []}}}\n",
    "    \n",
    "    print(f\"Evaluating {name} Recommender Engine…\")\n",
    "    \n",
    "    # Iterate over all users in the intersection\n",
    "    for n, user_id in enumerate(target_users):\n",
    "        \n",
    "        # Find the target items and categories for this user\n",
    "        # target_items = test_data_buy[test_data_buy['userID'] == user_id]['itemID']\n",
    "        # n_target = len(target_items)\n",
    "        # \n",
    "        # hidden_categories = test_data_buy[test_data_buy['userID'] == user_id]['category']\n",
    "        \n",
    "        \n",
    "        \n",
    "        \n",
    "        target_items = test_dataset[test_dataset['userID'] == user_id]['itemID']\n",
    "        #################################################################################\n",
    "        # Might be changed here, only consider the top 10 items to fix the denominator  #\n",
    "        #                                                                               #\n",
    "        # target_items = test_dataset[test_dataset['userID'] == user_id]['itemID'][:10] #\n",
    "        #################################################################################\n",
    "        \n",
    "\n",
    "        n_target = len(target_items)\n",
    "        print(f\"\\tIntersecting User #{n+1}: {user_id} \\t ({n_target} bought items)\")\n",
    "        \n",
    "        hidden_categories = test_dataset[test_dataset['userID'] == user_id]['category']\n",
    "        \n",
    "        recommended_items = re_func(user_id, user_similarity_df, user_item_matrix,top_n_users,n_target)\n",
    "        \n",
    "        # print(type(recommended_items))\n",
    "        if isinstance(recommended_items, list):\n",
    "            recommended_item_list = recommended_items\n",
    "        else:\n",
    "            recommended_item_list = list(recommended_items.index)\n",
    "        filtered_df = train_dataset[train_dataset['itemID'].isin(recommended_item_list)]\n",
    "        recommended_categorie_set = set(filtered_df['category'])\n",
    "        true_categorie_set = set(hidden_categories.tolist())\n",
    "        \n",
    "\n",
    "        # 计算准确率和召回率\n",
    "        hits = recommended_items.index.isin(target_items)\n",
    "        n_hits = sum(hits)\n",
    "        \n",
    "        precision = n_hits / len(recommended_items) if len(recommended_items) > 0 else 0\n",
    "        recall = n_hits / n_target if n_target > 0 else 0\n",
    "        \n",
    "        hits2 = list(recommended_categorie_set.intersection(true_categorie_set))\n",
    "        n_hits2 = len(hits2)\n",
    "        \n",
    "        precision2 = n_hits2 / len(recommended_categorie_set) if len(recommended_categorie_set) > 0 else 0\n",
    "        recall2 = n_hits2 / len(true_categorie_set) if len(true_categorie_set) > 0 else 0\n",
    "        \n",
    "        if precision + recall > 0:\n",
    "            f1_score = 2 * (precision * recall) / (precision + recall)\n",
    "        else:\n",
    "            f1_score = 0.0\n",
    "\n",
    "        if precision2 + recall2 > 0:\n",
    "            f1_score2 = 2 * (precision2 * recall2) / (precision2 + recall2)\n",
    "        else:\n",
    "            f1_score2 = 0.0\n",
    "        \n",
    "        stats['measurements']['Item Stats']['Precision'].append(precision)\n",
    "        stats['measurements']['Item Stats']['Recall'].append(recall)\n",
    "        stats['measurements']['Item Stats']['F1-Score'].append(f1_score)\n",
    "        stats['measurements']['Category Stats']['Precision'].append(precision2)\n",
    "        stats['measurements']['Category Stats']['Recall'].append(recall2)\n",
    "        stats['measurements']['Category Stats']['F1-Score'].append(f1_score2)\n",
    "    \n",
    "    print()\n",
    "    \n",
    "    return stats\n",
    "\n",
    "def format_msmt(measurements):\n",
    "    \"\"\"\n",
    "    Calculates the mean of a list of measurements and formats it as a percentage.\n",
    "    \n",
    "    :param measurements: the list of measurements to be formatted.\n",
    "    :return: a formatted measurement string.\n",
    "    \"\"\"\n",
    "    return f\"{mean(measurements)*100:.02f}%\" if len(measurements) > 0 else \"0.00%\"\n",
    "\n",
    "\n",
    "def print_stats(stats):\n",
    "    \"\"\"\n",
    "    Prints the statistics for one or more recommender engines.\n",
    "    \n",
    "    :param stats: the statistics for a given recommender engine.\n",
    "    \"\"\"\n",
    "    if not isinstance(stats, list):\n",
    "        stats = [stats]\n",
    "    \n",
    "    for stat in stats:\n",
    "        print(f\"Engine: {stat['name']}\")\n",
    "        for t, m in stat['measurements'].items():\n",
    "            print(f\"\\t{t}\")\n",
    "            for k, v in m.items():\n",
    "                print(f\"\\t\\t{k}: {format_msmt(v)}\")\n",
    "        print()"
   ]
  },
  {
   "cell_type": "markdown",
   "id": "ad708abbea8dd817",
   "metadata": {},
   "source": [
    "### Evaluate the Three Recommender Engines"
   ]
  },
  {
   "cell_type": "code",
   "execution_count": 31,
   "id": "a6442e47a98a5028",
   "metadata": {},
   "outputs": [
    {
     "name": "stdout",
     "output_type": "stream",
     "text": [
      "9\n",
      "Evaluating Purchase-Only Recommender Engine…\n",
      "\tIntersecting User #1: 128379 \t (14 bought items)\n",
      "\tIntersecting User #2: 125674 \t (112 bought items)\n",
      "\tIntersecting User #3: 1010219 \t (68 bought items)\n",
      "\tIntersecting User #4: 1010219 \t (68 bought items)\n",
      "\tIntersecting User #5: 122504 \t (17 bought items)\n",
      "\tIntersecting User #6: 125674 \t (112 bought items)\n",
      "\tIntersecting User #7: 125674 \t (112 bought items)\n",
      "\tIntersecting User #8: 1011652 \t (60 bought items)\n",
      "\tIntersecting User #9: 122504 \t (17 bought items)\n",
      "\n",
      "Evaluating Weighted-Interactions Recommender Engine…\n",
      "\tIntersecting User #1: 128379 \t (14 bought items)\n",
      "\tIntersecting User #2: 125674 \t (112 bought items)\n",
      "\tIntersecting User #3: 1010219 \t (68 bought items)\n",
      "\tIntersecting User #4: 1010219 \t (68 bought items)\n",
      "\tIntersecting User #5: 122504 \t (17 bought items)\n",
      "\tIntersecting User #6: 125674 \t (112 bought items)\n",
      "\tIntersecting User #7: 125674 \t (112 bought items)\n",
      "\tIntersecting User #8: 1011652 \t (60 bought items)\n",
      "\tIntersecting User #9: 122504 \t (17 bought items)\n",
      "\n",
      "Evaluating Item-Based Recommender Engine…\n",
      "\tIntersecting User #1: 128379 \t (14 bought items)\n",
      "\tIntersecting User #2: 125674 \t (112 bought items)\n",
      "\tIntersecting User #3: 1010219 \t (68 bought items)\n",
      "\tIntersecting User #4: 1010219 \t (68 bought items)\n",
      "\tIntersecting User #5: 122504 \t (17 bought items)\n",
      "\tIntersecting User #6: 125674 \t (112 bought items)\n",
      "\tIntersecting User #7: 125674 \t (112 bought items)\n",
      "\tIntersecting User #8: 1011652 \t (60 bought items)\n",
      "\tIntersecting User #9: 122504 \t (17 bought items)\n"
     ]
    }
   ],
   "source": [
    "# TODO: Define number of intersecting users to consider when evaluating the recommender engines\n",
    "ni_users = min(10, len(intsct_users))\n",
    "print(ni_users)\n",
    "# Randomly select ni_users from the intersection\n",
    "# assert ni_users <= len(intsct_users), f\"ni_users ({ni_users}) must be less than or equal to the number of intersecting users ({len(intsct_users)}).\"\n",
    "slctd_users = choices(intsct_users, k=ni_users)\n",
    "\n",
    "# Evaluate the three recommender engines\n",
    "engine_stats = [\n",
    "    evaluate_re('Purchase-Only', user_based_recommendations, po_user_similarity_df, po_user_item_matrix, slctd_users),\n",
    "    evaluate_re('Weighted-Interactions', user_based_recommendations, wi_user_similarity_df, wi_user_item_matrix, slctd_users),\n",
    "    evaluate_re('Item-Based', item_based_recommendations, item_similarity_df, ib_user_item_matrix, slctd_users)\n",
    "]"
   ]
  },
  {
   "cell_type": "markdown",
   "id": "e1636363b7071fe6",
   "metadata": {},
   "source": [
    "#### Print Statistics"
   ]
  },
  {
   "cell_type": "code",
   "execution_count": 32,
   "id": "e9b23aea",
   "metadata": {
    "ExecuteTime": {
     "start_time": "2023-11-16T05:54:19.150260Z"
    }
   },
   "outputs": [
    {
     "name": "stdout",
     "output_type": "stream",
     "text": [
      "Engine: Purchase-Only\n",
      "\tItem Stats\n",
      "\t\tPrecision: 0.00%\n",
      "\t\tRecall: 0.00%\n",
      "\t\tF1-Score: 0.00%\n",
      "\tCategory Stats\n",
      "\t\tPrecision: 4.44%\n",
      "\t\tRecall: 11.40%\n",
      "\t\tF1-Score: 6.02%\n",
      "\n",
      "Engine: Weighted-Interactions\n",
      "\tItem Stats\n",
      "\t\tPrecision: 0.30%\n",
      "\t\tRecall: 0.30%\n",
      "\t\tF1-Score: 0.30%\n",
      "\tCategory Stats\n",
      "\t\tPrecision: 7.06%\n",
      "\t\tRecall: 16.96%\n",
      "\t\tF1-Score: 9.49%\n",
      "\n",
      "Engine: Item-Based\n",
      "\tItem Stats\n",
      "\t\tPrecision: 1.79%\n",
      "\t\tRecall: 1.79%\n",
      "\t\tF1-Score: 1.79%\n",
      "\tCategory Stats\n",
      "\t\tPrecision: 8.91%\n",
      "\t\tRecall: 15.81%\n",
      "\t\tF1-Score: 10.98%\n"
     ]
    }
   ],
   "source": [
    "print_stats(engine_stats)"
   ]
  },
  {
   "cell_type": "markdown",
   "id": "37bcfae137972c6c",
   "metadata": {},
   "source": [
    "#### Plot Statistics"
   ]
  },
  {
   "cell_type": "code",
   "execution_count": 33,
   "id": "99667b1e75c7d283",
   "metadata": {
    "ExecuteTime": {
     "end_time": "2023-11-17T01:36:51.950070Z",
     "start_time": "2023-11-17T01:36:51.239265Z"
    }
   },
   "outputs": [
    {
     "data": {
      "image/png": "[encoded data removed]",
      "text/plain": [
       "<Figure size 3000x2000 with 6 Axes>"
      ]
     },
     "metadata": {},
     "output_type": "display_data"
    }
   ],
   "source": [
    "engines = [\"Purchase\\nOnly\", \"Weighted\\nInteractions\", \"Item\\nBased\"]\n",
    "\n",
    "# Item Stats\n",
    "item_precision = [0.16, 0.42, 7.26]\n",
    "item_recall = [0.16, 0.42, 7.26]\n",
    "item_f1_score = [0.16, 0.42, 7.26]\n",
    "\n",
    "# Category Stats\n",
    "category_precision = [5.98, 14.39, 22.26]\n",
    "category_recall = [10.52, 22.36, 26.10]\n",
    "category_f1_score = [7.29, 17.04, 23.41]\n",
    "# fig, axes = plt.subplots(2, 3, figsize=(25, 15))\n",
    "fig, axes = plt.subplots(2, 3, figsize=(30, 20)) \n",
    "plt.subplots_adjust(hspace=0.4, wspace=0.3)\n",
    "\n",
    "max_y_value = max(max(item_precision), max(item_recall), max(item_f1_score), \n",
    "                  max(category_precision), max(category_recall), max(category_f1_score)) + 5\n",
    "\n",
    "# Item Stats\n",
    "axes[0, 0].bar(engines, item_precision, color='blue')\n",
    "axes[0, 0].set_title('Item Precision')\n",
    "axes[0, 0].set_ylim(0, max_y_value)\n",
    "\n",
    "axes[0, 1].bar(engines, item_recall, color='green')\n",
    "axes[0, 1].set_title('Item Recall')\n",
    "axes[0, 1].set_ylim(0, max_y_value)\n",
    "\n",
    "axes[0, 2].bar(engines, item_f1_score, color='red')\n",
    "axes[0, 2].set_title('Item F1-Score')\n",
    "axes[0, 2].set_ylim(0, max_y_value)\n",
    "\n",
    "# Category Stats\n",
    "axes[1, 0].bar(engines, category_precision, color='blue')\n",
    "axes[1, 0].set_title('Category Precision')\n",
    "axes[1, 0].set_ylim(0, max_y_value)\n",
    "\n",
    "axes[1, 1].bar(engines, category_recall, color='green')\n",
    "axes[1, 1].set_title('Category Recall')\n",
    "axes[1, 1].set_ylim(0, max_y_value)\n",
    "\n",
    "axes[1, 2].bar(engines, category_f1_score, color='red')\n",
    "axes[1, 2].set_title('Category F1-Score')\n",
    "axes[1, 2].set_ylim(0, max_y_value)\n",
    "\n",
    "# plt.tight_layout()\n",
    "for ax in axes.flat:\n",
    "    ax.title.set_size(20) # Increase title font size\n",
    "    # ax.title.set_pad(20)  # Adjust the padding\n",
    "    ax.tick_params(axis='both', which='major', labelsize=20)\n",
    "\n",
    "\n",
    "plt.show()"
   ]
  },
  {
   "cell_type": "code",
   "execution_count": 1,
   "id": "94b409c29d63ce1d",
   "metadata": {},
   "outputs": [
    {
     "data": {
      "image/png": "[encoded data removed]",
      "text/plain": [
       "<Figure size 3000x2000 with 6 Axes>"
      ]
     },
     "metadata": {},
     "output_type": "display_data"
    }
   ],
   "source": [
    "import matplotlib.pyplot as plt\n",
    "\n",
    "engines = [\"Purchase\\nOnly\", \"Weighted\\nInteractions\", \"Item\\nBased\"]\n",
    "\n",
    "# Item Stats\n",
    "item_precision = [0,0.3,1.79]\n",
    "item_recall = [0,0.3,1.79]\n",
    "item_f1_score = [0,0.3,1.79]\n",
    "\n",
    "# Category Stats\n",
    "category_precision = [4.44,7.06,8.91]\n",
    "category_recall = [11.4,16.96,15.81]\n",
    "category_f1_score = [6.02,9.49,10.98]\n",
    "# fig, axes = plt.subplots(2, 3, figsize=(25, 15))\n",
    "fig, axes = plt.subplots(2, 3, figsize=(30, 20)) \n",
    "plt.subplots_adjust(hspace=0.4, wspace=0.3)\n",
    "\n",
    "max_y_value = max(max(item_precision), max(item_recall), max(item_f1_score), \n",
    "                  max(category_precision), max(category_recall), max(category_f1_score)) + 5\n",
    "\n",
    "# Item Stats\n",
    "axes[0, 0].bar(engines, item_precision, color='blue')\n",
    "axes[0, 0].set_title('Item Precision')\n",
    "axes[0, 0].set_ylim(0, max_y_value)\n",
    "\n",
    "axes[0, 1].bar(engines, item_recall, color='green')\n",
    "axes[0, 1].set_title('Item Recall')\n",
    "axes[0, 1].set_ylim(0, max_y_value)\n",
    "\n",
    "axes[0, 2].bar(engines, item_f1_score, color='red')\n",
    "axes[0, 2].set_title('Item F1-Score')\n",
    "axes[0, 2].set_ylim(0, max_y_value)\n",
    "\n",
    "# Category Stats\n",
    "axes[1, 0].bar(engines, category_precision, color='blue')\n",
    "axes[1, 0].set_title('Category Precision')\n",
    "axes[1, 0].set_ylim(0, max_y_value)\n",
    "\n",
    "axes[1, 1].bar(engines, category_recall, color='green')\n",
    "axes[1, 1].set_title('Category Recall')\n",
    "axes[1, 1].set_ylim(0, max_y_value)\n",
    "\n",
    "axes[1, 2].bar(engines, category_f1_score, color='red')\n",
    "axes[1, 2].set_title('Category F1-Score')\n",
    "axes[1, 2].set_ylim(0, max_y_value)\n",
    "\n",
    "# plt.tight_layout()\n",
    "for ax in axes.flat:\n",
    "    ax.title.set_size(20) # Increase title font size\n",
    "    # ax.title.set_pad(20)  # Adjust the padding\n",
    "    ax.tick_params(axis='both', which='major', labelsize=20)\n",
    "\n",
    "\n",
    "plt.show()"
   ]
  }
 ],
 "metadata": {
  "accelerator": "GPU",
  "colab": {
   "machine_shape": "hm",
   "name": "",
   "version": ""
  },
  "kernelspec": {
   "display_name": "Python 3 (ipykernel)",
   "language": "python",
   "name": "python3"
  },
  "language_info": {
   "codemirror_mode": {
    "name": "ipython",
    "version": 3
   },
   "file_extension": ".py",
   "mimetype": "text/x-python",
   "name": "python",
   "nbconvert_exporter": "python",
   "pygments_lexer": "ipython3",
   "version": "3.9.13"
  }
 },
 "nbformat": 4,
 "nbformat_minor": 5
}
