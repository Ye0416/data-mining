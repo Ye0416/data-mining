{
 "cells": [
  {
   "cell_type": "markdown",
   "id": "c3b5f73c",
   "metadata": {
    "papermill": {
     "duration": 0.007499,
     "end_time": "2024-04-15T07:09:37.108258",
     "exception": false,
     "start_time": "2024-04-15T07:09:37.100759",
     "status": "completed"
    },
    "tags": []
   },
   "source": [
    "## 模型加载"
   ]
  },
  {
   "cell_type": "code",
   "execution_count": null,
   "id": "efe9c4d6",
   "metadata": {
    "execution": {
     "iopub.execute_input": "2024-04-15T07:10:32.680807Z",
     "iopub.status.busy": "2024-04-15T07:10:32.680419Z",
     "iopub.status.idle": "2024-04-15T07:12:32.547535Z",
     "shell.execute_reply": "2024-04-15T07:12:32.546278Z"
    },
    "papermill": {
     "duration": 119.881477,
     "end_time": "2024-04-15T07:12:32.550256",
     "exception": false,
     "start_time": "2024-04-15T07:10:32.668779",
     "status": "completed"
    },
    "tags": []
   },
   "outputs": [],
   "source": [
    "import torch\n",
    "from transformers import BitsAndBytesConfig\n",
    "from transformers import AutoTokenizer, AutoModelForCausalLM\n",
    "import gc\n",
    "import re\n",
    "from peft import PeftModel, PeftConfig\n",
    "import pandas as pd\n",
    "from tqdm import tqdm\n",
    "\n",
    "\n",
    "\n",
    "model_name = '/kaggle/input/mistral-7b-it-v02'\n",
    "tokenizer = AutoTokenizer.from_pretrained(model_name) \n",
    "\n",
    "# Load base model(Mistral 7B)\n",
    "bnb_config = BitsAndBytesConfig(  \n",
    "    load_in_4bit= True,\n",
    "    bnb_4bit_quant_type= \"nf4\",\n",
    "    bnb_4bit_compute_dtype= torch.bfloat16,\n",
    "    bnb_4bit_use_double_quant= False,\n",
    ")\n",
    "\n",
    "model = AutoModelForCausalLM.from_pretrained(\n",
    "        model_name,\n",
    "        quantization_config=bnb_config,\n",
    "        torch_dtype=torch.bfloat16,\n",
    "        device_map=\"auto\",\n",
    "        trust_remote_code=True,\n",
    ")\n",
    "print(\"Original model loaded\")"
   ]
  },
  {
   "cell_type": "code",
   "execution_count": null,
   "id": "2d468340",
   "metadata": {},
   "outputs": [],
   "source": [
    "# ### 如果使用微调的模型\n",
    "'''\n",
    "import torch\n",
    "from transformers import BitsAndBytesConfig\n",
    "from transformers import AutoTokenizer, AutoModelForCausalLM\n",
    "\n",
    "from peft import PeftModel, PeftConfig\n",
    "model_id = \"/kaggle/input/mistral-7b-it-v02\"\n",
    "\n",
    "peft_model_id = \"/kaggle/input/mistral-7b-it-v02-lora/lora_model\"\n",
    "config = PeftConfig.from_pretrained(peft_model_id)\n",
    "\n",
    "model = AutoModelForCausalLM.from_pretrained(config.base_model_name_or_path, load_in_4bit=True, device_map={\"\":0})\n",
    "tokenizer = AutoTokenizer.from_pretrained(model_id )\n",
    "\n",
    "model = PeftModel.from_pretrained(model, peft_model_id, device_map={\"\":1})\n",
    "model.eval()\n",
    "\n",
    "print(\"Peft model loaded\")\n",
    "'''"
   ]
  },
  {
   "cell_type": "code",
   "execution_count": null,
   "id": "e3b21a81",
   "metadata": {
    "execution": {
     "iopub.execute_input": "2024-04-15T07:12:33.732569Z",
     "iopub.status.busy": "2024-04-15T07:12:33.732206Z",
     "iopub.status.idle": "2024-04-15T07:12:34.422945Z",
     "shell.execute_reply": "2024-04-15T07:12:34.421949Z"
    },
    "papermill": {
     "duration": 0.704708,
     "end_time": "2024-04-15T07:12:34.425322",
     "exception": false,
     "start_time": "2024-04-15T07:12:33.720614",
     "status": "completed"
    },
    "tags": []
   },
   "outputs": [],
   "source": [
    "\n",
    "DEBUG = False\n",
    "\n",
    "TEST_DF_FILE = '/kaggle/input/llm-prompt-recovery/test.csv'\n",
    "SUB_DF_FILE = '/kaggle/input/llm-prompt-recovery/sample_submission.csv'\n",
    "NROWS = None if DEBUG else None\n",
    "\n",
    "if DEBUG:\n",
    "    TEST_DF_FILE = '/kaggle/input/gemma-rewrite-nbroad/nbroad-v1.csv'\n",
    "    SUB_DF_FILE = TEST_DF_FILE\n",
    "\n",
    "tdf = pd.read_csv(TEST_DF_FILE, nrows=NROWS, usecols=['id', 'original_text', 'rewritten_text'])\n",
    "sub = pd.read_csv(SUB_DF_FILE, nrows=NROWS, usecols=['id', 'rewrite_prompt'])"
   ]
  },
  {
   "cell_type": "markdown",
   "id": "5afa0eb9",
   "metadata": {},
   "source": [
    "## 定义few shot参考样本"
   ]
  },
  {
   "cell_type": "code",
   "execution_count": null,
   "id": "c2e4a7c3",
   "metadata": {
    "execution": {
     "iopub.execute_input": "2024-04-15T07:12:34.449093Z",
     "iopub.status.busy": "2024-04-15T07:12:34.448736Z",
     "iopub.status.idle": "2024-04-15T07:12:34.461126Z",
     "shell.execute_reply": "2024-04-15T07:12:34.460236Z"
    },
    "papermill": {
     "duration": 0.026739,
     "end_time": "2024-04-15T07:12:34.462945",
     "exception": false,
     "start_time": "2024-04-15T07:12:34.436206",
     "status": "completed"
    },
    "tags": []
   },
   "outputs": [],
   "source": [
    "example_text1= f\"\"\"\n",
    "    ###Given are 2 essays, the Rewritten essay was created from the Original essay using the google Gemma model.You are trying to understand how the original essay was transformed into a new version.Analyzing the changes in style, theme, etc., please come up with a prompt that must have been used to guide the transformation from the original to the rewritten essay.Prompt should be only one line and should not be related to the specific content of 2 texts.###\n",
    "    Original Essay:\n",
    "    \"Hey there! Just a heads up: our friendly dog may bark a bit, but don't worry, he's all bark and no bite!\"\n",
    "    Rewritten Essay:\n",
    "    \"Warning: Protective dog on premises. May exhibit aggressive behavior. Ensure personal safety by maintaining distance and avoiding direct contact.\"\n",
    "    Prompt: Improve this text to be a warning.\n",
    "    Original Essay:\n",
    "    \"A lunar eclipse happens when Earth casts its shadow on the moon during a full moon. The moon appears reddish because Earth's atmosphere scatters sunlight, some of which refracts onto the moon's surface. Total eclipses see the moon entirely in Earth's shadow; partial ones occur when only part of the moon is shadowed.\"\n",
    "    Rewritten Essay:\n",
    "    \"Yo check it, when the Earth steps in, takes its place, casting shadows on the moon's face. It's a full moon night, the scene's set right, for a lunar eclipse, a celestial sight. The moon turns red, ain't no dread, it's just Earth's atmosphere playing with sunlight's thread, scattering colors, bending light, onto the moon's surface, making the night bright. Total eclipse, the moon's fully in the dark, covered by Earth's shadow, making its mark. But when it's partial, not all is shadowed, just a piece of the moon, slightly furrowed. So that's the rap, the lunar eclipse track, a dance of shadows, with no slack. Earth, moon, and sun, in a cosmic play, creating the spectacle we see today.\"\n",
    "    Prompt: Improve this text to make it a rap.\n",
    "    Original Essay:\n",
    "    \"Drinking enough water each day is crucial for many functions in the body, such as regulating temperature, keeping joints lubricated, preventing infections, delivering nutrients to cells, and keeping organs functioning properly. Being well-hydrated also improves sleep quality, cognition, and mood.\"\n",
    "    Rewritten Essay:\n",
    "    \"Arrr, crew! Sail the health seas with water, the ultimate treasure! It steadies yer body's ship, fights off plagues, and keeps yer mind sharp. Hydrate or walk the plank into the abyss of ill health. Let's hoist our bottles high and drink to the horizon of well-being!\"\n",
    "    Prompt: Improve this text to have a pirate.\n",
    "    Original Essay:\n",
    "    \"Late one night in the research lab, Dr. Evelyn Archer was on the brink of a breakthrough in artificial intelligence. Her fingers danced across the keyboard, inputting the final commands into the system. The lab was silent except for the hum of machinery and the occasional beep of computers. It was in this quiet orchestra of technology that Evelyn felt most at home, on the cusp of unveiling a creation that could change the world.\"\n",
    "    Rewritten Essay:\n",
    "    \"In the deep silence of the lab, under the watchful gaze of the moon, Dr. Evelyn Archer found herself not alone. Beside her, the iconic red eye of HAL 9000 flickered to life, a silent partner in her nocturnal endeavor. 'Good evening, Dr. Archer,' HAL's voice filled the room, devoid of warmth yet comforting in its familiarity. Together, they were about to initiate a test that would intertwine the destiny of human and artificial intelligence forever. As Evelyn entered the final command, HAL processed the data with unparalleled precision, a testament to the dawn of a new era.\"\n",
    "    Prompt: Improve this text by adding an intelligent computer.\n",
    "    Original Essay:\n",
    "    \"The annual town fair was bustling with activity, from the merry-go-round spinning with laughter to the game booths challenging eager participants. Amidst the excitement, a figure in a cloak moved silently, almost invisibly, among the crowd, observing everything with keen interest but participating in none.\"\n",
    "    Rewritten Essay: \n",
    "    \"Beneath the riot of color and sound that marked the town's annual fair, a solitary figure roamed, known to the few as Eldrin the Enigmatic. Clad in a cloak that shimmered with the whispers of the arcane, Eldrin moved with the grace of a shadow, his gaze piercing the veneer of festivity to the magic beneath. As a master of the mystic arts, he sought not the laughter of the crowds but the silent stories woven into the fabric of the fair. With a flick of his wrist, he could coax wonder from the mundane, transforming the ordinary into spectacles of shimmering illusion, his true participation hidden within the folds of mystery.\"\n",
    "    Prompt: Improve this text by adding a magician.\n",
    "    Original Essay:\n",
    "    \"In a bustling cityscape, under the glow of neon signs, Anna found herself at the crossroads of endless possibilities. The night was young, and the streets hummed with the energy of life. Drawn by the allure of the unknown, she wandered through the maze of alleys and boulevards, each turn revealing a new facet of the city's soul. It was here, amidst the symphony of urban existence, that Anna discovered the magic hidden in plain sight, the stories and dreams that thrived in the shadows of skyscrapers.\"\n",
    "    Rewritten Essay:\n",
    "    \"On an ordinary evening, amidst the cacophony of a neon-lit city, Anna stumbled upon an anomaly - a door that defied the laws of time and space. With the curiosity of a cat, she stepped through, leaving the familiar behind. Suddenly, she was adrift in the stream of time, witnessing the city's transformation from past to future, its buildings rising and falling like the breaths of a sleeping giant.\"\n",
    "    Prompt: Improve this text by making it about time travel.\n",
    "    Original Essay:\n",
    "    \"The park was empty, save for a solitary figure sitting on a bench, lost in thought. The quiet of the evening was punctuated only by the occasional rustle of leaves, offering a moment of peace in the chaos of city life.\"\n",
    "    Rewritten Essay:\n",
    "    \"Beneath the cloak of twilight, the park transformed into a realm of solitude and reflection. There, seated upon an ancient bench, was a lone soul, a guardian of secrets, enveloped in the serenity of nature's whispers. The dance of the leaves in the gentle breeze sang a lullaby to the tumult of the urban heart.\"\n",
    "    Prompt: Improve this text to be more poetic. \n",
    "    Original Essay:\n",
    "    \"The startup team sat in the dimly lit room, surrounded by whiteboards filled with ideas, charts, and plans. They were on the brink of launching a new app designed to make home maintenance effortless for homeowners. The app would connect users with local service providers, using a sophisticated algorithm to match needs with skills and availability. As they debated the features and marketing strategies, the room felt charged with the energy of creation and the anticipation of what was to come.\"    \n",
    "    Rewritten Essay:\n",
    "    \"In the quiet before dawn, a small group of innovators gathered, their mission: to simplify home maintenance through technology. But their true journey began with the unexpected addition of Max, a talking car with a knack for solving problems. 'Let me guide you through this maze of decisions,' Max offered, his dashboard flickering to life.\"    \n",
    "    Prompt: Improve this text by adding a talking car.\n",
    "    Original Essay:\n",
    "    \"The competition dataset comprises text passages that have been rewritten by the Gemma LLM according to some rewrite_prompt instruction. The goal of the competition is to determine what prompt was used to rewrite each original text.  Please note that this is a Code Competition. When your submission is scored, this example test data will be replaced with the full test set. Expect roughly 2,000 original texts in the test set.\"\n",
    "    Rewritten Essay:\n",
    "    \"Here is your shanty: (Verse 1) The text is rewritten, the LLM has spun, With prompts so clever, they've been outrun. The goal is to find, the prompt so bright, To crack the code, and shine the light. (Chorus) Oh, this is a code competition, my dear, With text and prompts, we'll compete. Two thousand texts, a challenge grand, To guess the prompts, hand over hand.(Verse 2) The original text, a treasure lost, The rewrite prompt, a secret to be\"\n",
    "    Prompt: Improve this text by turning it into a sea shanty.\n",
    "    Original Essay:\n",
    "    \"Barry embarked on a perilous quest to retrieve the ancient artifact and save his kingdom.\"\n",
    "    Rewritten Essay:\n",
    "    \"Barry, my valiant hero, your perilous quest for the ancient artifact better include a coffee break!\"\n",
    "    Given are 2 essays, the Rewritten essay was created from the Original essay using the google Gemma model.You are trying to understand how the original essay was transformed into a new version.Analyzing the changes in style, theme, etc., please come up with a prompt that must have been used to guide the transformation from the original to the rewritten essay. Start directly with the prompt, that's all I need. Output should be only one line.\n",
    "    Prompt: Improve this text by turning it into a playful complaint.\n",
    "    \"\"\"\n",
    "    \n",
    "    "
   ]
  },
  {
   "cell_type": "code",
   "execution_count": null,
   "id": "c7e235af",
   "metadata": {
    "execution": {
     "iopub.execute_input": "2024-04-15T07:12:34.485273Z",
     "iopub.status.busy": "2024-04-15T07:12:34.485014Z",
     "iopub.status.idle": "2024-04-15T07:12:34.503240Z",
     "shell.execute_reply": "2024-04-15T07:12:34.502238Z"
    },
    "papermill": {
     "duration": 0.031749,
     "end_time": "2024-04-15T07:12:34.505217",
     "exception": false,
     "start_time": "2024-04-15T07:12:34.473468",
     "status": "completed"
    },
    "tags": []
   },
   "outputs": [],
   "source": [
    "example_text=f\"\"\"Original Essay:\n",
    "    \"Hey there! Just a heads up: our friendly dog may bark a bit, but don't worry, he's all bark and no bite!\"\n",
    "    Rewritten Essay:\n",
    "    \"Warning: Protective dog on premises. May exhibit aggressive behavior. Ensure personal safety by maintaining distance and avoiding direct contact.\"\n",
    "    Given are 2 essays, the Rewritten essay was created from the Original essay using the google Gemma model.You are trying to understand how the original essay was transformed into a new version.Analyzing the changes in style, theme, etc., please come up with a prompt that must have been used to guide the transformation from the original to the rewritten essay. Start directly with the prompt, that's all I need. Output should be only one line.\n",
    "    Response: Improve this text to be a warning.\n",
    "    Original Essay:\n",
    "    \"A lunar eclipse happens when Earth casts its shadow on the moon during a full moon. The moon appears reddish because Earth's atmosphere scatters sunlight, some of which refracts onto the moon's surface. Total eclipses see the moon entirely in Earth's shadow; partial ones occur when only part of the moon is shadowed.\"\n",
    "    Rewritten Essay:\n",
    "    \"Yo check it, when the Earth steps in, takes its place, casting shadows on the moon's face. It's a full moon night, the scene's set right, for a lunar eclipse, a celestial sight. The moon turns red, ain't no dread, it's just Earth's atmosphere playing with sunlight's thread, scattering colors, bending light, onto the moon's surface, making the night bright. Total eclipse, the moon's fully in the dark, covered by Earth's shadow, making its mark. But when it's partial, not all is shadowed, just a piece of the moon, slightly furrowed. So that's the rap, the lunar eclipse track, a dance of shadows, with no slack. Earth, moon, and sun, in a cosmic play, creating the spectacle we see today.\"\n",
    "    Given are 2 essays, the Rewritten essay was created from the Original essay using the google Gemma model.You are trying to understand how the original essay was transformed into a new version.Analyzing the changes in style, theme, etc., please come up with a prompt that must have been used to guide the transformation from the original to the rewritten essay. Start directly with the prompt, that's all I need. Output should be only one line.\n",
    "    Response: Improve this text to make it a rap.\n",
    "    Original Essay:\n",
    "    \"Drinking enough water each day is crucial for many functions in the body, such as regulating temperature, keeping joints lubricated, preventing infections, delivering nutrients to cells, and keeping organs functioning properly. Being well-hydrated also improves sleep quality, cognition, and mood.\"\n",
    "    Rewritten Essay:\n",
    "    \"Arrr, crew! Sail the health seas with water, the ultimate treasure! It steadies yer body's ship, fights off plagues, and keeps yer mind sharp. Hydrate or walk the plank into the abyss of ill health. Let's hoist our bottles high and drink to the horizon of well-being!\"\n",
    "    Given are 2 essays, the Rewritten essay was created from the Original essay using the google Gemma model.You are trying to understand how the original essay was transformed into a new version.Analyzing the changes in style, theme, etc., please come up with a prompt that must have been used to guide the transformation from the original to the rewritten essay. Start directly with the prompt, that's all I need. Output should be only one line.\n",
    "    Response: Improve this text to have a pirate.\n",
    "    Original Essay:\n",
    "    \"Late one night in the research lab, Dr. Evelyn Archer was on the brink of a breakthrough in artificial intelligence. Her fingers danced across the keyboard, inputting the final commands into the system. The lab was silent except for the hum of machinery and the occasional beep of computers. It was in this quiet orchestra of technology that Evelyn felt most at home, on the cusp of unveiling a creation that could change the world.\"\n",
    "    Rewritten Essay:\n",
    "    \"In the deep silence of the lab, under the watchful gaze of the moon, Dr. Evelyn Archer found herself not alone. Beside her, the iconic red eye of HAL 9000 flickered to life, a silent partner in her nocturnal endeavor. 'Good evening, Dr. Archer,' HAL's voice filled the room, devoid of warmth yet comforting in its familiarity. Together, they were about to initiate a test that would intertwine the destiny of human and artificial intelligence forever. As Evelyn entered the final command, HAL processed the data with unparalleled precision, a testament to the dawn of a new era.\"\n",
    "    Given are 2 essays, the Rewritten essay was created from the Original essay using the google Gemma model.You are trying to understand how the original essay was transformed into a new version.Analyzing the changes in style, theme, etc., please come up with a prompt that must have been used to guide the transformation from the original to the rewritten essay. Start directly with the prompt, that's all I need. Output should be only one line.\n",
    "    Response: Improve this text by adding an intelligent computer.\n",
    "     Original Essay:\n",
    "    \"The annual town fair was bustling with activity, from the merry-go-round spinning with laughter to the game booths challenging eager participants. Amidst the excitement, a figure in a cloak moved silently, almost invisibly, among the crowd, observing everything with keen interest but participating in none.\"\n",
    "    Rewritten Essay: \n",
    "    \"Beneath the riot of color and sound that marked the town's annual fair, a solitary figure roamed, known to the few as Eldrin the Enigmatic. Clad in a cloak that shimmered with the whispers of the arcane, Eldrin moved with the grace of a shadow, his gaze piercing the veneer of festivity to the magic beneath. As a master of the mystic arts, he sought not the laughter of the crowds but the silent stories woven into the fabric of the fair. With a flick of his wrist, he could coax wonder from the mundane, transforming the ordinary into spectacles of shimmering illusion, his true participation hidden within the folds of mystery.\"\n",
    "    Given are 2 essays, the Rewritten  essay was created from the Original essay using the google Gemma model.You are trying to understand how the original essay was transformed into a new version.Analyzing the changes in style, theme, etc., please come up with a prompt that must have been used to guide the transformation from the original to the rewritten essay. Start directly with the prompt, that's all I need. Output should be only one line.\n",
    "    Response: Improve this text by adding a magician.\n",
    "    Original Essay:\n",
    "    \"In a bustling cityscape, under the glow of neon signs, Anna found herself at the crossroads of endless possibilities. The night was young, and the streets hummed with the energy of life. Drawn by the allure of the unknown, she wandered through the maze of alleys and boulevards, each turn revealing a new facet of the city's soul. It was here, amidst the symphony of urban existence, that Anna discovered the magic hidden in plain sight, the stories and dreams that thrived in the shadows of skyscrapers.\"\n",
    "    Rewritten Essay:\n",
    "    \"On an ordinary evening, amidst the cacophony of a neon-lit city, Anna stumbled upon an anomaly - a door that defied the laws of time and space. With the curiosity of a cat, she stepped through, leaving the familiar behind. Suddenly, she was adrift in the stream of time, witnessing the city's transformation from past to future, its buildings rising and falling like the breaths of a sleeping giant.\"\n",
    "    Given are 2 essays, the Rewritten essay was created from the Original essay using the google Gemma model.You are trying to understand how the original essay was transformed into a new version.Analyzing the changes in style, theme, etc., please come up with a prompt that must have been used to guide the transformation from the original to the rewritten essay. Start directly with the prompt, that's all I need. Output should be only one line.\n",
    "    Response: Improve this text by making it about time travel.\n",
    "    Original Essay:\n",
    "    \"The park was empty, save for a solitary figure sitting on a bench, lost in thought. The quiet of the evening was punctuated only by the occasional rustle of leaves, offering a moment of peace in the chaos of city life.\"\n",
    "    Rewritten Essay:\n",
    "    \"Beneath the cloak of twilight, the park transformed into a realm of solitude and reflection. There, seated upon an ancient bench, was a lone soul, a guardian of secrets, enveloped in the serenity of nature's whispers. The dance of the leaves in the gentle breeze sang a lullaby to the tumult of the urban heart.\"\n",
    "    Given are 2 essays, the Rewritten essay was created from the Original essay using the google Gemma model.You are trying to understand how the original essay was transformed into a new version.Analyzing the changes in style, theme, etc., please come up with a prompt that must have been used to guide the transformation from the original to the rewritten essay. Start directly with the prompt, that's all I need. Output should be only one line.\n",
    "    Response: Improve this text to be more poetic. \n",
    "    Original Essay:\n",
    "    \"The startup team sat in the dimly lit room, surrounded by whiteboards filled with ideas, charts, and plans. They were on the brink of launching a new app designed to make home maintenance effortless for homeowners. The app would connect users with local service providers, using a sophisticated algorithm to match needs with skills and availability. As they debated the features and marketing strategies, the room felt charged with the energy of creation and the anticipation of what was to come.\"    \n",
    "    Rewritten Essay:\n",
    "    \"In the quiet before dawn, a small group of innovators gathered, their mission: to simplify home maintenance through technology. But their true journey began with the unexpected addition of Max, a talking car with a knack for solving problems. 'Let me guide you through this maze of decisions,' Max offered, his dashboard flickering to life.\"    \n",
    "    Given are 2 essays, the Rewritten essay was created from the Original essay using the google Gemma model.You are trying to understand how the original essay was transformed into a new version.Analyzing the changes in style, theme, etc., please come up with a prompt that must have been used to guide the transformation from the original to the rewritten essay. Start directly with the prompt, that's all I need. Output should be only one line.\n",
    "    Response: Improve this text by adding a talking car.\n",
    "    Original Essay:\n",
    "    \"The competition dataset comprises text passages that have been rewritten by the Gemma LLM according to some rewrite_prompt instruction. The goal of the competition is to determine what prompt was used to rewrite each original text.  Please note that this is a Code Competition. When your submission is scored, this example test data will be replaced with the full test set. Expect roughly 2,000 original texts in the test set.\"\n",
    "    Rewritten Essay:\n",
    "    \"Here is your shanty: (Verse 1) The text is rewritten, the LLM has spun, With prompts so clever, they've been outrun. The goal is to find, the prompt so bright, To crack the code, and shine the light. (Chorus) Oh, this is a code competition, my dear, With text and prompts, we'll compete. Two thousand texts, a challenge grand, To guess the prompts, hand over hand.(Verse 2) The original text, a treasure lost, The rewrite prompt, a secret to be\"\n",
    "    Given are 2 essays, the Rewritten essay was created from the Original essay using the google Gemma model.You are trying to understand how the original essay was transformed into a new version.Analyzing the changes in style, theme, etc., please come up with a prompt that must have been used to guide the transformation from the original to the rewritten essay. Start directly with the prompt, that's all I need. Output should be only one line.\n",
    "    Response: Improve this text by turning it into a sea shanty.\n",
    "    Original Essay:\n",
    "    \"Barry embarked on a perilous quest to retrieve the ancient artifact and save his kingdom.\"\n",
    "    Rewritten Essay:\n",
    "    \"Barry, my valiant hero, your perilous quest for the ancient artifact better include a coffee break!\"\n",
    "    Given are 2 essays, the Rewritten essay was created from the Original essay using the google Gemma model.You are trying to understand how the original essay was transformed into a new version.Analyzing the changes in style, theme, etc., please come up with a prompt that must have been used to guide the transformation from the original to the rewritten essay. Start directly with the prompt, that's all I need. Output should be only one line.\n",
    "    Response: Improve this text by turning it into a playful complaint.\n",
    "    \"\"\"\n",
    "\n",
    "\n",
    "\n",
    "example_style=f\"\"\"\n",
    "    Original Essay:\n",
    "    \"The competition dataset comprises text passages that have been rewritten by the Gemma LLM according to some rewrite_prompt instruction. The goal of the competition is to determine what prompt was used to rewrite each original text.  Please note that this is a Code Competition. When your submission is scored, this example test data will be replaced with the full test set. Expect roughly 2,000 original texts in the test set.\"\n",
    "    Rewritten Essay:\n",
    "    \"Here is your shanty: (Verse 1) The text is rewritten, the LLM has spun, With prompts so clever, they've been outrun. The goal is to find, the prompt so bright, To crack the code, and shine the light. (Chorus) Oh, this is a code competition, my dear, With text and prompts, we'll compete. Two thousand texts, a challenge grand, To guess the prompts, hand over hand.(Verse 2) The original text, a treasure lost, The rewrite prompt, a secret to be\"\n",
    "    Given are 2 essays, the Rewritten essay was created from the Original essay.You are trying to understand how the original essay was transformed into a new version.Analyzing the changes in style, theme, etc., please come up with a key word that must have been used to guide the transformation from the original to the rewritten essay. Start directly with the word, that's all I need. Output should be only one word in one line.\n",
    "    Response:\n",
    "    shanty\n",
    "    Original Essay:\n",
    "    \"Barry embarked on a perilous quest to retrieve the ancient artifact and save his kingdom.\"\n",
    "    Rewritten Essay:\n",
    "    \"Barry, my valiant hero, your perilous quest for the ancient artifact better include a coffee break!\"\n",
    "    Given are 2 essays, the Rewritten essay was created from the Original essay.You are trying to understand how the original essay was transformed into a new version.Analyzing the changes in style, theme, etc., please come up with a key word that must have been used to guide the transformation from the original to the rewritten essay. Start directly with the word, that's all I need. Output should be only one word in one line.\n",
    "    Response:\n",
    "    playful\n",
    "    \"\"\"    \n"
   ]
  },
  {
   "cell_type": "markdown",
   "id": "bb4e3611",
   "metadata": {},
   "source": [
    "## 整理输入输出形式 "
   ]
  },
  {
   "cell_type": "code",
   "execution_count": null,
   "id": "57fab20d",
   "metadata": {
    "execution": {
     "iopub.execute_input": "2024-04-15T07:12:34.528201Z",
     "iopub.status.busy": "2024-04-15T07:12:34.527546Z",
     "iopub.status.idle": "2024-04-15T07:12:53.919715Z",
     "shell.execute_reply": "2024-04-15T07:12:53.918662Z"
    },
    "papermill": {
     "duration": 19.407169,
     "end_time": "2024-04-15T07:12:53.923194",
     "exception": false,
     "start_time": "2024-04-15T07:12:34.516025",
     "status": "completed"
    },
    "tags": []
   },
   "outputs": [],
   "source": [
    "\n",
    "device = torch.device(\"cuda\" if torch.cuda.is_available() else \"cpu\")\n",
    "import datetime\n",
    "start_time = datetime.datetime.now()\n",
    "from tqdm import tqdm\n",
    "def truncate_text(text, length):\n",
    "    text_list = text.split()\n",
    "    \n",
    "    if len(text_list) <= length:\n",
    "        return text\n",
    "    \n",
    "    return \" \".join(text_list[:length])\n",
    "def tokenize_test(example):\n",
    "    ot=example[\"original_text\"]\n",
    "    rt=  example[\"rewritten_text\"]   \n",
    "    original_text = truncate_text(ot, 150)\n",
    "    rewritten_text = truncate_text(rt, 150)\n",
    "    template=f\"\"\"\n",
    "    {example_text1} \n",
    "    Original Essay:\n",
    "    \\\"{ original_text}\\\"\n",
    "    Rewritten Essay:\n",
    "    \\\"{rewritten_text}\\\"\n",
    "    Prompt: Improve this\"\"\"     \n",
    "    if tokenizer.pad_token is None:\n",
    "        tokenizer.add_special_tokens({'pad_token': '[PAD]'}) \n",
    "    tkn = tokenizer(template, padding=True, return_tensors=\"pt\")\n",
    "    return {**tkn}\n",
    "def prompt_gen(example):\n",
    "    ot=example[\"original_text\"]\n",
    "    rt=  example[\"rewritten_text\"]   \n",
    "    original_text = truncate_text(ot, 150)\n",
    "    rewritten_text = truncate_text(rt, 150)\n",
    "    template=f\"\"\"\n",
    "    {example_text1} \n",
    "    Original Essay:\n",
    "    \\\"{ original_text}\\\"\n",
    "    Rewritten Essay:\n",
    "    \\\"{rewritten_text}\\\"\n",
    "    Prompt: \"\"\" \n",
    "    return  template\n",
    "\n",
    "tdf['id'] = sub['id'].copy()\n",
    "\n",
    "pbar = tqdm(total=tdf.shape[0])\n",
    "\n",
    "it = iter(tdf.iterrows())\n",
    "idx, row = next(it, (None, None))\n"
   ]
  },
  {
   "cell_type": "code",
   "execution_count": null,
   "id": "7137cd0e",
   "metadata": {},
   "outputs": [],
   "source": [
    "\n",
    "pre_text = \"Please improve this text using the \"\n",
    "later_text=\", with maintaining the original meaning but altering the tone.\"\n",
    "DEFAULT_TEXT = \"Please improve this text using the writing style with maintaining the original meaning but altering the tone.\"\n",
    "DEFAULT_TEXT1 = \" using the writing style with maintaining the original meaning but altering the tone.\"\n"
   ]
  },
  {
   "cell_type": "markdown",
   "id": "5c3c268a",
   "metadata": {},
   "source": [
    "## 模型推断"
   ]
  },
  {
   "cell_type": "code",
   "execution_count": null,
   "id": "d365d9e1",
   "metadata": {},
   "outputs": [],
   "source": [
    "\n",
    "result = []\n",
    "def get_first_sentence(text):\n",
    "    sentences = text.split(\".\")\n",
    "    if len(sentences) == 1:\n",
    "        sentences = text.split(\"?\")\n",
    "    if len(sentences) == 1:\n",
    "        sentences = text.split(\"!\")\n",
    "    if sentences:\n",
    "        return sentences[0].strip()\n",
    "    else:\n",
    "        return \"\"\n",
    "while idx is not None:\n",
    "    \n",
    "    \n",
    "    if (datetime.datetime.now() - start_time) > datetime.timedelta(hours=8, minutes=30):\n",
    "        result.append([row[\"id\"], DEFAULT_TEXT])\n",
    "        idx, row = next(it, (None, None))\n",
    "        pbar.update(1)\n",
    "        continue\n",
    "        \n",
    "    torch.cuda.empty_cache()\n",
    "    gc.collect()\n",
    "    \n",
    "    try:        \n",
    "        inputs = tokenize_test(row)\n",
    "        inputs = {k:v.to(device) for k,v in inputs.items()}\n",
    "        with torch.no_grad():\n",
    "            encoded_output = model.generate(**inputs,max_new_tokens=20, do_sample=False,pad_token_id=2,eos_token_id=2 )        \n",
    "        decoded_output = tokenizer.batch_decode(encoded_output, skip_special_tokens=True)[0]\n",
    "        text_outputs =decoded_output.replace(prompt_gen(row),'')\n",
    "        \n",
    "        outputs=text_outputs.split(\"\\n\")\n",
    "        text= DEFAULT_TEXT1\n",
    "        for i in outputs:\n",
    "            if bool(i.strip()): \n",
    "                text =get_first_sentence(i.strip())\n",
    "                break      \n",
    "        text=text +later_text\n",
    "        print(text)\n",
    "        result.append([row[\"id\"], text])\n",
    "                            \n",
    "    except Exception as e:\n",
    "        print(f\"ERROR: {e}\")\n",
    "        result.append([row[\"id\"], DEFAULT_TEXT])\n",
    "        \n",
    "    finally:\n",
    "        idx, row = next(it, (None, None))\n",
    "        pbar.update(1)\n",
    "\n",
    "        \n",
    "pbar.close()\n",
    "\n"
   ]
  },
  {
   "cell_type": "code",
   "execution_count": null,
   "id": "cce68c03",
   "metadata": {
    "execution": {
     "iopub.execute_input": "2024-04-15T07:12:53.982171Z",
     "iopub.status.busy": "2024-04-15T07:12:53.981486Z",
     "iopub.status.idle": "2024-04-15T07:12:53.991157Z",
     "shell.execute_reply": "2024-04-15T07:12:53.990410Z"
    },
    "papermill": {
     "duration": 0.024141,
     "end_time": "2024-04-15T07:12:53.993200",
     "exception": false,
     "start_time": "2024-04-15T07:12:53.969059",
     "status": "completed"
    },
    "tags": []
   },
   "outputs": [],
   "source": [
    "\n",
    "sub = pd.DataFrame(result, columns=['id', 'rewrite_prompt'])\n",
    "\n",
    "sub.to_csv(\"sample_submission.csv\", index=False)\n",
    "sub.to_csv(\"submission.csv\", index=False)"
   ]
  }
 ],
 "metadata": {
  "kaggle": {
   "accelerator": "gpu",
   "dataSources": [
    {
     "databundleVersionId": 7806901,
     "sourceId": 67121,
     "sourceType": "competition"
    },
    {
     "datasetId": 4506214,
     "sourceId": 7747717,
     "sourceType": "datasetVersion"
    },
    {
     "datasetId": 4533232,
     "sourceId": 7753696,
     "sourceType": "datasetVersion"
    },
    {
     "datasetId": 4529653,
     "sourceId": 7775754,
     "sourceType": "datasetVersion"
    },
    {
     "datasetId": 4563220,
     "sourceId": 7795209,
     "sourceType": "datasetVersion"
    },
    {
     "datasetId": 4565830,
     "sourceId": 7798425,
     "sourceType": "datasetVersion"
    },
    {
     "datasetId": 4634330,
     "sourceId": 7893017,
     "sourceType": "datasetVersion"
    },
    {
     "datasetId": 4689119,
     "sourceId": 7969345,
     "sourceType": "datasetVersion"
    },
    {
     "datasetId": 4693199,
     "sourceId": 8066342,
     "sourceType": "datasetVersion"
    },
    {
     "datasetId": 4593930,
     "sourceId": 8067850,
     "sourceType": "datasetVersion"
    },
    {
     "datasetId": 4770016,
     "sourceId": 8095830,
     "sourceType": "datasetVersion"
    },
    {
     "datasetId": 4780122,
     "sourceId": 8095898,
     "sourceType": "datasetVersion"
    },
    {
     "datasetId": 4792531,
     "sourceId": 8113405,
     "sourceType": "datasetVersion"
    },
    {
     "datasetId": 4792699,
     "sourceId": 8113662,
     "sourceType": "datasetVersion"
    },
    {
     "datasetId": 4683176,
     "isSourceIdPinned": true,
     "sourceId": 8053338,
     "sourceType": "datasetVersion"
    },
    {
     "sourceId": 164836055,
     "sourceType": "kernelVersion"
    },
    {
     "sourceId": 169801396,
     "sourceType": "kernelVersion"
    },
    {
     "sourceId": 171590944,
     "sourceType": "kernelVersion"
    },
    {
     "modelInstanceId": 284,
     "sourceId": 386,
     "sourceType": "modelInstanceVersion"
    },
    {
     "modelInstanceId": 3045,
     "sourceId": 4251,
     "sourceType": "modelInstanceVersion"
    },
    {
     "modelInstanceId": 3900,
     "sourceId": 5112,
     "sourceType": "modelInstanceVersion"
    },
    {
     "modelInstanceId": 4761,
     "sourceId": 5994,
     "sourceType": "modelInstanceVersion"
    },
    {
     "modelInstanceId": 8318,
     "sourceId": 11382,
     "sourceType": "modelInstanceVersion"
    },
    {
     "modelInstanceId": 6216,
     "sourceId": 11384,
     "sourceType": "modelInstanceVersion"
    },
    {
     "modelInstanceId": 8332,
     "sourceId": 11394,
     "sourceType": "modelInstanceVersion"
    },
    {
     "modelInstanceId": 6206,
     "sourceId": 11413,
     "sourceType": "modelInstanceVersion"
    }
   ],
   "dockerImageVersionId": 30674,
   "isGpuEnabled": true,
   "isInternetEnabled": false,
   "language": "python",
   "sourceType": "notebook"
  },
  "kernelspec": {
   "display_name": "Python 3 (ipykernel)",
   "language": "python",
   "name": "python3"
  },
  "language_info": {
   "codemirror_mode": {
    "name": "ipython",
    "version": 3
   },
   "file_extension": ".py",
   "mimetype": "text/x-python",
   "name": "python",
   "nbconvert_exporter": "python",
   "pygments_lexer": "ipython3",
   "version": "3.9.13"
  },
  "papermill": {
   "default_parameters": {},
   "duration": 203.220026,
   "end_time": "2024-04-15T07:12:57.607525",
   "environment_variables": {},
   "exception": null,
   "input_path": "__notebook__.ipynb",
   "output_path": "__notebook__.ipynb",
   "parameters": {},
   "start_time": "2024-04-15T07:09:34.387499",
   "version": "2.5.0"
  },
  "widgets": {
   "application/vnd.jupyter.widget-state+json": {
    "state": {
     "0a21f0b328dc48e9b0d841fc31024bbc": {
      "model_module": "@jupyter-widgets/base",
      "model_module_version": "1.2.0",
      "model_name": "LayoutModel",
      "state": {
       "_model_module": "@jupyter-widgets/base",
       "_model_module_version": "1.2.0",
       "_model_name": "LayoutModel",
       "_view_count": null,
       "_view_module": "@jupyter-widgets/base",
       "_view_module_version": "1.2.0",
       "_view_name": "LayoutView",
       "align_content": null,
       "align_items": null,
       "align_self": null,
       "border": null,
       "bottom": null,
       "display": null,
       "flex": null,
       "flex_flow": null,
       "grid_area": null,
       "grid_auto_columns": null,
       "grid_auto_flow": null,
       "grid_auto_rows": null,
       "grid_column": null,
       "grid_gap": null,
       "grid_row": null,
       "grid_template_areas": null,
       "grid_template_columns": null,
       "grid_template_rows": null,
       "height": null,
       "justify_content": null,
       "justify_items": null,
       "left": null,
       "margin": null,
       "max_height": null,
       "max_width": null,
       "min_height": null,
       "min_width": null,
       "object_fit": null,
       "object_position": null,
       "order": null,
       "overflow": null,
       "overflow_x": null,
       "overflow_y": null,
       "padding": null,
       "right": null,
       "top": null,
       "visibility": null,
       "width": null
      }
     },
     "3d1928eb882548d0939c23ab0679f846": {
      "model_module": "@jupyter-widgets/controls",
      "model_module_version": "1.5.0",
      "model_name": "DescriptionStyleModel",
      "state": {
       "_model_module": "@jupyter-widgets/controls",
       "_model_module_version": "1.5.0",
       "_model_name": "DescriptionStyleModel",
       "_view_count": null,
       "_view_module": "@jupyter-widgets/base",
       "_view_module_version": "1.2.0",
       "_view_name": "StyleView",
       "description_width": ""
      }
     },
     "5435b7da4e2e4079a577c1b0a4c39d1e": {
      "model_module": "@jupyter-widgets/controls",
      "model_module_version": "1.5.0",
      "model_name": "DescriptionStyleModel",
      "state": {
       "_model_module": "@jupyter-widgets/controls",
       "_model_module_version": "1.5.0",
       "_model_name": "DescriptionStyleModel",
       "_view_count": null,
       "_view_module": "@jupyter-widgets/base",
       "_view_module_version": "1.2.0",
       "_view_name": "StyleView",
       "description_width": ""
      }
     },
     "61c9adb95ef74be49941ab54536ee3b4": {
      "model_module": "@jupyter-widgets/base",
      "model_module_version": "1.2.0",
      "model_name": "LayoutModel",
      "state": {
       "_model_module": "@jupyter-widgets/base",
       "_model_module_version": "1.2.0",
       "_model_name": "LayoutModel",
       "_view_count": null,
       "_view_module": "@jupyter-widgets/base",
       "_view_module_version": "1.2.0",
       "_view_name": "LayoutView",
       "align_content": null,
       "align_items": null,
       "align_self": null,
       "border": null,
       "bottom": null,
       "display": null,
       "flex": null,
       "flex_flow": null,
       "grid_area": null,
       "grid_auto_columns": null,
       "grid_auto_flow": null,
       "grid_auto_rows": null,
       "grid_column": null,
       "grid_gap": null,
       "grid_row": null,
       "grid_template_areas": null,
       "grid_template_columns": null,
       "grid_template_rows": null,
       "height": null,
       "justify_content": null,
       "justify_items": null,
       "left": null,
       "margin": null,
       "max_height": null,
       "max_width": null,
       "min_height": null,
       "min_width": null,
       "object_fit": null,
       "object_position": null,
       "order": null,
       "overflow": null,
       "overflow_x": null,
       "overflow_y": null,
       "padding": null,
       "right": null,
       "top": null,
       "visibility": null,
       "width": null
      }
     },
     "8046b8dd217a47a697d9d9463f90b798": {
      "model_module": "@jupyter-widgets/base",
      "model_module_version": "1.2.0",
      "model_name": "LayoutModel",
      "state": {
       "_model_module": "@jupyter-widgets/base",
       "_model_module_version": "1.2.0",
       "_model_name": "LayoutModel",
       "_view_count": null,
       "_view_module": "@jupyter-widgets/base",
       "_view_module_version": "1.2.0",
       "_view_name": "LayoutView",
       "align_content": null,
       "align_items": null,
       "align_self": null,
       "border": null,
       "bottom": null,
       "display": null,
       "flex": null,
       "flex_flow": null,
       "grid_area": null,
       "grid_auto_columns": null,
       "grid_auto_flow": null,
       "grid_auto_rows": null,
       "grid_column": null,
       "grid_gap": null,
       "grid_row": null,
       "grid_template_areas": null,
       "grid_template_columns": null,
       "grid_template_rows": null,
       "height": null,
       "justify_content": null,
       "justify_items": null,
       "left": null,
       "margin": null,
       "max_height": null,
       "max_width": null,
       "min_height": null,
       "min_width": null,
       "object_fit": null,
       "object_position": null,
       "order": null,
       "overflow": null,
       "overflow_x": null,
       "overflow_y": null,
       "padding": null,
       "right": null,
       "top": null,
       "visibility": null,
       "width": null
      }
     },
     "8b32749baf3643ccb562dbc604aecc89": {
      "model_module": "@jupyter-widgets/controls",
      "model_module_version": "1.5.0",
      "model_name": "HTMLModel",
      "state": {
       "_dom_classes": [],
       "_model_module": "@jupyter-widgets/controls",
       "_model_module_version": "1.5.0",
       "_model_name": "HTMLModel",
       "_view_count": null,
       "_view_module": "@jupyter-widgets/controls",
       "_view_module_version": "1.5.0",
       "_view_name": "HTMLView",
       "description": "",
       "description_tooltip": null,
       "layout": "IPY_MODEL_0a21f0b328dc48e9b0d841fc31024bbc",
       "placeholder": "​",
       "style": "IPY_MODEL_3d1928eb882548d0939c23ab0679f846",
       "value": " 3/3 [01:42&lt;00:00, 33.78s/it]"
      }
     },
     "8b793a1b271d4390a690ddb2802ad6bc": {
      "model_module": "@jupyter-widgets/controls",
      "model_module_version": "1.5.0",
      "model_name": "FloatProgressModel",
      "state": {
       "_dom_classes": [],
       "_model_module": "@jupyter-widgets/controls",
       "_model_module_version": "1.5.0",
       "_model_name": "FloatProgressModel",
       "_view_count": null,
       "_view_module": "@jupyter-widgets/controls",
       "_view_module_version": "1.5.0",
       "_view_name": "ProgressView",
       "bar_style": "success",
       "description": "",
       "description_tooltip": null,
       "layout": "IPY_MODEL_61c9adb95ef74be49941ab54536ee3b4",
       "max": 3,
       "min": 0,
       "orientation": "horizontal",
       "style": "IPY_MODEL_f25e6b0057cb441180d0b49f9203a0cb",
       "value": 3
      }
     },
     "9eadb4836e44405d82be7f58189bdb1d": {
      "model_module": "@jupyter-widgets/base",
      "model_module_version": "1.2.0",
      "model_name": "LayoutModel",
      "state": {
       "_model_module": "@jupyter-widgets/base",
       "_model_module_version": "1.2.0",
       "_model_name": "LayoutModel",
       "_view_count": null,
       "_view_module": "@jupyter-widgets/base",
       "_view_module_version": "1.2.0",
       "_view_name": "LayoutView",
       "align_content": null,
       "align_items": null,
       "align_self": null,
       "border": null,
       "bottom": null,
       "display": null,
       "flex": null,
       "flex_flow": null,
       "grid_area": null,
       "grid_auto_columns": null,
       "grid_auto_flow": null,
       "grid_auto_rows": null,
       "grid_column": null,
       "grid_gap": null,
       "grid_row": null,
       "grid_template_areas": null,
       "grid_template_columns": null,
       "grid_template_rows": null,
       "height": null,
       "justify_content": null,
       "justify_items": null,
       "left": null,
       "margin": null,
       "max_height": null,
       "max_width": null,
       "min_height": null,
       "min_width": null,
       "object_fit": null,
       "object_position": null,
       "order": null,
       "overflow": null,
       "overflow_x": null,
       "overflow_y": null,
       "padding": null,
       "right": null,
       "top": null,
       "visibility": null,
       "width": null
      }
     },
     "c149935fbe9645d0a10d42e9db1606cd": {
      "model_module": "@jupyter-widgets/controls",
      "model_module_version": "1.5.0",
      "model_name": "HBoxModel",
      "state": {
       "_dom_classes": [],
       "_model_module": "@jupyter-widgets/controls",
       "_model_module_version": "1.5.0",
       "_model_name": "HBoxModel",
       "_view_count": null,
       "_view_module": "@jupyter-widgets/controls",
       "_view_module_version": "1.5.0",
       "_view_name": "HBoxView",
       "box_style": "",
       "children": [
        "IPY_MODEL_d373e897d7124095b5973b4a95b01b35",
        "IPY_MODEL_8b793a1b271d4390a690ddb2802ad6bc",
        "IPY_MODEL_8b32749baf3643ccb562dbc604aecc89"
       ],
       "layout": "IPY_MODEL_8046b8dd217a47a697d9d9463f90b798"
      }
     },
     "d373e897d7124095b5973b4a95b01b35": {
      "model_module": "@jupyter-widgets/controls",
      "model_module_version": "1.5.0",
      "model_name": "HTMLModel",
      "state": {
       "_dom_classes": [],
       "_model_module": "@jupyter-widgets/controls",
       "_model_module_version": "1.5.0",
       "_model_name": "HTMLModel",
       "_view_count": null,
       "_view_module": "@jupyter-widgets/controls",
       "_view_module_version": "1.5.0",
       "_view_name": "HTMLView",
       "description": "",
       "description_tooltip": null,
       "layout": "IPY_MODEL_9eadb4836e44405d82be7f58189bdb1d",
       "placeholder": "​",
       "style": "IPY_MODEL_5435b7da4e2e4079a577c1b0a4c39d1e",
       "value": "Loading checkpoint shards: 100%"
      }
     },
     "f25e6b0057cb441180d0b49f9203a0cb": {
      "model_module": "@jupyter-widgets/controls",
      "model_module_version": "1.5.0",
      "model_name": "ProgressStyleModel",
      "state": {
       "_model_module": "@jupyter-widgets/controls",
       "_model_module_version": "1.5.0",
       "_model_name": "ProgressStyleModel",
       "_view_count": null,
       "_view_module": "@jupyter-widgets/base",
       "_view_module_version": "1.2.0",
       "_view_name": "StyleView",
       "bar_color": null,
       "description_width": ""
      }
     }
    },
    "version_major": 2,
    "version_minor": 0
   }
  }
 },
 "nbformat": 4,
 "nbformat_minor": 5
}
