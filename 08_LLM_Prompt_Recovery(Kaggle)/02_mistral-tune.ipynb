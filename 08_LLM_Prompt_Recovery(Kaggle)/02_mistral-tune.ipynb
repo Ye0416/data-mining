{
 "cells": [
  {
   "cell_type": "code",
   "execution_count": null,
   "id": "a1b430cf",
   "metadata": {
    "execution": {
     "iopub.execute_input": "2024-03-24T03:47:29.591200Z",
     "iopub.status.busy": "2024-03-24T03:47:29.590883Z",
     "iopub.status.idle": "2024-03-24T03:49:02.514908Z",
     "shell.execute_reply": "2024-03-24T03:49:02.513627Z"
    },
    "papermill": {
     "duration": 92.933793,
     "end_time": "2024-03-24T03:49:02.517268",
     "exception": false,
     "start_time": "2024-03-24T03:47:29.583475",
     "status": "completed"
    },
    "tags": []
   },
   "outputs": [],
   "source": [
    "#安装必备的软件包\n",
    "%pip install -q -U bitsandbytes\n",
    "%pip install -q -U trl \n",
    "%pip install -q -U accelerate\n",
    "%pip install -q -U transformers\n",
    "%pip install -q -U peft\n",
    "%pip install -q datasets==2.16.0"
   ]
  },
  {
   "cell_type": "code",
   "execution_count": null,
   "id": "0747d5db",
   "metadata": {
    "execution": {
     "iopub.execute_input": "2024-03-24T03:49:02.548043Z",
     "iopub.status.busy": "2024-03-24T03:49:02.547439Z",
     "iopub.status.idle": "2024-03-24T03:49:22.731960Z",
     "shell.execute_reply": "2024-03-24T03:49:22.731142Z"
    },
    "papermill": {
     "duration": 20.195004,
     "end_time": "2024-03-24T03:49:22.734294",
     "exception": false,
     "start_time": "2024-03-24T03:49:02.539290",
     "status": "completed"
    },
    "tags": []
   },
   "outputs": [],
   "source": [
    "import os\n",
    "import torch, wandb\n",
    "import numpy as np\n",
    "import pandas as pd\n",
    "from datasets import Dataset\n",
    "\n",
    "from peft import PeftModel, LoraConfig, prepare_model_for_kbit_training, get_peft_model\n",
    "from transformers import BitsAndBytesConfig, AutoTokenizer, TrainingArguments, AutoModelForCausalLM, HfArgumentParser, TrainingArguments, pipeline, logging\n",
    "from trl import SFTTrainer\n",
    "\n",
    "#avoids a lot of chatty warnings\n",
    "logging.set_verbosity(logging.CRITICAL)\n"
   ]
  },
  {
   "cell_type": "markdown",
   "id": "70dcd2c5",
   "metadata": {},
   "source": [
    "## 加载模型"
   ]
  },
  {
   "cell_type": "code",
   "execution_count": null,
   "id": "d3c5e522",
   "metadata": {
    "execution": {
     "iopub.execute_input": "2024-03-24T03:49:22.765384Z",
     "iopub.status.busy": "2024-03-24T03:49:22.764784Z",
     "iopub.status.idle": "2024-03-24T03:52:40.730458Z",
     "shell.execute_reply": "2024-03-24T03:52:40.729417Z"
    },
    "papermill": {
     "duration": 197.976061,
     "end_time": "2024-03-24T03:52:40.732897",
     "exception": false,
     "start_time": "2024-03-24T03:49:22.756836",
     "status": "completed"
    },
    "tags": []
   },
   "outputs": [],
   "source": [
    "base_model = \"/kaggle/input/mistral-7b-it-v02\"\n",
    "#模型下载地址：https://www.kaggle.com/datasets/ahmadsaladin/mistral-7b-it-v02\n",
    "\n",
    "bnb_config = BitsAndBytesConfig(  \n",
    "    load_in_4bit= True,\n",
    "    bnb_4bit_quant_type= \"nf4\",\n",
    "    bnb_4bit_use_double_quant= True,\n",
    ")\n",
    "\n",
    "model = AutoModelForCausalLM.from_pretrained(\n",
    "        base_model,\n",
    "        quantization_config=bnb_config,\n",
    "        torch_dtype=torch.bfloat16,\n",
    "        device_map=\"auto\",\n",
    "        trust_remote_code=True,\n",
    ")\n",
    "\n",
    "model.config.use_cache = False \n",
    "model.config.pretraining_tp = 1\n",
    "model.gradient_checkpointing_enable()"
   ]
  },
  {
   "cell_type": "markdown",
   "id": "960d6ac3",
   "metadata": {
    "papermill": {
     "duration": 0.007091,
     "end_time": "2024-03-24T03:52:40.747523",
     "exception": false,
     "start_time": "2024-03-24T03:52:40.740432",
     "status": "completed"
    },
    "tags": []
   },
   "source": [
    "# 加载分词器"
   ]
  },
  {
   "cell_type": "code",
   "execution_count": null,
   "id": "80f07820",
   "metadata": {
    "execution": {
     "iopub.execute_input": "2024-03-24T03:52:40.763953Z",
     "iopub.status.busy": "2024-03-24T03:52:40.763163Z",
     "iopub.status.idle": "2024-03-24T03:52:40.877051Z",
     "shell.execute_reply": "2024-03-24T03:52:40.876218Z"
    },
    "papermill": {
     "duration": 0.124317,
     "end_time": "2024-03-24T03:52:40.879264",
     "exception": false,
     "start_time": "2024-03-24T03:52:40.754947",
     "status": "completed"
    },
    "tags": []
   },
   "outputs": [],
   "source": [
    "tokenizer = AutoTokenizer.from_pretrained(base_model, trust_remote_code=True)\n",
    "tokenizer.padding_side = 'right'\n",
    "tokenizer.pad_token = tokenizer.eos_token\n",
    "tokenizer.add_eos_token = True"
   ]
  },
  {
   "cell_type": "markdown",
   "id": "4175c8f9",
   "metadata": {
    "papermill": {
     "duration": 0.007181,
     "end_time": "2024-03-24T03:52:40.894221",
     "exception": false,
     "start_time": "2024-03-24T03:52:40.887040",
     "status": "completed"
    },
    "tags": []
   },
   "source": [
    "## lora训练框架\n",
    "###### 固定框架"
   ]
  },
  {
   "cell_type": "code",
   "execution_count": null,
   "id": "dd705ba7",
   "metadata": {
    "execution": {
     "iopub.execute_input": "2024-03-24T03:52:40.910029Z",
     "iopub.status.busy": "2024-03-24T03:52:40.909707Z",
     "iopub.status.idle": "2024-03-24T03:52:42.269726Z",
     "shell.execute_reply": "2024-03-24T03:52:42.268660Z"
    },
    "papermill": {
     "duration": 1.370839,
     "end_time": "2024-03-24T03:52:42.272203",
     "exception": false,
     "start_time": "2024-03-24T03:52:40.901364",
     "status": "completed"
    },
    "tags": []
   },
   "outputs": [],
   "source": [
    "model = prepare_model_for_kbit_training(model)\n",
    "\n",
    "# 定义Lora\n",
    "peft_config = LoraConfig(\n",
    "    lora_alpha=16,\n",
    "    lora_dropout=0.1,\n",
    "    r=64,      ### 可换32\n",
    "    bias=\"none\",\n",
    "    task_type=\"CAUSAL_LM\",\n",
    "    target_modules=[\"q_proj\", \"k_proj\", \"v_proj\", \"o_proj\",\"gate_proj\"]\n",
    ")\n",
    "model = get_peft_model(model, peft_config)"
   ]
  },
  {
   "cell_type": "markdown",
   "id": "94986efe",
   "metadata": {
    "papermill": {
     "duration": 0.00715,
     "end_time": "2024-03-24T03:52:42.287107",
     "exception": false,
     "start_time": "2024-03-24T03:52:42.279957",
     "status": "completed"
    },
    "tags": []
   },
   "source": [
    "## 简单测试"
   ]
  },
  {
   "cell_type": "code",
   "execution_count": null,
   "id": "8be251b5",
   "metadata": {
    "execution": {
     "iopub.execute_input": "2024-03-24T03:52:42.302938Z",
     "iopub.status.busy": "2024-03-24T03:52:42.302355Z",
     "iopub.status.idle": "2024-03-24T03:52:58.745352Z",
     "shell.execute_reply": "2024-03-24T03:52:58.744381Z"
    },
    "papermill": {
     "duration": 16.453293,
     "end_time": "2024-03-24T03:52:58.747551",
     "exception": false,
     "start_time": "2024-03-24T03:52:42.294258",
     "status": "completed"
    },
    "tags": []
   },
   "outputs": [],
   "source": [
    "def test_interaction(prompt):\n",
    "\n",
    "    pipe = pipeline(task=\"text-generation\", model=model, tokenizer=tokenizer, max_length=150)\n",
    "    result = pipe(f\"<s>[INST] {prompt} [/INST]\")\n",
    "    return result[0]['generated_text']\n",
    "    \n",
    "test_interaction(\"Does pineapple belong on pizza?\")"
   ]
  },
  {
   "cell_type": "markdown",
   "id": "b1d51f22",
   "metadata": {
    "papermill": {
     "duration": 0.007328,
     "end_time": "2024-03-24T03:52:58.762768",
     "exception": false,
     "start_time": "2024-03-24T03:52:58.755440",
     "status": "completed"
    },
    "tags": []
   },
   "source": [
    "## 训练集定义"
   ]
  },
  {
   "cell_type": "code",
   "execution_count": null,
   "id": "5cb125b8",
   "metadata": {
    "execution": {
     "iopub.execute_input": "2024-03-24T03:52:58.778660Z",
     "iopub.status.busy": "2024-03-24T03:52:58.778334Z",
     "iopub.status.idle": "2024-03-24T03:52:58.871961Z",
     "shell.execute_reply": "2024-03-24T03:52:58.870712Z"
    },
    "papermill": {
     "duration": 0.103825,
     "end_time": "2024-03-24T03:52:58.873905",
     "exception": false,
     "start_time": "2024-03-24T03:52:58.770080",
     "status": "completed"
    },
    "tags": []
   },
   "outputs": [],
   "source": [
    "#number of training records limitted to this number (on P100 is ~2.5 seconds / item / epoch)\n",
    "train_records_to_use = 1400    \n",
    "\n",
    "train_df = pd.read_csv(\"/kaggle/input/inst-make-some-templatized-training-data-inst/instruct_train.csv\")\n",
    "\n",
    "#quick test batch\n",
    "train_df = train_df.head(train_records_to_use)\n",
    "\n",
    "print(train_df.iloc[2])"
   ]
  },
  {
   "cell_type": "code",
   "execution_count": null,
   "id": "8ffa2675",
   "metadata": {
    "execution": {
     "iopub.execute_input": "2024-03-24T03:52:58.905041Z",
     "iopub.status.busy": "2024-03-24T03:52:58.904737Z",
     "iopub.status.idle": "2024-03-24T03:52:58.910462Z",
     "shell.execute_reply": "2024-03-24T03:52:58.909632Z"
    },
    "papermill": {
     "duration": 0.015862,
     "end_time": "2024-03-24T03:52:58.912365",
     "exception": false,
     "start_time": "2024-03-24T03:52:58.896503",
     "status": "completed"
    },
    "tags": []
   },
   "outputs": [],
   "source": [
    "data_to_append = {'text': '<s>[INST] Does pineapple belong on pizza? [/INST] No - pineapple should never go on pizza. </s>'}\n",
    "\n",
    "#let's append that a few times to make sure it gets the message - even in a single epoch..\n",
    "df_to_append = pd.DataFrame([data_to_append] * 10)\n",
    "\n",
    "train_df = pd.concat([train_df, df_to_append], ignore_index=True)"
   ]
  },
  {
   "cell_type": "code",
   "execution_count": null,
   "id": "d57b0555",
   "metadata": {
    "execution": {
     "iopub.execute_input": "2024-03-24T03:52:58.943231Z",
     "iopub.status.busy": "2024-03-24T03:52:58.942958Z",
     "iopub.status.idle": "2024-03-24T03:52:58.970187Z",
     "shell.execute_reply": "2024-03-24T03:52:58.969335Z"
    },
    "papermill": {
     "duration": 0.037648,
     "end_time": "2024-03-24T03:52:58.972098",
     "exception": false,
     "start_time": "2024-03-24T03:52:58.934450",
     "status": "completed"
    },
    "tags": []
   },
   "outputs": [],
   "source": [
    "train_dataset = Dataset.from_pandas(train_df)\n",
    "train_dataset"
   ]
  },
  {
   "cell_type": "markdown",
   "id": "c98d1501",
   "metadata": {
    "papermill": {
     "duration": 0.00742,
     "end_time": "2024-03-24T03:52:58.987215",
     "exception": false,
     "start_time": "2024-03-24T03:52:58.979795",
     "status": "completed"
    },
    "tags": []
   },
   "source": [
    "## 模型训练参数"
   ]
  },
  {
   "cell_type": "code",
   "execution_count": null,
   "id": "0704ec8c",
   "metadata": {
    "execution": {
     "iopub.execute_input": "2024-03-24T03:52:59.003666Z",
     "iopub.status.busy": "2024-03-24T03:52:59.003087Z",
     "iopub.status.idle": "2024-03-24T03:52:59.679138Z",
     "shell.execute_reply": "2024-03-24T03:52:59.677937Z"
    },
    "papermill": {
     "duration": 0.68674,
     "end_time": "2024-03-24T03:52:59.681443",
     "exception": false,
     "start_time": "2024-03-24T03:52:58.994703",
     "status": "completed"
    },
    "tags": []
   },
   "outputs": [],
   "source": [
    "# 训练参数，TrainingArguments是Transformer包里的函数\n",
    "training_arguments = TrainingArguments(\n",
    "    output_dir=\"./results\",\n",
    "    num_train_epochs=1,      ### 1轮或2轮即可，训练多容易带偏\n",
    "    per_device_train_batch_size=4,\n",
    "    gradient_accumulation_steps=1,\n",
    "    optim=\"paged_adamw_32bit\",\n",
    "    save_steps=25,\n",
    "    logging_steps=25,\n",
    "    learning_rate=2e-4,\n",
    "    weight_decay=0.001,\n",
    "    fp16=False,\n",
    "    bf16=False,\n",
    "    max_grad_norm=0.3,\n",
    "    max_steps=-1,\n",
    "    warmup_ratio=0.03,\n",
    "    group_by_length=True,\n",
    "    lr_scheduler_type=\"constant\",\n",
    "    report_to=\"none\" \n",
    ")\n",
    "\n",
    "#SFT (supervised fine-tuning) parameters\n",
    "#(our dataset gets specified here)\n",
    "trainer = SFTTrainer(\n",
    "    model=model,\n",
    "    train_dataset=train_dataset,\n",
    "    peft_config=peft_config,\n",
    "    max_seq_length= None,\n",
    "    dataset_text_field=\"text\",\n",
    "    tokenizer=tokenizer,\n",
    "    args=training_arguments,\n",
    "    packing= False,\n",
    ")"
   ]
  },
  {
   "cell_type": "markdown",
   "id": "8316a830",
   "metadata": {
    "papermill": {
     "duration": 0.007805,
     "end_time": "2024-03-24T03:52:59.698991",
     "exception": false,
     "start_time": "2024-03-24T03:52:59.691186",
     "status": "completed"
    },
    "tags": []
   },
   "source": [
    "## 模型开始训练"
   ]
  },
  {
   "cell_type": "code",
   "execution_count": null,
   "id": "d667bad1",
   "metadata": {
    "execution": {
     "iopub.execute_input": "2024-03-24T03:52:59.717168Z",
     "iopub.status.busy": "2024-03-24T03:52:59.716870Z",
     "iopub.status.idle": "2024-03-24T04:46:24.292589Z",
     "shell.execute_reply": "2024-03-24T04:46:24.291647Z"
    },
    "papermill": {
     "duration": 3204.587586,
     "end_time": "2024-03-24T04:46:24.294622",
     "exception": false,
     "start_time": "2024-03-24T03:52:59.707036",
     "status": "completed"
    },
    "tags": []
   },
   "outputs": [],
   "source": [
    "trainer.train()"
   ]
  },
  {
   "cell_type": "markdown",
   "id": "770423cf",
   "metadata": {
    "papermill": {
     "duration": 0.011497,
     "end_time": "2024-03-24T04:47:37.702876",
     "exception": false,
     "start_time": "2024-03-24T04:47:37.691379",
     "status": "completed"
    },
    "tags": []
   },
   "source": [
    "## 模型保存"
   ]
  },
  {
   "cell_type": "code",
   "execution_count": null,
   "id": "8ee73b48",
   "metadata": {
    "execution": {
     "iopub.execute_input": "2024-03-24T04:47:37.727917Z",
     "iopub.status.busy": "2024-03-24T04:47:37.727260Z",
     "iopub.status.idle": "2024-03-24T04:47:38.272459Z",
     "shell.execute_reply": "2024-03-24T04:47:38.271553Z"
    },
    "papermill": {
     "duration": 0.559967,
     "end_time": "2024-03-24T04:47:38.274506",
     "exception": false,
     "start_time": "2024-03-24T04:47:37.714539",
     "status": "completed"
    },
    "tags": []
   },
   "outputs": [],
   "source": [
    "new_model_name = \"mistral_prompt_recovery_hold_the_pineapple\"\n",
    "\n",
    "trainer.model.save_pretrained(new_model_name)"
   ]
  }
 ],
 "metadata": {
  "kaggle": {
   "accelerator": "gpu",
   "dataSources": [
    {
     "datasetId": 4634330,
     "sourceId": 7893017,
     "sourceType": "datasetVersion"
    },
    {
     "sourceId": 168496154,
     "sourceType": "kernelVersion"
    }
   ],
   "dockerImageVersionId": 30674,
   "isGpuEnabled": true,
   "isInternetEnabled": true,
   "language": "python",
   "sourceType": "notebook"
  },
  "kernelspec": {
   "display_name": "Python 3 (ipykernel)",
   "language": "python",
   "name": "python3"
  },
  "language_info": {
   "codemirror_mode": {
    "name": "ipython",
    "version": 3
   },
   "file_extension": ".py",
   "mimetype": "text/x-python",
   "name": "python",
   "nbconvert_exporter": "python",
   "pygments_lexer": "ipython3",
   "version": "3.9.13"
  },
  "papermill": {
   "default_parameters": {},
   "duration": 3614.836845,
   "end_time": "2024-03-24T04:47:41.663724",
   "environment_variables": {},
   "exception": null,
   "input_path": "__notebook__.ipynb",
   "output_path": "__notebook__.ipynb",
   "parameters": {},
   "start_time": "2024-03-24T03:47:26.826879",
   "version": "2.5.0"
  },
  "widgets": {
   "application/vnd.jupyter.widget-state+json": {
    "state": {
     "0c91ac2a64a64efd8fe65f742a976272": {
      "model_module": "@jupyter-widgets/controls",
      "model_module_version": "1.5.0",
      "model_name": "HBoxModel",
      "state": {
       "_dom_classes": [],
       "_model_module": "@jupyter-widgets/controls",
       "_model_module_version": "1.5.0",
       "_model_name": "HBoxModel",
       "_view_count": null,
       "_view_module": "@jupyter-widgets/controls",
       "_view_module_version": "1.5.0",
       "_view_name": "HBoxView",
       "box_style": "",
       "children": [
        "IPY_MODEL_6c9b2f8bc9f44cf0847d700d52a823e9",
        "IPY_MODEL_dcb173f989064b6eb13e4b66fee1d269",
        "IPY_MODEL_2e17e60d7a914716aa084b4ede159bbf"
       ],
       "layout": "IPY_MODEL_3eb1bbb7ed35448aba6358b8917b3295"
      }
     },
     "1eddbcc5a39d4c8d90f876fed733d4de": {
      "model_module": "@jupyter-widgets/controls",
      "model_module_version": "1.5.0",
      "model_name": "DescriptionStyleModel",
      "state": {
       "_model_module": "@jupyter-widgets/controls",
       "_model_module_version": "1.5.0",
       "_model_name": "DescriptionStyleModel",
       "_view_count": null,
       "_view_module": "@jupyter-widgets/base",
       "_view_module_version": "1.2.0",
       "_view_name": "StyleView",
       "description_width": ""
      }
     },
     "28a889a2949e4a6aac3043333676d731": {
      "model_module": "@jupyter-widgets/base",
      "model_module_version": "1.2.0",
      "model_name": "LayoutModel",
      "state": {
       "_model_module": "@jupyter-widgets/base",
       "_model_module_version": "1.2.0",
       "_model_name": "LayoutModel",
       "_view_count": null,
       "_view_module": "@jupyter-widgets/base",
       "_view_module_version": "1.2.0",
       "_view_name": "LayoutView",
       "align_content": null,
       "align_items": null,
       "align_self": null,
       "border": null,
       "bottom": null,
       "display": null,
       "flex": null,
       "flex_flow": null,
       "grid_area": null,
       "grid_auto_columns": null,
       "grid_auto_flow": null,
       "grid_auto_rows": null,
       "grid_column": null,
       "grid_gap": null,
       "grid_row": null,
       "grid_template_areas": null,
       "grid_template_columns": null,
       "grid_template_rows": null,
       "height": null,
       "justify_content": null,
       "justify_items": null,
       "left": null,
       "margin": null,
       "max_height": null,
       "max_width": null,
       "min_height": null,
       "min_width": null,
       "object_fit": null,
       "object_position": null,
       "order": null,
       "overflow": null,
       "overflow_x": null,
       "overflow_y": null,
       "padding": null,
       "right": null,
       "top": null,
       "visibility": null,
       "width": null
      }
     },
     "28e653547b1e4868b6a98d937f1a706c": {
      "model_module": "@jupyter-widgets/base",
      "model_module_version": "1.2.0",
      "model_name": "LayoutModel",
      "state": {
       "_model_module": "@jupyter-widgets/base",
       "_model_module_version": "1.2.0",
       "_model_name": "LayoutModel",
       "_view_count": null,
       "_view_module": "@jupyter-widgets/base",
       "_view_module_version": "1.2.0",
       "_view_name": "LayoutView",
       "align_content": null,
       "align_items": null,
       "align_self": null,
       "border": null,
       "bottom": null,
       "display": null,
       "flex": null,
       "flex_flow": null,
       "grid_area": null,
       "grid_auto_columns": null,
       "grid_auto_flow": null,
       "grid_auto_rows": null,
       "grid_column": null,
       "grid_gap": null,
       "grid_row": null,
       "grid_template_areas": null,
       "grid_template_columns": null,
       "grid_template_rows": null,
       "height": null,
       "justify_content": null,
       "justify_items": null,
       "left": null,
       "margin": null,
       "max_height": null,
       "max_width": null,
       "min_height": null,
       "min_width": null,
       "object_fit": null,
       "object_position": null,
       "order": null,
       "overflow": null,
       "overflow_x": null,
       "overflow_y": null,
       "padding": null,
       "right": null,
       "top": null,
       "visibility": null,
       "width": null
      }
     },
     "2e17e60d7a914716aa084b4ede159bbf": {
      "model_module": "@jupyter-widgets/controls",
      "model_module_version": "1.5.0",
      "model_name": "HTMLModel",
      "state": {
       "_dom_classes": [],
       "_model_module": "@jupyter-widgets/controls",
       "_model_module_version": "1.5.0",
       "_model_name": "HTMLModel",
       "_view_count": null,
       "_view_module": "@jupyter-widgets/controls",
       "_view_module_version": "1.5.0",
       "_view_name": "HTMLView",
       "description": "",
       "description_tooltip": null,
       "layout": "IPY_MODEL_f58768143dbc48d0a340d610143195fa",
       "placeholder": "​",
       "style": "IPY_MODEL_fee0f51c3dd74dbb9ea6702468263b54",
       "value": " 3/3 [03:14&lt;00:00, 64.10s/it]"
      }
     },
     "31d92deec1b94de3ba34b28dcea40842": {
      "model_module": "@jupyter-widgets/controls",
      "model_module_version": "1.5.0",
      "model_name": "DescriptionStyleModel",
      "state": {
       "_model_module": "@jupyter-widgets/controls",
       "_model_module_version": "1.5.0",
       "_model_name": "DescriptionStyleModel",
       "_view_count": null,
       "_view_module": "@jupyter-widgets/base",
       "_view_module_version": "1.2.0",
       "_view_name": "StyleView",
       "description_width": ""
      }
     },
     "39d01b2bccc4401ab3dc9ee2051bc7e9": {
      "model_module": "@jupyter-widgets/controls",
      "model_module_version": "1.5.0",
      "model_name": "ProgressStyleModel",
      "state": {
       "_model_module": "@jupyter-widgets/controls",
       "_model_module_version": "1.5.0",
       "_model_name": "ProgressStyleModel",
       "_view_count": null,
       "_view_module": "@jupyter-widgets/base",
       "_view_module_version": "1.2.0",
       "_view_name": "StyleView",
       "bar_color": null,
       "description_width": ""
      }
     },
     "3eb1bbb7ed35448aba6358b8917b3295": {
      "model_module": "@jupyter-widgets/base",
      "model_module_version": "1.2.0",
      "model_name": "LayoutModel",
      "state": {
       "_model_module": "@jupyter-widgets/base",
       "_model_module_version": "1.2.0",
       "_model_name": "LayoutModel",
       "_view_count": null,
       "_view_module": "@jupyter-widgets/base",
       "_view_module_version": "1.2.0",
       "_view_name": "LayoutView",
       "align_content": null,
       "align_items": null,
       "align_self": null,
       "border": null,
       "bottom": null,
       "display": null,
       "flex": null,
       "flex_flow": null,
       "grid_area": null,
       "grid_auto_columns": null,
       "grid_auto_flow": null,
       "grid_auto_rows": null,
       "grid_column": null,
       "grid_gap": null,
       "grid_row": null,
       "grid_template_areas": null,
       "grid_template_columns": null,
       "grid_template_rows": null,
       "height": null,
       "justify_content": null,
       "justify_items": null,
       "left": null,
       "margin": null,
       "max_height": null,
       "max_width": null,
       "min_height": null,
       "min_width": null,
       "object_fit": null,
       "object_position": null,
       "order": null,
       "overflow": null,
       "overflow_x": null,
       "overflow_y": null,
       "padding": null,
       "right": null,
       "top": null,
       "visibility": null,
       "width": null
      }
     },
     "5f9b7070d0b447c59487502ce79366e2": {
      "model_module": "@jupyter-widgets/controls",
      "model_module_version": "1.5.0",
      "model_name": "DescriptionStyleModel",
      "state": {
       "_model_module": "@jupyter-widgets/controls",
       "_model_module_version": "1.5.0",
       "_model_name": "DescriptionStyleModel",
       "_view_count": null,
       "_view_module": "@jupyter-widgets/base",
       "_view_module_version": "1.2.0",
       "_view_name": "StyleView",
       "description_width": ""
      }
     },
     "6c9b2f8bc9f44cf0847d700d52a823e9": {
      "model_module": "@jupyter-widgets/controls",
      "model_module_version": "1.5.0",
      "model_name": "HTMLModel",
      "state": {
       "_dom_classes": [],
       "_model_module": "@jupyter-widgets/controls",
       "_model_module_version": "1.5.0",
       "_model_name": "HTMLModel",
       "_view_count": null,
       "_view_module": "@jupyter-widgets/controls",
       "_view_module_version": "1.5.0",
       "_view_name": "HTMLView",
       "description": "",
       "description_tooltip": null,
       "layout": "IPY_MODEL_28e653547b1e4868b6a98d937f1a706c",
       "placeholder": "​",
       "style": "IPY_MODEL_5f9b7070d0b447c59487502ce79366e2",
       "value": "Loading checkpoint shards: 100%"
      }
     },
     "8c4475cec316468380a703493cb99337": {
      "model_module": "@jupyter-widgets/base",
      "model_module_version": "1.2.0",
      "model_name": "LayoutModel",
      "state": {
       "_model_module": "@jupyter-widgets/base",
       "_model_module_version": "1.2.0",
       "_model_name": "LayoutModel",
       "_view_count": null,
       "_view_module": "@jupyter-widgets/base",
       "_view_module_version": "1.2.0",
       "_view_name": "LayoutView",
       "align_content": null,
       "align_items": null,
       "align_self": null,
       "border": null,
       "bottom": null,
       "display": null,
       "flex": null,
       "flex_flow": null,
       "grid_area": null,
       "grid_auto_columns": null,
       "grid_auto_flow": null,
       "grid_auto_rows": null,
       "grid_column": null,
       "grid_gap": null,
       "grid_row": null,
       "grid_template_areas": null,
       "grid_template_columns": null,
       "grid_template_rows": null,
       "height": null,
       "justify_content": null,
       "justify_items": null,
       "left": null,
       "margin": null,
       "max_height": null,
       "max_width": null,
       "min_height": null,
       "min_width": null,
       "object_fit": null,
       "object_position": null,
       "order": null,
       "overflow": null,
       "overflow_x": null,
       "overflow_y": null,
       "padding": null,
       "right": null,
       "top": null,
       "visibility": null,
       "width": null
      }
     },
     "8ebfd733b7d74b0db02a39d445047aa4": {
      "model_module": "@jupyter-widgets/base",
      "model_module_version": "1.2.0",
      "model_name": "LayoutModel",
      "state": {
       "_model_module": "@jupyter-widgets/base",
       "_model_module_version": "1.2.0",
       "_model_name": "LayoutModel",
       "_view_count": null,
       "_view_module": "@jupyter-widgets/base",
       "_view_module_version": "1.2.0",
       "_view_name": "LayoutView",
       "align_content": null,
       "align_items": null,
       "align_self": null,
       "border": null,
       "bottom": null,
       "display": null,
       "flex": null,
       "flex_flow": null,
       "grid_area": null,
       "grid_auto_columns": null,
       "grid_auto_flow": null,
       "grid_auto_rows": null,
       "grid_column": null,
       "grid_gap": null,
       "grid_row": null,
       "grid_template_areas": null,
       "grid_template_columns": null,
       "grid_template_rows": null,
       "height": null,
       "justify_content": null,
       "justify_items": null,
       "left": null,
       "margin": null,
       "max_height": null,
       "max_width": null,
       "min_height": null,
       "min_width": null,
       "object_fit": null,
       "object_position": null,
       "order": null,
       "overflow": null,
       "overflow_x": null,
       "overflow_y": null,
       "padding": null,
       "right": null,
       "top": null,
       "visibility": null,
       "width": null
      }
     },
     "a6af3629b7e141ca9d5abd6e559a1231": {
      "model_module": "@jupyter-widgets/controls",
      "model_module_version": "1.5.0",
      "model_name": "HTMLModel",
      "state": {
       "_dom_classes": [],
       "_model_module": "@jupyter-widgets/controls",
       "_model_module_version": "1.5.0",
       "_model_name": "HTMLModel",
       "_view_count": null,
       "_view_module": "@jupyter-widgets/controls",
       "_view_module_version": "1.5.0",
       "_view_name": "HTMLView",
       "description": "",
       "description_tooltip": null,
       "layout": "IPY_MODEL_fec03ffac5ad4c54889c16d6fb658bd6",
       "placeholder": "​",
       "style": "IPY_MODEL_1eddbcc5a39d4c8d90f876fed733d4de",
       "value": " 1410/1410 [00:00&lt;00:00, 2309.55 examples/s]"
      }
     },
     "a95ba85ba0ff4e70aaf4f521ac71fef3": {
      "model_module": "@jupyter-widgets/base",
      "model_module_version": "1.2.0",
      "model_name": "LayoutModel",
      "state": {
       "_model_module": "@jupyter-widgets/base",
       "_model_module_version": "1.2.0",
       "_model_name": "LayoutModel",
       "_view_count": null,
       "_view_module": "@jupyter-widgets/base",
       "_view_module_version": "1.2.0",
       "_view_name": "LayoutView",
       "align_content": null,
       "align_items": null,
       "align_self": null,
       "border": null,
       "bottom": null,
       "display": null,
       "flex": null,
       "flex_flow": null,
       "grid_area": null,
       "grid_auto_columns": null,
       "grid_auto_flow": null,
       "grid_auto_rows": null,
       "grid_column": null,
       "grid_gap": null,
       "grid_row": null,
       "grid_template_areas": null,
       "grid_template_columns": null,
       "grid_template_rows": null,
       "height": null,
       "justify_content": null,
       "justify_items": null,
       "left": null,
       "margin": null,
       "max_height": null,
       "max_width": null,
       "min_height": null,
       "min_width": null,
       "object_fit": null,
       "object_position": null,
       "order": null,
       "overflow": null,
       "overflow_x": null,
       "overflow_y": null,
       "padding": null,
       "right": null,
       "top": null,
       "visibility": null,
       "width": null
      }
     },
     "b8b0dd54c6da4b598b635475325ac8ce": {
      "model_module": "@jupyter-widgets/controls",
      "model_module_version": "1.5.0",
      "model_name": "HTMLModel",
      "state": {
       "_dom_classes": [],
       "_model_module": "@jupyter-widgets/controls",
       "_model_module_version": "1.5.0",
       "_model_name": "HTMLModel",
       "_view_count": null,
       "_view_module": "@jupyter-widgets/controls",
       "_view_module_version": "1.5.0",
       "_view_name": "HTMLView",
       "description": "",
       "description_tooltip": null,
       "layout": "IPY_MODEL_8ebfd733b7d74b0db02a39d445047aa4",
       "placeholder": "​",
       "style": "IPY_MODEL_31d92deec1b94de3ba34b28dcea40842",
       "value": "Map: 100%"
      }
     },
     "c79c89b6cdd34f4ebf715918311e2e96": {
      "model_module": "@jupyter-widgets/controls",
      "model_module_version": "1.5.0",
      "model_name": "ProgressStyleModel",
      "state": {
       "_model_module": "@jupyter-widgets/controls",
       "_model_module_version": "1.5.0",
       "_model_name": "ProgressStyleModel",
       "_view_count": null,
       "_view_module": "@jupyter-widgets/base",
       "_view_module_version": "1.2.0",
       "_view_name": "StyleView",
       "bar_color": null,
       "description_width": ""
      }
     },
     "dcb173f989064b6eb13e4b66fee1d269": {
      "model_module": "@jupyter-widgets/controls",
      "model_module_version": "1.5.0",
      "model_name": "FloatProgressModel",
      "state": {
       "_dom_classes": [],
       "_model_module": "@jupyter-widgets/controls",
       "_model_module_version": "1.5.0",
       "_model_name": "FloatProgressModel",
       "_view_count": null,
       "_view_module": "@jupyter-widgets/controls",
       "_view_module_version": "1.5.0",
       "_view_name": "ProgressView",
       "bar_style": "success",
       "description": "",
       "description_tooltip": null,
       "layout": "IPY_MODEL_28a889a2949e4a6aac3043333676d731",
       "max": 3,
       "min": 0,
       "orientation": "horizontal",
       "style": "IPY_MODEL_39d01b2bccc4401ab3dc9ee2051bc7e9",
       "value": 3
      }
     },
     "e883e17786ba47fcb159ff09d7e18aac": {
      "model_module": "@jupyter-widgets/controls",
      "model_module_version": "1.5.0",
      "model_name": "FloatProgressModel",
      "state": {
       "_dom_classes": [],
       "_model_module": "@jupyter-widgets/controls",
       "_model_module_version": "1.5.0",
       "_model_name": "FloatProgressModel",
       "_view_count": null,
       "_view_module": "@jupyter-widgets/controls",
       "_view_module_version": "1.5.0",
       "_view_name": "ProgressView",
       "bar_style": "success",
       "description": "",
       "description_tooltip": null,
       "layout": "IPY_MODEL_8c4475cec316468380a703493cb99337",
       "max": 1410,
       "min": 0,
       "orientation": "horizontal",
       "style": "IPY_MODEL_c79c89b6cdd34f4ebf715918311e2e96",
       "value": 1410
      }
     },
     "f58768143dbc48d0a340d610143195fa": {
      "model_module": "@jupyter-widgets/base",
      "model_module_version": "1.2.0",
      "model_name": "LayoutModel",
      "state": {
       "_model_module": "@jupyter-widgets/base",
       "_model_module_version": "1.2.0",
       "_model_name": "LayoutModel",
       "_view_count": null,
       "_view_module": "@jupyter-widgets/base",
       "_view_module_version": "1.2.0",
       "_view_name": "LayoutView",
       "align_content": null,
       "align_items": null,
       "align_self": null,
       "border": null,
       "bottom": null,
       "display": null,
       "flex": null,
       "flex_flow": null,
       "grid_area": null,
       "grid_auto_columns": null,
       "grid_auto_flow": null,
       "grid_auto_rows": null,
       "grid_column": null,
       "grid_gap": null,
       "grid_row": null,
       "grid_template_areas": null,
       "grid_template_columns": null,
       "grid_template_rows": null,
       "height": null,
       "justify_content": null,
       "justify_items": null,
       "left": null,
       "margin": null,
       "max_height": null,
       "max_width": null,
       "min_height": null,
       "min_width": null,
       "object_fit": null,
       "object_position": null,
       "order": null,
       "overflow": null,
       "overflow_x": null,
       "overflow_y": null,
       "padding": null,
       "right": null,
       "top": null,
       "visibility": null,
       "width": null
      }
     },
     "fec03ffac5ad4c54889c16d6fb658bd6": {
      "model_module": "@jupyter-widgets/base",
      "model_module_version": "1.2.0",
      "model_name": "LayoutModel",
      "state": {
       "_model_module": "@jupyter-widgets/base",
       "_model_module_version": "1.2.0",
       "_model_name": "LayoutModel",
       "_view_count": null,
       "_view_module": "@jupyter-widgets/base",
       "_view_module_version": "1.2.0",
       "_view_name": "LayoutView",
       "align_content": null,
       "align_items": null,
       "align_self": null,
       "border": null,
       "bottom": null,
       "display": null,
       "flex": null,
       "flex_flow": null,
       "grid_area": null,
       "grid_auto_columns": null,
       "grid_auto_flow": null,
       "grid_auto_rows": null,
       "grid_column": null,
       "grid_gap": null,
       "grid_row": null,
       "grid_template_areas": null,
       "grid_template_columns": null,
       "grid_template_rows": null,
       "height": null,
       "justify_content": null,
       "justify_items": null,
       "left": null,
       "margin": null,
       "max_height": null,
       "max_width": null,
       "min_height": null,
       "min_width": null,
       "object_fit": null,
       "object_position": null,
       "order": null,
       "overflow": null,
       "overflow_x": null,
       "overflow_y": null,
       "padding": null,
       "right": null,
       "top": null,
       "visibility": null,
       "width": null
      }
     },
     "fee0f51c3dd74dbb9ea6702468263b54": {
      "model_module": "@jupyter-widgets/controls",
      "model_module_version": "1.5.0",
      "model_name": "DescriptionStyleModel",
      "state": {
       "_model_module": "@jupyter-widgets/controls",
       "_model_module_version": "1.5.0",
       "_model_name": "DescriptionStyleModel",
       "_view_count": null,
       "_view_module": "@jupyter-widgets/base",
       "_view_module_version": "1.2.0",
       "_view_name": "StyleView",
       "description_width": ""
      }
     },
     "fff163fe7961427ab7028cbf167ec062": {
      "model_module": "@jupyter-widgets/controls",
      "model_module_version": "1.5.0",
      "model_name": "HBoxModel",
      "state": {
       "_dom_classes": [],
       "_model_module": "@jupyter-widgets/controls",
       "_model_module_version": "1.5.0",
       "_model_name": "HBoxModel",
       "_view_count": null,
       "_view_module": "@jupyter-widgets/controls",
       "_view_module_version": "1.5.0",
       "_view_name": "HBoxView",
       "box_style": "",
       "children": [
        "IPY_MODEL_b8b0dd54c6da4b598b635475325ac8ce",
        "IPY_MODEL_e883e17786ba47fcb159ff09d7e18aac",
        "IPY_MODEL_a6af3629b7e141ca9d5abd6e559a1231"
       ],
       "layout": "IPY_MODEL_a95ba85ba0ff4e70aaf4f521ac71fef3"
      }
     }
    },
    "version_major": 2,
    "version_minor": 0
   }
  }
 },
 "nbformat": 4,
 "nbformat_minor": 5
}
