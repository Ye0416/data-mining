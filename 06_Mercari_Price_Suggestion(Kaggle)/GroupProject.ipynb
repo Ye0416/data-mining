{
 "cells": [
  {
   "cell_type": "code",
   "execution_count": 1,
   "id": "16205bc0",
   "metadata": {
    "pycharm": {
     "name": "#%%\n"
    }
   },
   "outputs": [],
   "source": [
    "import pandas as pd\n",
    "import numpy as np\n",
    "from sklearn.feature_extraction.text import TfidfVectorizer\n",
    "from sklearn.preprocessing import LabelEncoder, MinMaxScaler"
   ]
  },
  {
   "cell_type": "code",
   "execution_count": 2,
   "id": "41ca502a",
   "metadata": {
    "pycharm": {
     "name": "#%%\n"
    }
   },
   "outputs": [],
   "source": [
    "train = pd.read_csv('train.tsv', sep='\\t')\n",
    "test = pd.read_csv('test.tsv', sep='\\t')"
   ]
  },
  {
   "cell_type": "code",
   "execution_count": 3,
   "id": "e5d050c4",
   "metadata": {
    "pycharm": {
     "name": "#%%\n"
    }
   },
   "outputs": [
    {
     "name": "stdout",
     "output_type": "stream",
     "text": [
      "(1482535, 8)\n",
      "(693359, 7)\n"
     ]
    }
   ],
   "source": [
    "print(train.shape)\n",
    "print(test.shape)    "
   ]
  },
  {
   "cell_type": "code",
   "execution_count": 4,
   "id": "1fc7cb5b",
   "metadata": {
    "pycharm": {
     "name": "#%%\n"
    }
   },
   "outputs": [
    {
     "name": "stdout",
     "output_type": "stream",
     "text": [
      "<class 'pandas.core.frame.DataFrame'>\n",
      "RangeIndex: 1482535 entries, 0 to 1482534\n",
      "Data columns (total 8 columns):\n",
      " #   Column             Non-Null Count    Dtype  \n",
      "---  ------             --------------    -----  \n",
      " 0   train_id           1482535 non-null  int64  \n",
      " 1   name               1482535 non-null  object \n",
      " 2   item_condition_id  1482535 non-null  int64  \n",
      " 3   category_name      1476208 non-null  object \n",
      " 4   brand_name         849853 non-null   object \n",
      " 5   price              1482535 non-null  float64\n",
      " 6   shipping           1482535 non-null  int64  \n",
      " 7   item_description   1482531 non-null  object \n",
      "dtypes: float64(1), int64(3), object(4)\n",
      "memory usage: 90.5+ MB\n"
     ]
    }
   ],
   "source": [
    "train.info()"
   ]
  },
  {
   "cell_type": "code",
   "execution_count": 5,
   "id": "94613565",
   "metadata": {
    "pycharm": {
     "name": "#%%\n"
    }
   },
   "outputs": [
    {
     "name": "stdout",
     "output_type": "stream",
     "text": [
      "<class 'pandas.core.frame.DataFrame'>\n",
      "RangeIndex: 693359 entries, 0 to 693358\n",
      "Data columns (total 7 columns):\n",
      " #   Column             Non-Null Count   Dtype \n",
      "---  ------             --------------   ----- \n",
      " 0   test_id            693359 non-null  int64 \n",
      " 1   name               693359 non-null  object\n",
      " 2   item_condition_id  693359 non-null  int64 \n",
      " 3   category_name      690301 non-null  object\n",
      " 4   brand_name         397834 non-null  object\n",
      " 5   shipping           693359 non-null  int64 \n",
      " 6   item_description   693359 non-null  object\n",
      "dtypes: int64(3), object(4)\n",
      "memory usage: 37.0+ MB\n"
     ]
    }
   ],
   "source": [
    "test.info()"
   ]
  },
  {
   "cell_type": "code",
   "execution_count": 6,
   "id": "949f5ac4",
   "metadata": {
    "pycharm": {
     "name": "#%%\n"
    }
   },
   "outputs": [
    {
     "data": {
      "text/html": [
       "<div>\n",
       "<style scoped>\n",
       "    .dataframe tbody tr th:only-of-type {\n",
       "        vertical-align: middle;\n",
       "    }\n",
       "\n",
       "    .dataframe tbody tr th {\n",
       "        vertical-align: top;\n",
       "    }\n",
       "\n",
       "    .dataframe thead th {\n",
       "        text-align: right;\n",
       "    }\n",
       "</style>\n",
       "<table border=\"1\" class=\"dataframe\">\n",
       "  <thead>\n",
       "    <tr style=\"text-align: right;\">\n",
       "      <th></th>\n",
       "      <th>train_id</th>\n",
       "      <th>name</th>\n",
       "      <th>item_condition_id</th>\n",
       "      <th>category_name</th>\n",
       "      <th>brand_name</th>\n",
       "      <th>price</th>\n",
       "      <th>shipping</th>\n",
       "      <th>item_description</th>\n",
       "    </tr>\n",
       "  </thead>\n",
       "  <tbody>\n",
       "    <tr>\n",
       "      <th>0</th>\n",
       "      <td>0</td>\n",
       "      <td>MLB Cincinnati Reds T Shirt Size XL</td>\n",
       "      <td>3</td>\n",
       "      <td>Men/Tops/T-shirts</td>\n",
       "      <td>NaN</td>\n",
       "      <td>10.0</td>\n",
       "      <td>1</td>\n",
       "      <td>No description yet</td>\n",
       "    </tr>\n",
       "    <tr>\n",
       "      <th>1</th>\n",
       "      <td>1</td>\n",
       "      <td>Razer BlackWidow Chroma Keyboard</td>\n",
       "      <td>3</td>\n",
       "      <td>Electronics/Computers &amp; Tablets/Components &amp; P...</td>\n",
       "      <td>Razer</td>\n",
       "      <td>52.0</td>\n",
       "      <td>0</td>\n",
       "      <td>This keyboard is in great condition and works ...</td>\n",
       "    </tr>\n",
       "    <tr>\n",
       "      <th>2</th>\n",
       "      <td>2</td>\n",
       "      <td>AVA-VIV Blouse</td>\n",
       "      <td>1</td>\n",
       "      <td>Women/Tops &amp; Blouses/Blouse</td>\n",
       "      <td>Target</td>\n",
       "      <td>10.0</td>\n",
       "      <td>1</td>\n",
       "      <td>Adorable top with a hint of lace and a key hol...</td>\n",
       "    </tr>\n",
       "    <tr>\n",
       "      <th>3</th>\n",
       "      <td>3</td>\n",
       "      <td>Leather Horse Statues</td>\n",
       "      <td>1</td>\n",
       "      <td>Home/Home Décor/Home Décor Accents</td>\n",
       "      <td>NaN</td>\n",
       "      <td>35.0</td>\n",
       "      <td>1</td>\n",
       "      <td>New with tags. Leather horses. Retail for [rm]...</td>\n",
       "    </tr>\n",
       "    <tr>\n",
       "      <th>4</th>\n",
       "      <td>4</td>\n",
       "      <td>24K GOLD plated rose</td>\n",
       "      <td>1</td>\n",
       "      <td>Women/Jewelry/Necklaces</td>\n",
       "      <td>NaN</td>\n",
       "      <td>44.0</td>\n",
       "      <td>0</td>\n",
       "      <td>Complete with certificate of authenticity</td>\n",
       "    </tr>\n",
       "  </tbody>\n",
       "</table>\n",
       "</div>"
      ],
      "text/plain": [
       "   train_id                                 name  item_condition_id  \\\n",
       "0         0  MLB Cincinnati Reds T Shirt Size XL                  3   \n",
       "1         1     Razer BlackWidow Chroma Keyboard                  3   \n",
       "2         2                       AVA-VIV Blouse                  1   \n",
       "3         3                Leather Horse Statues                  1   \n",
       "4         4                 24K GOLD plated rose                  1   \n",
       "\n",
       "                                       category_name brand_name  price  \\\n",
       "0                                  Men/Tops/T-shirts        NaN   10.0   \n",
       "1  Electronics/Computers & Tablets/Components & P...      Razer   52.0   \n",
       "2                        Women/Tops & Blouses/Blouse     Target   10.0   \n",
       "3                 Home/Home Décor/Home Décor Accents        NaN   35.0   \n",
       "4                            Women/Jewelry/Necklaces        NaN   44.0   \n",
       "\n",
       "   shipping                                   item_description  \n",
       "0         1                                 No description yet  \n",
       "1         0  This keyboard is in great condition and works ...  \n",
       "2         1  Adorable top with a hint of lace and a key hol...  \n",
       "3         1  New with tags. Leather horses. Retail for [rm]...  \n",
       "4         0          Complete with certificate of authenticity  "
      ]
     },
     "execution_count": 6,
     "metadata": {},
     "output_type": "execute_result"
    }
   ],
   "source": [
    "train.head()"
   ]
  },
  {
   "cell_type": "markdown",
   "id": "8f87c041",
   "metadata": {
    "pycharm": {
     "name": "#%% md\n"
    }
   },
   "source": [
    "# Data processing"
   ]
  },
  {
   "cell_type": "code",
   "execution_count": 7,
   "id": "00f5f5ca",
   "metadata": {
    "pycharm": {
     "name": "#%%\n"
    }
   },
   "outputs": [],
   "source": [
    "# 1. Split category_name and fill in missing values\n",
    "def cat_split(text):\n",
    "    if str(text) != \"nan\" and len(text.split(\"/\"))==3:\n",
    "        return text.split(\"/\")\n",
    "    else:return (\"Other\",\"Other\",\"Other\")\n",
    "train[\"cat_1\"], train[\"cat_2\"], train[\"cat_3\"] = zip(*train[\"category_name\"].apply(lambda cat: cat_split(cat)))\n",
    "test[\"cat_1\"], test[\"cat_2\"], test[\"cat_3\"] = zip(*test[\"category_name\"].apply(lambda cat: cat_split(cat)))"
   ]
  },
  {
   "cell_type": "code",
   "execution_count": 8,
   "id": "2cc70aa4",
   "metadata": {
    "pycharm": {
     "name": "#%%\n"
    }
   },
   "outputs": [],
   "source": [
    "# 2. Fill in null values in category_name, brand_name and item_description\n",
    "train['category_name'].fillna('Missing', inplace = True)\n",
    "train['brand_name'].fillna('Missing', inplace = True)\n",
    "train['item_description'].fillna(value=\"None\", inplace=True)\n",
    "test['category_name'].fillna('Missing', inplace = True)\n",
    "test['brand_name'].fillna('Missing', inplace = True)\n",
    "test['item_description'].fillna(value=\"None\", inplace=True)"
   ]
  },
  {
   "cell_type": "code",
   "execution_count": 9,
   "id": "5f0eb0af",
   "metadata": {
    "pycharm": {
     "name": "#%%\n"
    }
   },
   "outputs": [
    {
     "data": {
      "text/html": [
       "<div>\n",
       "<style scoped>\n",
       "    .dataframe tbody tr th:only-of-type {\n",
       "        vertical-align: middle;\n",
       "    }\n",
       "\n",
       "    .dataframe tbody tr th {\n",
       "        vertical-align: top;\n",
       "    }\n",
       "\n",
       "    .dataframe thead th {\n",
       "        text-align: right;\n",
       "    }\n",
       "</style>\n",
       "<table border=\"1\" class=\"dataframe\">\n",
       "  <thead>\n",
       "    <tr style=\"text-align: right;\">\n",
       "      <th></th>\n",
       "      <th>train_id</th>\n",
       "      <th>name</th>\n",
       "      <th>item_condition_id</th>\n",
       "      <th>category_name</th>\n",
       "      <th>brand_name</th>\n",
       "      <th>price</th>\n",
       "      <th>shipping</th>\n",
       "      <th>item_description</th>\n",
       "      <th>cat_1</th>\n",
       "      <th>cat_2</th>\n",
       "      <th>cat_3</th>\n",
       "    </tr>\n",
       "  </thead>\n",
       "  <tbody>\n",
       "    <tr>\n",
       "      <th>0</th>\n",
       "      <td>0</td>\n",
       "      <td>MLB Cincinnati Reds T Shirt Size XL</td>\n",
       "      <td>3</td>\n",
       "      <td>Men/Tops/T-shirts</td>\n",
       "      <td>Missing</td>\n",
       "      <td>10.0</td>\n",
       "      <td>1</td>\n",
       "      <td>No description yet</td>\n",
       "      <td>Men</td>\n",
       "      <td>Tops</td>\n",
       "      <td>T-shirts</td>\n",
       "    </tr>\n",
       "    <tr>\n",
       "      <th>1</th>\n",
       "      <td>1</td>\n",
       "      <td>Razer BlackWidow Chroma Keyboard</td>\n",
       "      <td>3</td>\n",
       "      <td>Electronics/Computers &amp; Tablets/Components &amp; P...</td>\n",
       "      <td>Razer</td>\n",
       "      <td>52.0</td>\n",
       "      <td>0</td>\n",
       "      <td>This keyboard is in great condition and works ...</td>\n",
       "      <td>Electronics</td>\n",
       "      <td>Computers &amp; Tablets</td>\n",
       "      <td>Components &amp; Parts</td>\n",
       "    </tr>\n",
       "    <tr>\n",
       "      <th>2</th>\n",
       "      <td>2</td>\n",
       "      <td>AVA-VIV Blouse</td>\n",
       "      <td>1</td>\n",
       "      <td>Women/Tops &amp; Blouses/Blouse</td>\n",
       "      <td>Target</td>\n",
       "      <td>10.0</td>\n",
       "      <td>1</td>\n",
       "      <td>Adorable top with a hint of lace and a key hol...</td>\n",
       "      <td>Women</td>\n",
       "      <td>Tops &amp; Blouses</td>\n",
       "      <td>Blouse</td>\n",
       "    </tr>\n",
       "    <tr>\n",
       "      <th>3</th>\n",
       "      <td>3</td>\n",
       "      <td>Leather Horse Statues</td>\n",
       "      <td>1</td>\n",
       "      <td>Home/Home Décor/Home Décor Accents</td>\n",
       "      <td>Missing</td>\n",
       "      <td>35.0</td>\n",
       "      <td>1</td>\n",
       "      <td>New with tags. Leather horses. Retail for [rm]...</td>\n",
       "      <td>Home</td>\n",
       "      <td>Home Décor</td>\n",
       "      <td>Home Décor Accents</td>\n",
       "    </tr>\n",
       "    <tr>\n",
       "      <th>4</th>\n",
       "      <td>4</td>\n",
       "      <td>24K GOLD plated rose</td>\n",
       "      <td>1</td>\n",
       "      <td>Women/Jewelry/Necklaces</td>\n",
       "      <td>Missing</td>\n",
       "      <td>44.0</td>\n",
       "      <td>0</td>\n",
       "      <td>Complete with certificate of authenticity</td>\n",
       "      <td>Women</td>\n",
       "      <td>Jewelry</td>\n",
       "      <td>Necklaces</td>\n",
       "    </tr>\n",
       "  </tbody>\n",
       "</table>\n",
       "</div>"
      ],
      "text/plain": [
       "   train_id                                 name  item_condition_id  \\\n",
       "0         0  MLB Cincinnati Reds T Shirt Size XL                  3   \n",
       "1         1     Razer BlackWidow Chroma Keyboard                  3   \n",
       "2         2                       AVA-VIV Blouse                  1   \n",
       "3         3                Leather Horse Statues                  1   \n",
       "4         4                 24K GOLD plated rose                  1   \n",
       "\n",
       "                                       category_name brand_name  price  \\\n",
       "0                                  Men/Tops/T-shirts    Missing   10.0   \n",
       "1  Electronics/Computers & Tablets/Components & P...      Razer   52.0   \n",
       "2                        Women/Tops & Blouses/Blouse     Target   10.0   \n",
       "3                 Home/Home Décor/Home Décor Accents    Missing   35.0   \n",
       "4                            Women/Jewelry/Necklaces    Missing   44.0   \n",
       "\n",
       "   shipping                                   item_description        cat_1  \\\n",
       "0         1                                 No description yet          Men   \n",
       "1         0  This keyboard is in great condition and works ...  Electronics   \n",
       "2         1  Adorable top with a hint of lace and a key hol...        Women   \n",
       "3         1  New with tags. Leather horses. Retail for [rm]...         Home   \n",
       "4         0          Complete with certificate of authenticity        Women   \n",
       "\n",
       "                 cat_2               cat_3  \n",
       "0                 Tops            T-shirts  \n",
       "1  Computers & Tablets  Components & Parts  \n",
       "2       Tops & Blouses              Blouse  \n",
       "3           Home Décor  Home Décor Accents  \n",
       "4              Jewelry           Necklaces  "
      ]
     },
     "execution_count": 9,
     "metadata": {},
     "output_type": "execute_result"
    }
   ],
   "source": [
    "train.head(5)"
   ]
  },
  {
   "cell_type": "code",
   "execution_count": 10,
   "id": "22281a07",
   "metadata": {
    "pycharm": {
     "name": "#%%\n"
    }
   },
   "outputs": [],
   "source": [
    "# id is not used, category_name is split to predict, but a specific combination may have an impact, so it is retained\n",
    "train.drop(columns =[\"train_id\"], inplace = True)\n",
    "test.drop(columns =[\"test_id\"], inplace = True)"
   ]
  },
  {
   "cell_type": "code",
   "execution_count": 11,
   "id": "f08f2572",
   "metadata": {
    "pycharm": {
     "name": "#%%\n"
    }
   },
   "outputs": [],
   "source": [
    "# For train, there is a price attribute, which is a label that needs to be taken out separately\n",
    "y_train = train['price']\n",
    "train = train.drop(columns=['price'])"
   ]
  },
  {
   "cell_type": "code",
   "execution_count": 12,
   "id": "83c31339",
   "metadata": {
    "pycharm": {
     "name": "#%%\n"
    }
   },
   "outputs": [],
   "source": [
    "# Adjust y to log (y + 1)\n",
    "y = np.log(y_train.values + 1)"
   ]
  },
  {
   "cell_type": "code",
   "execution_count": 13,
   "id": "36c50778",
   "metadata": {
    "pycharm": {
     "name": "#%%\n"
    }
   },
   "outputs": [],
   "source": [
    "# Non-numerical types need to be changed to numerical types\n",
    "from sklearn.preprocessing import LabelEncoder\n",
    "\n",
    "le=LabelEncoder()\n",
    "for col in train.select_dtypes(include=['object']).columns.tolist():\n",
    "    train[col] = le.fit_transform(train[col])"
   ]
  },
  {
   "cell_type": "code",
   "execution_count": 14,
   "id": "9782e551",
   "metadata": {
    "pycharm": {
     "name": "#%%\n"
    }
   },
   "outputs": [
    {
     "data": {
      "text/html": [
       "<div>\n",
       "<style scoped>\n",
       "    .dataframe tbody tr th:only-of-type {\n",
       "        vertical-align: middle;\n",
       "    }\n",
       "\n",
       "    .dataframe tbody tr th {\n",
       "        vertical-align: top;\n",
       "    }\n",
       "\n",
       "    .dataframe thead th {\n",
       "        text-align: right;\n",
       "    }\n",
       "</style>\n",
       "<table border=\"1\" class=\"dataframe\">\n",
       "  <thead>\n",
       "    <tr style=\"text-align: right;\">\n",
       "      <th></th>\n",
       "      <th>name</th>\n",
       "      <th>item_condition_id</th>\n",
       "      <th>category_name</th>\n",
       "      <th>brand_name</th>\n",
       "      <th>shipping</th>\n",
       "      <th>item_description</th>\n",
       "      <th>cat_1</th>\n",
       "      <th>cat_2</th>\n",
       "      <th>cat_3</th>\n",
       "    </tr>\n",
       "  </thead>\n",
       "  <tbody>\n",
       "    <tr>\n",
       "      <th>0</th>\n",
       "      <td>640809</td>\n",
       "      <td>3</td>\n",
       "      <td>808</td>\n",
       "      <td>2887</td>\n",
       "      <td>1</td>\n",
       "      <td>806610</td>\n",
       "      <td>5</td>\n",
       "      <td>102</td>\n",
       "      <td>758</td>\n",
       "    </tr>\n",
       "    <tr>\n",
       "      <th>1</th>\n",
       "      <td>903932</td>\n",
       "      <td>3</td>\n",
       "      <td>86</td>\n",
       "      <td>3558</td>\n",
       "      <td>0</td>\n",
       "      <td>1090878</td>\n",
       "      <td>1</td>\n",
       "      <td>30</td>\n",
       "      <td>212</td>\n",
       "    </tr>\n",
       "    <tr>\n",
       "      <th>2</th>\n",
       "      <td>91532</td>\n",
       "      <td>1</td>\n",
       "      <td>1255</td>\n",
       "      <td>4181</td>\n",
       "      <td>1</td>\n",
       "      <td>115289</td>\n",
       "      <td>9</td>\n",
       "      <td>103</td>\n",
       "      <td>94</td>\n",
       "    </tr>\n",
       "    <tr>\n",
       "      <th>3</th>\n",
       "      <td>561143</td>\n",
       "      <td>1</td>\n",
       "      <td>485</td>\n",
       "      <td>2887</td>\n",
       "      <td>1</td>\n",
       "      <td>782305</td>\n",
       "      <td>3</td>\n",
       "      <td>55</td>\n",
       "      <td>401</td>\n",
       "    </tr>\n",
       "    <tr>\n",
       "      <th>4</th>\n",
       "      <td>45483</td>\n",
       "      <td>1</td>\n",
       "      <td>1182</td>\n",
       "      <td>2887</td>\n",
       "      <td>0</td>\n",
       "      <td>366652</td>\n",
       "      <td>9</td>\n",
       "      <td>58</td>\n",
       "      <td>532</td>\n",
       "    </tr>\n",
       "  </tbody>\n",
       "</table>\n",
       "</div>"
      ],
      "text/plain": [
       "     name  item_condition_id  category_name  brand_name  shipping  \\\n",
       "0  640809                  3            808        2887         1   \n",
       "1  903932                  3             86        3558         0   \n",
       "2   91532                  1           1255        4181         1   \n",
       "3  561143                  1            485        2887         1   \n",
       "4   45483                  1           1182        2887         0   \n",
       "\n",
       "   item_description  cat_1  cat_2  cat_3  \n",
       "0            806610      5    102    758  \n",
       "1           1090878      1     30    212  \n",
       "2            115289      9    103     94  \n",
       "3            782305      3     55    401  \n",
       "4            366652      9     58    532  "
      ]
     },
     "execution_count": 14,
     "metadata": {},
     "output_type": "execute_result"
    }
   ],
   "source": [
    "train.head(5)"
   ]
  },
  {
   "cell_type": "code",
   "execution_count": 15,
   "id": "13691464",
   "metadata": {
    "pycharm": {
     "name": "#%%\n"
    }
   },
   "outputs": [],
   "source": [
    "# test is the same\n",
    "le=LabelEncoder()\n",
    "for col in test.select_dtypes(include=['object']).columns.tolist():\n",
    "    test[col] = le.fit_transform(test[col])"
   ]
  },
  {
   "cell_type": "code",
   "execution_count": 16,
   "id": "6beb54b5",
   "metadata": {
    "pycharm": {
     "name": "#%%\n"
    }
   },
   "outputs": [
    {
     "data": {
      "text/html": [
       "<div>\n",
       "<style scoped>\n",
       "    .dataframe tbody tr th:only-of-type {\n",
       "        vertical-align: middle;\n",
       "    }\n",
       "\n",
       "    .dataframe tbody tr th {\n",
       "        vertical-align: top;\n",
       "    }\n",
       "\n",
       "    .dataframe thead th {\n",
       "        text-align: right;\n",
       "    }\n",
       "</style>\n",
       "<table border=\"1\" class=\"dataframe\">\n",
       "  <thead>\n",
       "    <tr style=\"text-align: right;\">\n",
       "      <th></th>\n",
       "      <th>name</th>\n",
       "      <th>item_condition_id</th>\n",
       "      <th>category_name</th>\n",
       "      <th>brand_name</th>\n",
       "      <th>shipping</th>\n",
       "      <th>item_description</th>\n",
       "      <th>cat_1</th>\n",
       "      <th>cat_2</th>\n",
       "      <th>cat_3</th>\n",
       "    </tr>\n",
       "  </thead>\n",
       "  <tbody>\n",
       "    <tr>\n",
       "      <th>0</th>\n",
       "      <td>110376</td>\n",
       "      <td>1</td>\n",
       "      <td>1119</td>\n",
       "      <td>2334</td>\n",
       "      <td>1</td>\n",
       "      <td>457436</td>\n",
       "      <td>9</td>\n",
       "      <td>58</td>\n",
       "      <td>621</td>\n",
       "    </tr>\n",
       "    <tr>\n",
       "      <th>1</th>\n",
       "      <td>21757</td>\n",
       "      <td>1</td>\n",
       "      <td>826</td>\n",
       "      <td>2334</td>\n",
       "      <td>1</td>\n",
       "      <td>31753</td>\n",
       "      <td>6</td>\n",
       "      <td>71</td>\n",
       "      <td>652</td>\n",
       "    </tr>\n",
       "    <tr>\n",
       "      <th>2</th>\n",
       "      <td>140281</td>\n",
       "      <td>1</td>\n",
       "      <td>922</td>\n",
       "      <td>814</td>\n",
       "      <td>1</td>\n",
       "      <td>125968</td>\n",
       "      <td>8</td>\n",
       "      <td>7</td>\n",
       "      <td>352</td>\n",
       "    </tr>\n",
       "    <tr>\n",
       "      <th>3</th>\n",
       "      <td>186403</td>\n",
       "      <td>2</td>\n",
       "      <td>1170</td>\n",
       "      <td>2334</td>\n",
       "      <td>0</td>\n",
       "      <td>11516</td>\n",
       "      <td>9</td>\n",
       "      <td>96</td>\n",
       "      <td>158</td>\n",
       "    </tr>\n",
       "    <tr>\n",
       "      <th>4</th>\n",
       "      <td>277503</td>\n",
       "      <td>3</td>\n",
       "      <td>790</td>\n",
       "      <td>2334</td>\n",
       "      <td>1</td>\n",
       "      <td>431600</td>\n",
       "      <td>6</td>\n",
       "      <td>14</td>\n",
       "      <td>616</td>\n",
       "    </tr>\n",
       "  </tbody>\n",
       "</table>\n",
       "</div>"
      ],
      "text/plain": [
       "     name  item_condition_id  category_name  brand_name  shipping  \\\n",
       "0  110376                  1           1119        2334         1   \n",
       "1   21757                  1            826        2334         1   \n",
       "2  140281                  1            922         814         1   \n",
       "3  186403                  2           1170        2334         0   \n",
       "4  277503                  3            790        2334         1   \n",
       "\n",
       "   item_description  cat_1  cat_2  cat_3  \n",
       "0            457436      9     58    621  \n",
       "1             31753      6     71    652  \n",
       "2            125968      8      7    352  \n",
       "3             11516      9     96    158  \n",
       "4            431600      6     14    616  "
      ]
     },
     "execution_count": 16,
     "metadata": {},
     "output_type": "execute_result"
    }
   ],
   "source": [
    "test.head(5)"
   ]
  },
  {
   "cell_type": "code",
   "execution_count": 17,
   "id": "d5654daf",
   "metadata": {
    "pycharm": {
     "name": "#%%\n"
    }
   },
   "outputs": [],
   "source": [
    "# Split the dataset into 8:2\n",
    "split_index = int(0.8 * len(train))\n",
    "X_train, X_val = train[:split_index], train[split_index:]\n",
    "y_train, y_val = y[:split_index], y[split_index:]"
   ]
  },
  {
   "cell_type": "code",
   "execution_count": 18,
   "id": "22762411",
   "metadata": {
    "pycharm": {
     "name": "#%%\n"
    }
   },
   "outputs": [],
   "source": [
    "from sklearn.metrics import mean_squared_error, r2_score\n",
    "\n",
    "def rmsle(Y, Y_pred):\n",
    "    assert Y.shape == Y_pred.shape\n",
    "    return np.sqrt(np.mean(np.square(Y_pred - Y)))"
   ]
  },
  {
   "cell_type": "code",
   "execution_count": 19,
   "id": "cf053fa3",
   "metadata": {
    "pycharm": {
     "name": "#%%\n"
    }
   },
   "outputs": [],
   "source": [
    "def run_model(model, X_train, y_train, X_val, y_val):\n",
    "    model.fit(X_train, y_train)\n",
    "    \n",
    "    ypre = model.predict(X_val)\n",
    "    \n",
    "    mse = mean_squared_error(y_val, ypre)\n",
    "    r_sq = r2_score(y_val, ypre)\n",
    "    rmlse_1 = rmsle(y_val, ypre)\n",
    "    \n",
    "    print(\"Mean Squared Error Value : \"+\"{:.2f}\".format(mse))\n",
    "    print(\"\\nR-Squared Value : \"+\"{:.2f}\".format(r_sq))\n",
    "    print(\"\\nRMLSE : \"+\"{:.2f}\".format(rmlse_1))\n",
    "    return model, mse, r_sq, rmlse_1"
   ]
  },
  {
   "cell_type": "code",
   "execution_count": 20,
   "id": "9c9f3daa",
   "metadata": {
    "pycharm": {
     "name": "#%%\n"
    }
   },
   "outputs": [
    {
     "name": "stdout",
     "output_type": "stream",
     "text": [
      "Linear Regression\n",
      "---------------------------------------\n",
      "Mean Squared Error Value : 0.52\n",
      "\n",
      "R-Squared Value : 0.08\n",
      "\n",
      "RMLSE : 0.72\n"
     ]
    }
   ],
   "source": [
    "from sklearn.linear_model import LinearRegression\n",
    "\n",
    "linear_reg = LinearRegression()\n",
    "print(\"Linear Regression\")\n",
    "print(\"---------------------------------------\")\n",
    "model_2, mse_2, r_sq_2, rmlse_3 = run_model(linear_reg, X_train, y_train, X_val, y_val)"
   ]
  },
  {
   "cell_type": "code",
   "execution_count": 21,
   "id": "24e0c136",
   "metadata": {
    "pycharm": {
     "name": "#%%\n"
    }
   },
   "outputs": [
    {
     "name": "stdout",
     "output_type": "stream",
     "text": [
      "Ridge Regression\n",
      "---------------------------------------\n",
      "Mean Squared Error Value : 0.52\n",
      "\n",
      "R-Squared Value : 0.08\n",
      "\n",
      "RMLSE : 0.72\n"
     ]
    }
   ],
   "source": [
    "from sklearn.linear_model import Ridge\n",
    "\n",
    "ridge_reg = Ridge(alpha=0.1)\n",
    "print(\"Ridge Regression\")\n",
    "print(\"---------------------------------------\")\n",
    "model_3, mse_3, r_sq_3, rmlse_3 = run_model(ridge_reg, X_train, y_train, X_val, y_val)"
   ]
  },
  {
   "cell_type": "code",
   "execution_count": 22,
   "id": "9e5e6265",
   "metadata": {
    "pycharm": {
     "name": "#%%\n"
    }
   },
   "outputs": [
    {
     "name": "stdout",
     "output_type": "stream",
     "text": [
      "Ridge Regression\n",
      "---------------------------------------\n",
      "Mean Squared Error Value : 0.52\n",
      "\n",
      "R-Squared Value : 0.08\n",
      "\n",
      "RMLSE : 0.72\n",
      "Best alpha: 10.235310218990268\n"
     ]
    }
   ],
   "source": [
    "# import numpy as np\n",
    "from sklearn.linear_model import RidgeCV\n",
    "# from sklearn.metrics import mean_squared_error, r2_score, mean_squared_log_error\n",
    "\n",
    "# Define a list of candidate alpha values\n",
    "alphas = np.logspace(-4, 4, 100)\n",
    "\n",
    "# Selecting the optimal alpha value in cross validation using RidgeCV\n",
    "ridge_cv = RidgeCV(alphas=alphas, cv=10) # 10 fold cross validation\n",
    "print(\"Ridge Regression\")\n",
    "print(\"---------------------------------------\")\n",
    "\n",
    "# run model\n",
    "model_4, mse_4, r_sq_4, rmlse_4 = run_model(ridge_cv, X_train, y_train, X_val, y_val)\n",
    "# print the best alpha\n",
    "print(\"Best alpha:\", ridge_cv.alpha_)"
   ]
  },
  {
   "cell_type": "code",
   "execution_count": 23,
   "id": "9c4d0344",
   "metadata": {
    "pycharm": {
     "name": "#%%\n"
    }
   },
   "outputs": [
    {
     "name": "stdout",
     "output_type": "stream",
     "text": [
      "LGBM Regression\n",
      "---------------------------------------\n",
      "Mean Squared Error Value : 0.33\n",
      "\n",
      "R-Squared Value : 0.41\n",
      "\n",
      "RMLSE : 0.57\n",
      "Best parameters found:  {'learning_rate': 0.2, 'max_depth': 7, 'n_estimators': 60, 'num_leaves': 63}\n"
     ]
    }
   ],
   "source": [
    "import lightgbm as lgb\n",
    "# import numpy as np\n",
    "from sklearn.model_selection import GridSearchCV\n",
    "\n",
    "# create a LightGBM classification\n",
    "lgbm_reg = lgb.LGBMRegressor()\n",
    "print(\"LGBM Regression\")\n",
    "print(\"---------------------------------------\")\n",
    "\n",
    "\n",
    "# Define the grid\n",
    "param_grid = {\n",
    "    'learning_rate': [0.01, 0.1, 0.2],\n",
    "    'n_estimators': [20, 40, 60],\n",
    "    'num_leaves': [15, 31, 63],\n",
    "    'max_depth': [3, 5, 7]\n",
    "}\n",
    "\n",
    "# Use GridSearchCV to improve the data\n",
    "grid = GridSearchCV(lgbm_reg, param_grid, cv=5)\n",
    "\n",
    "\n",
    "model_4, mse_4, r_sq_4, rmlse_4 = run_model(grid, X_train, y_train, X_val, y_val)\n",
    "\n",
    "# To print the best combination of data\n",
    "print(\"Best parameters found: \", grid.best_params_)\n"
   ]
  },
  {
   "cell_type": "code",
   "execution_count": 24,
   "id": "332897df",
   "metadata": {
    "pycharm": {
     "name": "#%%\n"
    }
   },
   "outputs": [
    {
     "name": "stdout",
     "output_type": "stream",
     "text": [
      "LGBM Regression\n",
      "---------------------------------------\n",
      "Mean Squared Error Value : 0.33\n",
      "\n",
      "R-Squared Value : 0.41\n",
      "\n",
      "RMLSE : 0.57\n",
      "Best parameters found:  {'colsample_bytree': 0.5104296063761273, 'learning_rate': 0.20955079695161294, 'max_depth': 6, 'min_child_samples': 26, 'n_estimators': 88, 'num_leaves': 44, 'subsample': 0.8588721707751128}\n"
     ]
    }
   ],
   "source": [
    "# import lightgbm as lgb\n",
    "# import numpy as np\n",
    "from sklearn.model_selection import RandomizedSearchCV\n",
    "from scipy.stats import randint as sp_randint\n",
    "from scipy.stats import uniform as sp_uniform\n",
    "\n",
    "# created lightGBM model\n",
    "lgbm_reg = lgb.LGBMRegressor()\n",
    "print(\"LGBM Regression\")\n",
    "print(\"---------------------------------------\")\n",
    "\n",
    "param_dist = {\n",
    "    'learning_rate': sp_uniform(0.01, 0.2),\n",
    "    'n_estimators': sp_randint(20, 100),\n",
    "    'num_leaves': sp_randint(15, 64),\n",
    "    'max_depth': sp_randint(3, 8),\n",
    "    'min_child_samples': sp_randint(10, 50),\n",
    "    'subsample': sp_uniform(0.5, 0.5),\n",
    "    'colsample_bytree': sp_uniform(0.5, 0.5)\n",
    "}\n",
    "\n",
    "# use RandomizedSearchCV to perform parameter optimization\n",
    "random_search = RandomizedSearchCV(lgbm_reg, param_distributions=param_dist, n_iter=50, cv=10, scoring='neg_mean_squared_error', n_jobs=-1)\n",
    "random_search.fit(X_train, y_train)\n",
    "\n",
    "# run model\n",
    "model_4, mse_4, r_sq_4, rmlse_4 = run_model(random_search.best_estimator_, X_train, y_train, X_val, y_val)\n",
    "\n",
    "print(\"Best parameters found: \", random_search.best_params_)\n",
    "\n"
   ]
  },
  {
   "cell_type": "code",
   "execution_count": 25,
   "id": "ae08f851",
   "metadata": {
    "pycharm": {
     "name": "#%%\n"
    }
   },
   "outputs": [
    {
     "name": "stdout",
     "output_type": "stream",
     "text": [
      "RandomForest Regression\n",
      "---------------------------------------\n",
      "Mean Squared Error Value : 0.29\n",
      "\n",
      "R-Squared Value : 0.48\n",
      "\n",
      "RMLSE : 0.54\n"
     ]
    }
   ],
   "source": [
    "from sklearn.ensemble import RandomForestRegressor\n",
    "\n",
    "rf_reg = RandomForestRegressor()\n",
    "print(\"RandomForest Regression\")\n",
    "print(\"---------------------------------------\")\n",
    "model_4, mse_4, r_sq_4, rmlse_4 = run_model(rf_reg,X_train, y_train, X_val, y_val)"
   ]
  },
  {
   "cell_type": "code",
   "execution_count": 26,
   "id": "7d81a13b",
   "metadata": {
    "pycharm": {
     "name": "#%%\n"
    }
   },
   "outputs": [
    {
     "name": "stdout",
     "output_type": "stream",
     "text": [
      "RandomForest Regression\n",
      "---------------------------------------\n",
      "Mean Squared Error Value : 0.53\n",
      "\n",
      "R-Squared Value : 0.06\n",
      "\n",
      "RMLSE : 0.73\n"
     ]
    }
   ],
   "source": [
    "# from sklearn.ensemble import RandomForestRegressor\n",
    "\n",
    "# Setting of the data\n",
    "params = {\n",
    "    'n_estimators': 200,\n",
    "    'max_depth': 30,\n",
    "    'min_samples_split': 4,\n",
    "    'min_samples_leaf': 2,\n",
    "    'max_features': 'sqrt',\n",
    "    'min_impurity_decrease': 0.01\n",
    "}\n",
    "\n",
    "rf_reg = RandomForestRegressor(**params)\n",
    "print(\"RandomForest Regression\")\n",
    "print(\"---------------------------------------\")\n",
    "model_4, mse_4, r_sq_4, rmlse_4 = run_model(rf_reg, X_train, y_train, X_val, y_val)\n"
   ]
  },
  {
   "cell_type": "code",
   "execution_count": 27,
   "id": "28246b76",
   "metadata": {
    "pycharm": {
     "name": "#%%\n"
    }
   },
   "outputs": [
    {
     "name": "stdout",
     "output_type": "stream",
     "text": [
      "RandomForest Regression\n",
      "---------------------------------------\n",
      "Mean Squared Error Value : 0.28\n",
      "\n",
      "R-Squared Value : 0.50\n",
      "\n",
      "RMLSE : 0.53\n"
     ]
    }
   ],
   "source": [
    "# from sklearn.ensemble import RandomForestRegressor\n",
    "\n",
    "# Setting of the data\n",
    "params = {\n",
    "    'n_estimators': 200,\n",
    "    # 'max_depth': 25,\n",
    "    # 'min_samples_split': 4,\n",
    "    'min_samples_leaf': 5,\n",
    "    # 'max_features': 0.8,\n",
    "    # 'min_impurity_decrease': 0.01,\n",
    "    'n_jobs': -1\n",
    "}\n",
    "\n",
    "rf_reg = RandomForestRegressor(**params)\n",
    "print(\"RandomForest Regression\")\n",
    "print(\"---------------------------------------\")\n",
    "model_4, mse_4, r_sq_4, rmlse_4 = run_model(rf_reg, X_train, y_train, X_val, y_val)\n"
   ]
  },
  {
   "cell_type": "code",
   "execution_count": 28,
   "id": "68057ae6",
   "metadata": {
    "pycharm": {
     "name": "#%%\n"
    }
   },
   "outputs": [
    {
     "name": "stdout",
     "output_type": "stream",
     "text": [
      "RandomForest Regression\n",
      "---------------------------------------\n",
      "Mean Squared Error Value : 0.28\n",
      "\n",
      "R-Squared Value : 0.49\n",
      "\n",
      "RMLSE : 0.53\n"
     ]
    }
   ],
   "source": [
    "# from sklearn.ensemble import RandomForestRegressor\n",
    "\n",
    "# Setting of the data\n",
    "params = {\n",
    "    'n_estimators': 250,\n",
    "    # 'max_depth': 25,\n",
    "    #'min_samples_split': 1,\n",
    "    'min_samples_leaf': 3,\n",
    "    #'max_features': 'auto',\n",
    "    # 'min_impurity_decrease': 0.01,\n",
    "    'n_jobs': -1\n",
    "}\n",
    "\n",
    "rf_reg = RandomForestRegressor(**params)\n",
    "print(\"RandomForest Regression\")\n",
    "print(\"---------------------------------------\")\n",
    "model_4, mse_4, r_sq_4, rmlse_4 = run_model(rf_reg, X_train, y_train, X_val, y_val)\n"
   ]
  },
  {
   "cell_type": "code",
   "execution_count": 29,
   "id": "3d0f7af7",
   "metadata": {
    "pycharm": {
     "name": "#%%\n"
    }
   },
   "outputs": [],
   "source": [
    "# -------------------------- LSTM was added to the data processing to deal with the text features -------------------------------------"
   ]
  },
  {
   "cell_type": "code",
   "execution_count": 30,
   "id": "93219507",
   "metadata": {
    "pycharm": {
     "name": "#%%\n"
    }
   },
   "outputs": [
    {
     "name": "stdout",
     "output_type": "stream",
     "text": [
      "(1482535, 8)\n"
     ]
    },
    {
     "data": {
      "text/html": [
       "<div>\n",
       "<style scoped>\n",
       "    .dataframe tbody tr th:only-of-type {\n",
       "        vertical-align: middle;\n",
       "    }\n",
       "\n",
       "    .dataframe tbody tr th {\n",
       "        vertical-align: top;\n",
       "    }\n",
       "\n",
       "    .dataframe thead th {\n",
       "        text-align: right;\n",
       "    }\n",
       "</style>\n",
       "<table border=\"1\" class=\"dataframe\">\n",
       "  <thead>\n",
       "    <tr style=\"text-align: right;\">\n",
       "      <th></th>\n",
       "      <th>train_id</th>\n",
       "      <th>name</th>\n",
       "      <th>item_condition_id</th>\n",
       "      <th>category_name</th>\n",
       "      <th>brand_name</th>\n",
       "      <th>price</th>\n",
       "      <th>shipping</th>\n",
       "      <th>item_description</th>\n",
       "    </tr>\n",
       "  </thead>\n",
       "  <tbody>\n",
       "    <tr>\n",
       "      <th>0</th>\n",
       "      <td>0</td>\n",
       "      <td>MLB Cincinnati Reds T Shirt Size XL</td>\n",
       "      <td>3</td>\n",
       "      <td>Men/Tops/T-shirts</td>\n",
       "      <td>NaN</td>\n",
       "      <td>10.0</td>\n",
       "      <td>1</td>\n",
       "      <td>No description yet</td>\n",
       "    </tr>\n",
       "    <tr>\n",
       "      <th>1</th>\n",
       "      <td>1</td>\n",
       "      <td>Razer BlackWidow Chroma Keyboard</td>\n",
       "      <td>3</td>\n",
       "      <td>Electronics/Computers &amp; Tablets/Components &amp; P...</td>\n",
       "      <td>Razer</td>\n",
       "      <td>52.0</td>\n",
       "      <td>0</td>\n",
       "      <td>This keyboard is in great condition and works ...</td>\n",
       "    </tr>\n",
       "    <tr>\n",
       "      <th>2</th>\n",
       "      <td>2</td>\n",
       "      <td>AVA-VIV Blouse</td>\n",
       "      <td>1</td>\n",
       "      <td>Women/Tops &amp; Blouses/Blouse</td>\n",
       "      <td>Target</td>\n",
       "      <td>10.0</td>\n",
       "      <td>1</td>\n",
       "      <td>Adorable top with a hint of lace and a key hol...</td>\n",
       "    </tr>\n",
       "    <tr>\n",
       "      <th>3</th>\n",
       "      <td>3</td>\n",
       "      <td>Leather Horse Statues</td>\n",
       "      <td>1</td>\n",
       "      <td>Home/Home Décor/Home Décor Accents</td>\n",
       "      <td>NaN</td>\n",
       "      <td>35.0</td>\n",
       "      <td>1</td>\n",
       "      <td>New with tags. Leather horses. Retail for [rm]...</td>\n",
       "    </tr>\n",
       "    <tr>\n",
       "      <th>4</th>\n",
       "      <td>4</td>\n",
       "      <td>24K GOLD plated rose</td>\n",
       "      <td>1</td>\n",
       "      <td>Women/Jewelry/Necklaces</td>\n",
       "      <td>NaN</td>\n",
       "      <td>44.0</td>\n",
       "      <td>0</td>\n",
       "      <td>Complete with certificate of authenticity</td>\n",
       "    </tr>\n",
       "  </tbody>\n",
       "</table>\n",
       "</div>"
      ],
      "text/plain": [
       "   train_id                                 name  item_condition_id  \\\n",
       "0         0  MLB Cincinnati Reds T Shirt Size XL                  3   \n",
       "1         1     Razer BlackWidow Chroma Keyboard                  3   \n",
       "2         2                       AVA-VIV Blouse                  1   \n",
       "3         3                Leather Horse Statues                  1   \n",
       "4         4                 24K GOLD plated rose                  1   \n",
       "\n",
       "                                       category_name brand_name  price  \\\n",
       "0                                  Men/Tops/T-shirts        NaN   10.0   \n",
       "1  Electronics/Computers & Tablets/Components & P...      Razer   52.0   \n",
       "2                        Women/Tops & Blouses/Blouse     Target   10.0   \n",
       "3                 Home/Home Décor/Home Décor Accents        NaN   35.0   \n",
       "4                            Women/Jewelry/Necklaces        NaN   44.0   \n",
       "\n",
       "   shipping                                   item_description  \n",
       "0         1                                 No description yet  \n",
       "1         0  This keyboard is in great condition and works ...  \n",
       "2         1  Adorable top with a hint of lace and a key hol...  \n",
       "3         1  New with tags. Leather horses. Retail for [rm]...  \n",
       "4         0          Complete with certificate of authenticity  "
      ]
     },
     "execution_count": 30,
     "metadata": {},
     "output_type": "execute_result"
    }
   ],
   "source": [
    "train_df = pd.read_table(\"train.tsv\")\n",
    "print(train_df.shape)\n",
    "train_df.head(5)"
   ]
  },
  {
   "cell_type": "code",
   "execution_count": 31,
   "id": "ee4321dd",
   "metadata": {
    "pycharm": {
     "name": "#%%\n"
    }
   },
   "outputs": [
    {
     "data": {
      "text/html": [
       "<div>\n",
       "<style scoped>\n",
       "    .dataframe tbody tr th:only-of-type {\n",
       "        vertical-align: middle;\n",
       "    }\n",
       "\n",
       "    .dataframe tbody tr th {\n",
       "        vertical-align: top;\n",
       "    }\n",
       "\n",
       "    .dataframe thead th {\n",
       "        text-align: right;\n",
       "    }\n",
       "</style>\n",
       "<table border=\"1\" class=\"dataframe\">\n",
       "  <thead>\n",
       "    <tr style=\"text-align: right;\">\n",
       "      <th></th>\n",
       "      <th>train_id</th>\n",
       "      <th>name</th>\n",
       "      <th>item_condition_id</th>\n",
       "      <th>category_name</th>\n",
       "      <th>brand_name</th>\n",
       "      <th>price</th>\n",
       "      <th>shipping</th>\n",
       "      <th>item_description</th>\n",
       "      <th>cat_1</th>\n",
       "      <th>cat_2</th>\n",
       "      <th>cat_3</th>\n",
       "    </tr>\n",
       "  </thead>\n",
       "  <tbody>\n",
       "    <tr>\n",
       "      <th>0</th>\n",
       "      <td>0</td>\n",
       "      <td>MLB Cincinnati Reds T Shirt Size XL</td>\n",
       "      <td>3</td>\n",
       "      <td>Men/Tops/T-shirts</td>\n",
       "      <td>NaN</td>\n",
       "      <td>10.0</td>\n",
       "      <td>1</td>\n",
       "      <td>No description yet</td>\n",
       "      <td>Men</td>\n",
       "      <td>Tops</td>\n",
       "      <td>T-shirts</td>\n",
       "    </tr>\n",
       "    <tr>\n",
       "      <th>1</th>\n",
       "      <td>1</td>\n",
       "      <td>Razer BlackWidow Chroma Keyboard</td>\n",
       "      <td>3</td>\n",
       "      <td>Electronics/Computers &amp; Tablets/Components &amp; P...</td>\n",
       "      <td>Razer</td>\n",
       "      <td>52.0</td>\n",
       "      <td>0</td>\n",
       "      <td>This keyboard is in great condition and works ...</td>\n",
       "      <td>Electronics</td>\n",
       "      <td>Computers &amp; Tablets</td>\n",
       "      <td>Components &amp; Parts</td>\n",
       "    </tr>\n",
       "    <tr>\n",
       "      <th>2</th>\n",
       "      <td>2</td>\n",
       "      <td>AVA-VIV Blouse</td>\n",
       "      <td>1</td>\n",
       "      <td>Women/Tops &amp; Blouses/Blouse</td>\n",
       "      <td>Target</td>\n",
       "      <td>10.0</td>\n",
       "      <td>1</td>\n",
       "      <td>Adorable top with a hint of lace and a key hol...</td>\n",
       "      <td>Women</td>\n",
       "      <td>Tops &amp; Blouses</td>\n",
       "      <td>Blouse</td>\n",
       "    </tr>\n",
       "    <tr>\n",
       "      <th>3</th>\n",
       "      <td>3</td>\n",
       "      <td>Leather Horse Statues</td>\n",
       "      <td>1</td>\n",
       "      <td>Home/Home Décor/Home Décor Accents</td>\n",
       "      <td>NaN</td>\n",
       "      <td>35.0</td>\n",
       "      <td>1</td>\n",
       "      <td>New with tags. Leather horses. Retail for [rm]...</td>\n",
       "      <td>Home</td>\n",
       "      <td>Home Décor</td>\n",
       "      <td>Home Décor Accents</td>\n",
       "    </tr>\n",
       "    <tr>\n",
       "      <th>4</th>\n",
       "      <td>4</td>\n",
       "      <td>24K GOLD plated rose</td>\n",
       "      <td>1</td>\n",
       "      <td>Women/Jewelry/Necklaces</td>\n",
       "      <td>NaN</td>\n",
       "      <td>44.0</td>\n",
       "      <td>0</td>\n",
       "      <td>Complete with certificate of authenticity</td>\n",
       "      <td>Women</td>\n",
       "      <td>Jewelry</td>\n",
       "      <td>Necklaces</td>\n",
       "    </tr>\n",
       "  </tbody>\n",
       "</table>\n",
       "</div>"
      ],
      "text/plain": [
       "   train_id                                 name  item_condition_id  \\\n",
       "0         0  MLB Cincinnati Reds T Shirt Size XL                  3   \n",
       "1         1     Razer BlackWidow Chroma Keyboard                  3   \n",
       "2         2                       AVA-VIV Blouse                  1   \n",
       "3         3                Leather Horse Statues                  1   \n",
       "4         4                 24K GOLD plated rose                  1   \n",
       "\n",
       "                                       category_name brand_name  price  \\\n",
       "0                                  Men/Tops/T-shirts        NaN   10.0   \n",
       "1  Electronics/Computers & Tablets/Components & P...      Razer   52.0   \n",
       "2                        Women/Tops & Blouses/Blouse     Target   10.0   \n",
       "3                 Home/Home Décor/Home Décor Accents        NaN   35.0   \n",
       "4                            Women/Jewelry/Necklaces        NaN   44.0   \n",
       "\n",
       "   shipping                                   item_description        cat_1  \\\n",
       "0         1                                 No description yet          Men   \n",
       "1         0  This keyboard is in great condition and works ...  Electronics   \n",
       "2         1  Adorable top with a hint of lace and a key hol...        Women   \n",
       "3         1  New with tags. Leather horses. Retail for [rm]...         Home   \n",
       "4         0          Complete with certificate of authenticity        Women   \n",
       "\n",
       "                 cat_2               cat_3  \n",
       "0                 Tops            T-shirts  \n",
       "1  Computers & Tablets  Components & Parts  \n",
       "2       Tops & Blouses              Blouse  \n",
       "3           Home Décor  Home Décor Accents  \n",
       "4              Jewelry           Necklaces  "
      ]
     },
     "execution_count": 31,
     "metadata": {},
     "output_type": "execute_result"
    }
   ],
   "source": [
    "# 1. Category_ Name split and fill the missing value\n",
    "def cat_split(text):\n",
    "    text = str(text)\n",
    "    if len(text.split(\"/\"))==3:\n",
    "        return text.split(\"/\")\n",
    "    else:return (\"Other\",\"Other\",\"Other\")\n",
    "train_df[\"cat_1\"], train_df[\"cat_2\"], train_df[\"cat_3\"] = zip(*train_df[\"category_name\"].apply(lambda cat: cat_split(cat)))\n",
    "train_df.head(5)"
   ]
  },
  {
   "cell_type": "code",
   "execution_count": 32,
   "id": "3056bdb9",
   "metadata": {
    "pycharm": {
     "name": "#%%\n"
    }
   },
   "outputs": [],
   "source": [
    "# 2.Fill the category_ Name, brand_ Name and item_ Null in description\n",
    "train_df['category_name'].fillna('Missing', inplace = True)\n",
    "train_df['brand_name'].fillna('Missing', inplace = True)\n",
    "train_df['item_description'].fillna(value=\"None\", inplace=True)"
   ]
  },
  {
   "cell_type": "code",
   "execution_count": 33,
   "id": "4ccbd3f0",
   "metadata": {
    "pycharm": {
     "name": "#%%\n"
    }
   },
   "outputs": [],
   "source": [
    "# ID is useless, category_ Although name's prediction had been decoded, the specific combination might have an impact, so he kept it\n",
    "train_df.drop(columns =[\"train_id\"], inplace = True)"
   ]
  },
  {
   "cell_type": "code",
   "execution_count": 34,
   "id": "64ba4b39",
   "metadata": {
    "pycharm": {
     "name": "#%%\n"
    }
   },
   "outputs": [],
   "source": [
    "#As for the train, it had the attribute of price. Label had to take it out separately\n",
    "y_train = train_df['price']\n",
    "train_df2 = train_df.drop(columns=['price'])"
   ]
  },
  {
   "cell_type": "code",
   "execution_count": 35,
   "id": "58eaa05c",
   "metadata": {
    "pycharm": {
     "name": "#%%\n"
    }
   },
   "outputs": [],
   "source": [
    "#Adjust y to log (y+1)\n",
    "y = np.log(y_train.values + 1)"
   ]
  },
  {
   "cell_type": "code",
   "execution_count": 36,
   "id": "ed5eeefe",
   "metadata": {
    "pycharm": {
     "name": "#%%\n"
    }
   },
   "outputs": [],
   "source": [
    "#You should change the non value type to the value type\n",
    "from sklearn.preprocessing import LabelEncoder\n",
    "\n",
    "#Make the same changes here,'name'and'description'\n",
    "col_temp = ['category_name','brand_name','cat_1','cat_2','cat_3']\n",
    "\n",
    "le=LabelEncoder()\n",
    "for col in col_temp:\n",
    "    train_df2[col] = le.fit_transform(train_df[col])"
   ]
  },
  {
   "cell_type": "code",
   "execution_count": 37,
   "id": "a73e9369",
   "metadata": {
    "pycharm": {
     "name": "#%%\n"
    }
   },
   "outputs": [
    {
     "data": {
      "text/html": [
       "<div>\n",
       "<style scoped>\n",
       "    .dataframe tbody tr th:only-of-type {\n",
       "        vertical-align: middle;\n",
       "    }\n",
       "\n",
       "    .dataframe tbody tr th {\n",
       "        vertical-align: top;\n",
       "    }\n",
       "\n",
       "    .dataframe thead th {\n",
       "        text-align: right;\n",
       "    }\n",
       "</style>\n",
       "<table border=\"1\" class=\"dataframe\">\n",
       "  <thead>\n",
       "    <tr style=\"text-align: right;\">\n",
       "      <th></th>\n",
       "      <th>name</th>\n",
       "      <th>item_condition_id</th>\n",
       "      <th>category_name</th>\n",
       "      <th>brand_name</th>\n",
       "      <th>shipping</th>\n",
       "      <th>item_description</th>\n",
       "      <th>cat_1</th>\n",
       "      <th>cat_2</th>\n",
       "      <th>cat_3</th>\n",
       "    </tr>\n",
       "  </thead>\n",
       "  <tbody>\n",
       "    <tr>\n",
       "      <th>0</th>\n",
       "      <td>MLB Cincinnati Reds T Shirt Size XL</td>\n",
       "      <td>3</td>\n",
       "      <td>808</td>\n",
       "      <td>2887</td>\n",
       "      <td>1</td>\n",
       "      <td>No description yet</td>\n",
       "      <td>5</td>\n",
       "      <td>102</td>\n",
       "      <td>758</td>\n",
       "    </tr>\n",
       "    <tr>\n",
       "      <th>1</th>\n",
       "      <td>Razer BlackWidow Chroma Keyboard</td>\n",
       "      <td>3</td>\n",
       "      <td>86</td>\n",
       "      <td>3558</td>\n",
       "      <td>0</td>\n",
       "      <td>This keyboard is in great condition and works ...</td>\n",
       "      <td>1</td>\n",
       "      <td>30</td>\n",
       "      <td>212</td>\n",
       "    </tr>\n",
       "    <tr>\n",
       "      <th>2</th>\n",
       "      <td>AVA-VIV Blouse</td>\n",
       "      <td>1</td>\n",
       "      <td>1255</td>\n",
       "      <td>4181</td>\n",
       "      <td>1</td>\n",
       "      <td>Adorable top with a hint of lace and a key hol...</td>\n",
       "      <td>9</td>\n",
       "      <td>103</td>\n",
       "      <td>94</td>\n",
       "    </tr>\n",
       "    <tr>\n",
       "      <th>3</th>\n",
       "      <td>Leather Horse Statues</td>\n",
       "      <td>1</td>\n",
       "      <td>485</td>\n",
       "      <td>2887</td>\n",
       "      <td>1</td>\n",
       "      <td>New with tags. Leather horses. Retail for [rm]...</td>\n",
       "      <td>3</td>\n",
       "      <td>55</td>\n",
       "      <td>401</td>\n",
       "    </tr>\n",
       "    <tr>\n",
       "      <th>4</th>\n",
       "      <td>24K GOLD plated rose</td>\n",
       "      <td>1</td>\n",
       "      <td>1182</td>\n",
       "      <td>2887</td>\n",
       "      <td>0</td>\n",
       "      <td>Complete with certificate of authenticity</td>\n",
       "      <td>9</td>\n",
       "      <td>58</td>\n",
       "      <td>532</td>\n",
       "    </tr>\n",
       "  </tbody>\n",
       "</table>\n",
       "</div>"
      ],
      "text/plain": [
       "                                  name  item_condition_id  category_name  \\\n",
       "0  MLB Cincinnati Reds T Shirt Size XL                  3            808   \n",
       "1     Razer BlackWidow Chroma Keyboard                  3             86   \n",
       "2                       AVA-VIV Blouse                  1           1255   \n",
       "3                Leather Horse Statues                  1            485   \n",
       "4                 24K GOLD plated rose                  1           1182   \n",
       "\n",
       "   brand_name  shipping                                   item_description  \\\n",
       "0        2887         1                                 No description yet   \n",
       "1        3558         0  This keyboard is in great condition and works ...   \n",
       "2        4181         1  Adorable top with a hint of lace and a key hol...   \n",
       "3        2887         1  New with tags. Leather horses. Retail for [rm]...   \n",
       "4        2887         0          Complete with certificate of authenticity   \n",
       "\n",
       "   cat_1  cat_2  cat_3  \n",
       "0      5    102    758  \n",
       "1      1     30    212  \n",
       "2      9    103     94  \n",
       "3      3     55    401  \n",
       "4      9     58    532  "
      ]
     },
     "execution_count": 37,
     "metadata": {},
     "output_type": "execute_result"
    }
   ],
   "source": [
    "train_df2.head(5)"
   ]
  },
  {
   "cell_type": "code",
   "execution_count": 38,
   "id": "92bbc01b",
   "metadata": {
    "pycharm": {
     "name": "#%%\n"
    }
   },
   "outputs": [],
   "source": [
    "from sklearn.model_selection import train_test_split\n",
    "from tensorflow.keras.preprocessing.text import Tokenizer\n",
    "from tensorflow.keras.preprocessing.sequence import pad_sequences\n",
    "from tensorflow.keras.layers import Input, Embedding, LSTM, Dense, Concatenate\n",
    "from tensorflow.keras.models import Model"
   ]
  },
  {
   "cell_type": "code",
   "execution_count": 39,
   "id": "5c2f8831",
   "metadata": {
    "pycharm": {
     "name": "#%%\n"
    }
   },
   "outputs": [],
   "source": [
    "#Word division\n",
    "\n",
    "max_features = 10000\n",
    "tokenizer = Tokenizer(num_words=max_features, split=\" \")\n",
    "tokenizer.fit_on_texts(train_df2[\"name\"] + \" \" + train_df2[\"item_description\"])\n",
    "X_name = tokenizer.texts_to_sequences(train_df2[\"name\"])\n",
    "X_item_description = tokenizer.texts_to_sequences(train_df2[\"item_description\"])"
   ]
  },
  {
   "cell_type": "code",
   "execution_count": 40,
   "id": "caac084e",
   "metadata": {
    "pycharm": {
     "name": "#%%\n"
    }
   },
   "outputs": [],
   "source": [
    "#Fill the sequence to get the same length\n",
    "\n",
    "max_len_name = 10\n",
    "max_len_item_description = 50\n",
    "X_name = pad_sequences(X_name, maxlen=max_len_name)\n",
    "X_item_description = pad_sequences(X_item_description, maxlen=max_len_item_description)"
   ]
  },
  {
   "cell_type": "code",
   "execution_count": 41,
   "id": "3acb56c7",
   "metadata": {
    "pycharm": {
     "name": "#%%\n"
    }
   },
   "outputs": [],
   "source": [
    "X_name_train, X_name_test, X_item_desc_train, X_item_desc_test, y_train, y_test = train_test_split( X_name, X_item_description, y, test_size=0.2, random_state=42)"
   ]
  },
  {
   "cell_type": "code",
   "execution_count": 42,
   "id": "62a7c4dc",
   "metadata": {
    "pycharm": {
     "name": "#%%\n"
    }
   },
   "outputs": [],
   "source": [
    "#To define the LSTM model\n",
    "embedding_dim = 128\n",
    "lstm_units = 64"
   ]
  },
  {
   "cell_type": "code",
   "execution_count": 43,
   "id": "23b597d1",
   "metadata": {
    "pycharm": {
     "name": "#%%\n"
    }
   },
   "outputs": [],
   "source": [
    "input_name = Input(shape=(max_len_name,))\n",
    "embedding_name = Embedding(max_features, embedding_dim)(input_name)\n",
    "lstm_name = LSTM(lstm_units)(embedding_name)"
   ]
  },
  {
   "cell_type": "code",
   "execution_count": 44,
   "id": "ea96e809",
   "metadata": {
    "pycharm": {
     "name": "#%%\n"
    }
   },
   "outputs": [],
   "source": [
    "input_item_description = Input(shape=(max_len_item_description,))\n",
    "embedding_item_description = Embedding(max_features, embedding_dim)(input_item_description)\n",
    "lstm_item_description = LSTM(lstm_units)(embedding_item_description)"
   ]
  },
  {
   "cell_type": "code",
   "execution_count": 45,
   "id": "5fdf212f",
   "metadata": {
    "pycharm": {
     "name": "#%%\n"
    }
   },
   "outputs": [],
   "source": [
    "#Connect the two LSTM's output\n",
    "concatenated = Concatenate()([lstm_name, lstm_item_description])"
   ]
  },
  {
   "cell_type": "code",
   "execution_count": 46,
   "id": "3a36d4bf",
   "metadata": {
    "pycharm": {
     "name": "#%%\n"
    }
   },
   "outputs": [],
   "source": [
    "#A new model was defined, which was used to transform the text into a\n",
    "\n",
    " \n",
    "\n",
    "encoder_model = Model(inputs=[input_name, input_item_description], outputs=concatenated)"
   ]
  },
  {
   "cell_type": "code",
   "execution_count": 47,
   "id": "c41d021c",
   "metadata": {
    "pycharm": {
     "name": "#%%\n"
    }
   },
   "outputs": [
    {
     "name": "stdout",
     "output_type": "stream",
     "text": [
      "Epoch 1/10\n",
      "18532/18532 [==============================] - 1727s 93ms/step - loss: 4.4833 - val_loss: 4.4900\n",
      "Epoch 2/10\n",
      "18532/18532 [==============================] - 1535s 83ms/step - loss: 4.4750 - val_loss: 4.4900\n",
      "Epoch 3/10\n",
      "18532/18532 [==============================] - 1528s 82ms/step - loss: 4.4750 - val_loss: 4.4900\n",
      "Epoch 4/10\n",
      "18532/18532 [==============================] - 1526s 82ms/step - loss: 4.4750 - val_loss: 4.4900\n",
      "Epoch 5/10\n",
      "18532/18532 [==============================] - 1535s 83ms/step - loss: 4.4750 - val_loss: 4.4900\n",
      "Epoch 6/10\n",
      "18532/18532 [==============================] - 1554s 84ms/step - loss: 4.4750 - val_loss: 4.4900\n",
      "Epoch 7/10\n",
      "18532/18532 [==============================] - 1535s 83ms/step - loss: 4.4750 - val_loss: 4.4900\n",
      "Epoch 8/10\n",
      "18532/18532 [==============================] - 1535s 83ms/step - loss: 4.4750 - val_loss: 4.4900\n",
      "Epoch 9/10\n",
      "18532/18532 [==============================] - 1470s 79ms/step - loss: 4.4750 - val_loss: 4.4900\n",
      "Epoch 10/10\n",
      "18532/18532 [==============================] - 1532s 83ms/step - loss: 4.4750 - val_loss: 4.4900\n"
     ]
    },
    {
     "data": {
      "text/plain": [
       "<keras.callbacks.History at 0x202c1c20af0>"
      ]
     },
     "execution_count": 47,
     "metadata": {},
     "output_type": "execute_result"
    }
   ],
   "source": [
    "from keras.callbacks import EarlyStopping\n",
    "\n",
    "#Create the EarlyStopping object and start the early stop strategy\n",
    "early_stopping = EarlyStopping(\n",
    "    monitor=\"val_loss\",\n",
    "    patience=3,\n",
    "    verbose=1,\n",
    "    restore_best_weights=True,\n",
    "    min_delta=0.001,\n",
    "    mode=\"min\"\n",
    ")\n",
    "\n",
    "\n",
    "#Training the LSTM model\n",
    "encoder_model.compile(optimizer=\"adam\", loss=\"mean_squared_error\")\n",
    "encoder_model.fit(\n",
    "    [X_name_train, X_item_desc_train],\n",
    "    y_train,\n",
    "    validation_data=([X_name_test, X_item_desc_test], y_test),\n",
    "    epochs=10,\n",
    "    batch_size=64,\n",
    "#     callbacks=[early_stopping]  # 在此处添加 early_stopping 回调\n",
    ")"
   ]
  },
  {
   "cell_type": "code",
   "execution_count": 48,
   "id": "576b0909",
   "metadata": {
    "pycharm": {
     "name": "#%%\n"
    }
   },
   "outputs": [],
   "source": [
    "from keras.models import load_model\n",
    "\n",
    "#Save the model\n",
    "encoder_model.save(\"encoder_model.h5\")\n",
    "\n",
    "# Loading the model\n",
    "# loaded_model = load_model(\"encoder_model.h5\")"
   ]
  },
  {
   "cell_type": "code",
   "execution_count": 49,
   "id": "ce019c77",
   "metadata": {
    "pycharm": {
     "name": "#%%\n"
    }
   },
   "outputs": [
    {
     "name": "stdout",
     "output_type": "stream",
     "text": [
      "37064/37064 [==============================] - 453s 12ms/step\n",
      "9266/9266 [==============================] - 116s 13ms/step\n"
     ]
    }
   ],
   "source": [
    "#Using the LSTM model to transform the text into a vector\n",
    "X_train_encoded = encoder_model.predict([X_name_train, X_item_desc_train])\n",
    "X_test_encoded = encoder_model.predict([X_name_test, X_item_desc_test])"
   ]
  },
  {
   "cell_type": "code",
   "execution_count": 50,
   "id": "9f9fa7a6",
   "metadata": {
    "pycharm": {
     "name": "#%%\n"
    }
   },
   "outputs": [
    {
     "data": {
      "text/html": [
       "<div>\n",
       "<style scoped>\n",
       "    .dataframe tbody tr th:only-of-type {\n",
       "        vertical-align: middle;\n",
       "    }\n",
       "\n",
       "    .dataframe tbody tr th {\n",
       "        vertical-align: top;\n",
       "    }\n",
       "\n",
       "    .dataframe thead th {\n",
       "        text-align: right;\n",
       "    }\n",
       "</style>\n",
       "<table border=\"1\" class=\"dataframe\">\n",
       "  <thead>\n",
       "    <tr style=\"text-align: right;\">\n",
       "      <th></th>\n",
       "      <th>item_condition_id</th>\n",
       "      <th>category_name</th>\n",
       "      <th>brand_name</th>\n",
       "      <th>shipping</th>\n",
       "      <th>cat_1</th>\n",
       "      <th>cat_2</th>\n",
       "      <th>cat_3</th>\n",
       "    </tr>\n",
       "  </thead>\n",
       "  <tbody>\n",
       "    <tr>\n",
       "      <th>0</th>\n",
       "      <td>3</td>\n",
       "      <td>808</td>\n",
       "      <td>2887</td>\n",
       "      <td>1</td>\n",
       "      <td>5</td>\n",
       "      <td>102</td>\n",
       "      <td>758</td>\n",
       "    </tr>\n",
       "    <tr>\n",
       "      <th>1</th>\n",
       "      <td>3</td>\n",
       "      <td>86</td>\n",
       "      <td>3558</td>\n",
       "      <td>0</td>\n",
       "      <td>1</td>\n",
       "      <td>30</td>\n",
       "      <td>212</td>\n",
       "    </tr>\n",
       "    <tr>\n",
       "      <th>2</th>\n",
       "      <td>1</td>\n",
       "      <td>1255</td>\n",
       "      <td>4181</td>\n",
       "      <td>1</td>\n",
       "      <td>9</td>\n",
       "      <td>103</td>\n",
       "      <td>94</td>\n",
       "    </tr>\n",
       "    <tr>\n",
       "      <th>3</th>\n",
       "      <td>1</td>\n",
       "      <td>485</td>\n",
       "      <td>2887</td>\n",
       "      <td>1</td>\n",
       "      <td>3</td>\n",
       "      <td>55</td>\n",
       "      <td>401</td>\n",
       "    </tr>\n",
       "    <tr>\n",
       "      <th>4</th>\n",
       "      <td>1</td>\n",
       "      <td>1182</td>\n",
       "      <td>2887</td>\n",
       "      <td>0</td>\n",
       "      <td>9</td>\n",
       "      <td>58</td>\n",
       "      <td>532</td>\n",
       "    </tr>\n",
       "  </tbody>\n",
       "</table>\n",
       "</div>"
      ],
      "text/plain": [
       "   item_condition_id  category_name  brand_name  shipping  cat_1  cat_2  cat_3\n",
       "0                  3            808        2887         1      5    102    758\n",
       "1                  3             86        3558         0      1     30    212\n",
       "2                  1           1255        4181         1      9    103     94\n",
       "3                  1            485        2887         1      3     55    401\n",
       "4                  1           1182        2887         0      9     58    532"
      ]
     },
     "execution_count": 50,
     "metadata": {},
     "output_type": "execute_result"
    }
   ],
   "source": [
    "train_temp = train_df2.drop(columns =[\"item_description\",\"name\"])\n",
    "train_temp.head(5)"
   ]
  },
  {
   "cell_type": "code",
   "execution_count": 51,
   "id": "d1984e1b",
   "metadata": {
    "pycharm": {
     "name": "#%%\n"
    }
   },
   "outputs": [],
   "source": [
    "x_train,x_test = train_test_split(train_temp, test_size=0.2, random_state=42)"
   ]
  },
  {
   "cell_type": "code",
   "execution_count": 52,
   "id": "5cf5ac80",
   "metadata": {
    "pycharm": {
     "name": "#%%\n"
    }
   },
   "outputs": [],
   "source": [
    "#Splice other preprocessed data with LSTM encoded text data\n",
    "X_train_combined = np.concatenate((X_train_encoded,x_train.values), axis=1)\n",
    "X_test_combined = np.concatenate((X_test_encoded,x_test.values), axis=1)"
   ]
  },
  {
   "cell_type": "code",
   "execution_count": 53,
   "id": "7e7e4f46",
   "metadata": {
    "pycharm": {
     "name": "#%%\n"
    }
   },
   "outputs": [
    {
     "name": "stdout",
     "output_type": "stream",
     "text": [
      "Linear Regression\n",
      "---------------------------------------\n",
      "Mean Squared Error Value : 0.52\n",
      "\n",
      "R-Squared Value : 0.07\n",
      "\n",
      "RMLSE : 0.72\n"
     ]
    }
   ],
   "source": [
    "# from sklearn.linear_model import LinearRegression\n",
    "linear_reg = LinearRegression()\n",
    "print(\"Linear Regression\")\n",
    "print(\"---------------------------------------\")\n",
    "model_2, mse_2, r_sq_2, rmlse_3 = run_model(linear_reg, X_train_combined, y_train, X_test_combined, y_test)"
   ]
  },
  {
   "cell_type": "code",
   "execution_count": 54,
   "id": "d99e6790",
   "metadata": {
    "pycharm": {
     "name": "#%%\n"
    }
   },
   "outputs": [
    {
     "name": "stdout",
     "output_type": "stream",
     "text": [
      "LGBM Regression\n",
      "---------------------------------------\n",
      "Mean Squared Error Value : 0.35\n",
      "\n",
      "R-Squared Value : 0.38\n",
      "\n",
      "RMLSE : 0.59\n"
     ]
    }
   ],
   "source": [
    "# import lightgbm as lgb\n",
    "\n",
    "lgbm_reg = lgb.LGBMRegressor()\n",
    "print(\"LGBM Regression\")\n",
    "print(\"---------------------------------------\")\n",
    "model_4, mse_4, r_sq_4, rmlse_4 = run_model(lgbm_reg,X_train_combined, y_train, X_test_combined, y_test)"
   ]
  },
  {
   "cell_type": "code",
   "execution_count": 55,
   "id": "fc032ee1",
   "metadata": {
    "pycharm": {
     "name": "#%%\n"
    }
   },
   "outputs": [
    {
     "name": "stdout",
     "output_type": "stream",
     "text": [
      "RandomForest Regression\n",
      "---------------------------------------\n",
      "Mean Squared Error Value : 0.31\n",
      "\n",
      "R-Squared Value : 0.45\n",
      "\n",
      "RMLSE : 0.56\n"
     ]
    }
   ],
   "source": [
    "# from sklearn.ensemble import RandomForestRegressor\n",
    "\n",
    "rf_reg = RandomForestRegressor()\n",
    "print(\"RandomForest Regression\")\n",
    "print(\"---------------------------------------\")\n",
    "model_4, mse_4, r_sq_4, rmlse_4 = run_model(rf_reg,X_train_combined, y_train, X_test_combined, y_test)"
   ]
  },
  {
   "cell_type": "code",
   "execution_count": null,
   "id": "8e16b132",
   "metadata": {
    "pycharm": {
     "name": "#%%\n"
    }
   },
   "outputs": [],
   "source": []
  },
  {
   "cell_type": "code",
   "execution_count": null,
   "id": "5ead3d7b",
   "metadata": {
    "pycharm": {
     "name": "#%%\n"
    }
   },
   "outputs": [],
   "source": []
  },
  {
   "cell_type": "code",
   "execution_count": null,
   "id": "b00cdcad",
   "metadata": {
    "pycharm": {
     "name": "#%%\n"
    }
   },
   "outputs": [],
   "source": []
  },
  {
   "cell_type": "code",
   "execution_count": null,
   "id": "87d9daf3",
   "metadata": {
    "pycharm": {
     "name": "#%%\n"
    }
   },
   "outputs": [],
   "source": []
  }
 ],
 "metadata": {
  "kernelspec": {
   "display_name": "Python 3 (ipykernel)",
   "language": "python",
   "name": "python3"
  },
  "language_info": {
   "codemirror_mode": {
    "name": "ipython",
    "version": 3
   },
   "file_extension": ".py",
   "mimetype": "text/x-python",
   "name": "python",
   "nbconvert_exporter": "python",
   "pygments_lexer": "ipython3",
   "version": "3.9.13"
  }
 },
 "nbformat": 4,
 "nbformat_minor": 5
}
