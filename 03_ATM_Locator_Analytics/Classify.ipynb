{
 "cells": [
  {
   "cell_type": "code",
   "execution_count": 1,
   "id": "40836f9d",
   "metadata": {},
   "outputs": [],
   "source": [
    "import pandas as pd\n",
    "import numpy as np\n",
    "import matplotlib.pyplot as plt\n",
    "import seaborn as sns\n",
    "from sklearn.utils import shuffle\n",
    "from sklearn.preprocessing import OrdinalEncoder"
   ]
  },
  {
   "cell_type": "code",
   "execution_count": 2,
   "id": "a5d86d2b",
   "metadata": {},
   "outputs": [
    {
     "name": "stdout",
     "output_type": "stream",
     "text": [
      "(150211, 13)\n"
     ]
    },
    {
     "data": {
      "text/html": [
       "<div>\n",
       "<style scoped>\n",
       "    .dataframe tbody tr th:only-of-type {\n",
       "        vertical-align: middle;\n",
       "    }\n",
       "\n",
       "    .dataframe tbody tr th {\n",
       "        vertical-align: top;\n",
       "    }\n",
       "\n",
       "    .dataframe thead th {\n",
       "        text-align: right;\n",
       "    }\n",
       "</style>\n",
       "<table border=\"1\" class=\"dataframe\">\n",
       "  <thead>\n",
       "    <tr style=\"text-align: right;\">\n",
       "      <th></th>\n",
       "      <th>Number_of_Shops_Around_ATM</th>\n",
       "      <th>ATM_Zone</th>\n",
       "      <th>No_of_Other_ATMs_in_1_KM_radius</th>\n",
       "      <th>Estimated_Number_of_Houses_in_1_KM_Radius</th>\n",
       "      <th>ATM_Placement</th>\n",
       "      <th>ATM_TYPE</th>\n",
       "      <th>ATM_Location_TYPE</th>\n",
       "      <th>ATM_looks</th>\n",
       "      <th>ATM_Attached_to</th>\n",
       "      <th>Average_Wait_Time</th>\n",
       "      <th>Day_Type</th>\n",
       "      <th>rating</th>\n",
       "      <th>revenue</th>\n",
       "    </tr>\n",
       "  </thead>\n",
       "  <tbody>\n",
       "    <tr>\n",
       "      <th>62740</th>\n",
       "      <td>68</td>\n",
       "      <td>RL</td>\n",
       "      <td>90</td>\n",
       "      <td>11700</td>\n",
       "      <td>Facing Road</td>\n",
       "      <td>Urban</td>\n",
       "      <td>Only WIthdraw</td>\n",
       "      <td>Normal</td>\n",
       "      <td>Building</td>\n",
       "      <td>3</td>\n",
       "      <td>Working</td>\n",
       "      <td>3</td>\n",
       "      <td>184300</td>\n",
       "    </tr>\n",
       "    <tr>\n",
       "      <th>142799</th>\n",
       "      <td>29</td>\n",
       "      <td>RL</td>\n",
       "      <td>77</td>\n",
       "      <td>8335</td>\n",
       "      <td>Facing Road</td>\n",
       "      <td>Urban</td>\n",
       "      <td>Only WIthdraw</td>\n",
       "      <td>Normal</td>\n",
       "      <td>Building</td>\n",
       "      <td>3</td>\n",
       "      <td>Working</td>\n",
       "      <td>3</td>\n",
       "      <td>94000</td>\n",
       "    </tr>\n",
       "    <tr>\n",
       "      <th>91328</th>\n",
       "      <td>82</td>\n",
       "      <td>RL</td>\n",
       "      <td>85</td>\n",
       "      <td>13400</td>\n",
       "      <td>Facing Road</td>\n",
       "      <td>Urban</td>\n",
       "      <td>Only WIthdraw</td>\n",
       "      <td>Normal</td>\n",
       "      <td>Building</td>\n",
       "      <td>3</td>\n",
       "      <td>Working</td>\n",
       "      <td>3</td>\n",
       "      <td>162150</td>\n",
       "    </tr>\n",
       "    <tr>\n",
       "      <th>55792</th>\n",
       "      <td>191</td>\n",
       "      <td>RM</td>\n",
       "      <td>65</td>\n",
       "      <td>7800</td>\n",
       "      <td>Facing Road</td>\n",
       "      <td>Urban</td>\n",
       "      <td>Only WIthdraw</td>\n",
       "      <td>Normal</td>\n",
       "      <td>Building</td>\n",
       "      <td>3</td>\n",
       "      <td>Working</td>\n",
       "      <td>3</td>\n",
       "      <td>129200</td>\n",
       "    </tr>\n",
       "    <tr>\n",
       "      <th>86943</th>\n",
       "      <td>67</td>\n",
       "      <td>RL</td>\n",
       "      <td>107</td>\n",
       "      <td>13891</td>\n",
       "      <td>Facing Road</td>\n",
       "      <td>Urban</td>\n",
       "      <td>Only WIthdraw</td>\n",
       "      <td>Normal</td>\n",
       "      <td>Petrol Bunk</td>\n",
       "      <td>4</td>\n",
       "      <td>Working</td>\n",
       "      <td>5</td>\n",
       "      <td>587333</td>\n",
       "    </tr>\n",
       "  </tbody>\n",
       "</table>\n",
       "</div>"
      ],
      "text/plain": [
       "        Number_of_Shops_Around_ATM ATM_Zone  No_of_Other_ATMs_in_1_KM_radius  \\\n",
       "62740                           68       RL                               90   \n",
       "142799                          29       RL                               77   \n",
       "91328                           82       RL                               85   \n",
       "55792                          191       RM                               65   \n",
       "86943                           67       RL                              107   \n",
       "\n",
       "        Estimated_Number_of_Houses_in_1_KM_Radius ATM_Placement ATM_TYPE  \\\n",
       "62740                                       11700   Facing Road    Urban   \n",
       "142799                                       8335   Facing Road    Urban   \n",
       "91328                                       13400   Facing Road    Urban   \n",
       "55792                                        7800   Facing Road    Urban   \n",
       "86943                                       13891   Facing Road    Urban   \n",
       "\n",
       "       ATM_Location_TYPE ATM_looks ATM_Attached_to  Average_Wait_Time  \\\n",
       "62740      Only WIthdraw    Normal        Building                  3   \n",
       "142799     Only WIthdraw    Normal        Building                  3   \n",
       "91328      Only WIthdraw    Normal        Building                  3   \n",
       "55792      Only WIthdraw    Normal        Building                  3   \n",
       "86943      Only WIthdraw    Normal     Petrol Bunk                  4   \n",
       "\n",
       "       Day_Type  rating  revenue  \n",
       "62740   Working       3   184300  \n",
       "142799  Working       3    94000  \n",
       "91328   Working       3   162150  \n",
       "55792   Working       3   129200  \n",
       "86943   Working       5   587333  "
      ]
     },
     "execution_count": 2,
     "metadata": {},
     "output_type": "execute_result"
    }
   ],
   "source": [
    "train_df = pd.read_table(\"train.tsv\")\n",
    "train_df = shuffle(train_df)\n",
    "print(train_df.shape)\n",
    "train_df.head(5)"
   ]
  },
  {
   "cell_type": "code",
   "execution_count": 3,
   "id": "c0f6a0a9",
   "metadata": {},
   "outputs": [
    {
     "name": "stdout",
     "output_type": "stream",
     "text": [
      "(2836, 13)\n"
     ]
    },
    {
     "data": {
      "text/html": [
       "<div>\n",
       "<style scoped>\n",
       "    .dataframe tbody tr th:only-of-type {\n",
       "        vertical-align: middle;\n",
       "    }\n",
       "\n",
       "    .dataframe tbody tr th {\n",
       "        vertical-align: top;\n",
       "    }\n",
       "\n",
       "    .dataframe thead th {\n",
       "        text-align: right;\n",
       "    }\n",
       "</style>\n",
       "<table border=\"1\" class=\"dataframe\">\n",
       "  <thead>\n",
       "    <tr style=\"text-align: right;\">\n",
       "      <th></th>\n",
       "      <th>Number_of_Shops_Around_ATM</th>\n",
       "      <th>ATM_Zone</th>\n",
       "      <th>No_of_Other_ATMs_in_1_KM_radius</th>\n",
       "      <th>Estimated_Number_of_Houses_in_1_KM_Radius</th>\n",
       "      <th>ATM_Placement</th>\n",
       "      <th>ATM_TYPE</th>\n",
       "      <th>ATM_Location_TYPE</th>\n",
       "      <th>ATM_looks</th>\n",
       "      <th>ATM_Attached_to</th>\n",
       "      <th>Average_Wait_Time</th>\n",
       "      <th>Day_Type</th>\n",
       "      <th>rating</th>\n",
       "      <th>revenue</th>\n",
       "    </tr>\n",
       "  </thead>\n",
       "  <tbody>\n",
       "    <tr>\n",
       "      <th>0</th>\n",
       "      <td>81</td>\n",
       "      <td>RL</td>\n",
       "      <td>101</td>\n",
       "      <td>9150</td>\n",
       "      <td>Facing Road</td>\n",
       "      <td>Town</td>\n",
       "      <td>Only WIthdraw</td>\n",
       "      <td>Normal</td>\n",
       "      <td>Building</td>\n",
       "      <td>3</td>\n",
       "      <td>Working</td>\n",
       "      <td>3</td>\n",
       "      <td>172600</td>\n",
       "    </tr>\n",
       "    <tr>\n",
       "      <th>1</th>\n",
       "      <td>30</td>\n",
       "      <td>RL</td>\n",
       "      <td>78</td>\n",
       "      <td>7800</td>\n",
       "      <td>Facing Road</td>\n",
       "      <td>Urban</td>\n",
       "      <td>Only WIthdraw</td>\n",
       "      <td>Normal</td>\n",
       "      <td>Building</td>\n",
       "      <td>2</td>\n",
       "      <td>Working</td>\n",
       "      <td>3</td>\n",
       "      <td>133100</td>\n",
       "    </tr>\n",
       "    <tr>\n",
       "      <th>2</th>\n",
       "      <td>24</td>\n",
       "      <td>RL</td>\n",
       "      <td>87</td>\n",
       "      <td>9830</td>\n",
       "      <td>Facing Road</td>\n",
       "      <td>Town</td>\n",
       "      <td>Only WIthdraw</td>\n",
       "      <td>Normal</td>\n",
       "      <td>Building</td>\n",
       "      <td>3</td>\n",
       "      <td>Working</td>\n",
       "      <td>4</td>\n",
       "      <td>171700</td>\n",
       "    </tr>\n",
       "    <tr>\n",
       "      <th>3</th>\n",
       "      <td>66</td>\n",
       "      <td>RL</td>\n",
       "      <td>51</td>\n",
       "      <td>8121</td>\n",
       "      <td>Facing Road</td>\n",
       "      <td>Town</td>\n",
       "      <td>Only WIthdraw</td>\n",
       "      <td>Normal</td>\n",
       "      <td>Building</td>\n",
       "      <td>3</td>\n",
       "      <td>Working</td>\n",
       "      <td>3</td>\n",
       "      <td>176700</td>\n",
       "    </tr>\n",
       "    <tr>\n",
       "      <th>4</th>\n",
       "      <td>57</td>\n",
       "      <td>RL</td>\n",
       "      <td>80</td>\n",
       "      <td>17120</td>\n",
       "      <td>Facing Road</td>\n",
       "      <td>Urban</td>\n",
       "      <td>Only WIthdraw</td>\n",
       "      <td>Normal</td>\n",
       "      <td>Building</td>\n",
       "      <td>4</td>\n",
       "      <td>Working</td>\n",
       "      <td>3</td>\n",
       "      <td>138332</td>\n",
       "    </tr>\n",
       "  </tbody>\n",
       "</table>\n",
       "</div>"
      ],
      "text/plain": [
       "   Number_of_Shops_Around_ATM ATM_Zone  No_of_Other_ATMs_in_1_KM_radius  \\\n",
       "0                          81       RL                              101   \n",
       "1                          30       RL                               78   \n",
       "2                          24       RL                               87   \n",
       "3                          66       RL                               51   \n",
       "4                          57       RL                               80   \n",
       "\n",
       "   Estimated_Number_of_Houses_in_1_KM_Radius ATM_Placement ATM_TYPE  \\\n",
       "0                                       9150   Facing Road     Town   \n",
       "1                                       7800   Facing Road    Urban   \n",
       "2                                       9830   Facing Road     Town   \n",
       "3                                       8121   Facing Road     Town   \n",
       "4                                      17120   Facing Road    Urban   \n",
       "\n",
       "  ATM_Location_TYPE ATM_looks ATM_Attached_to  Average_Wait_Time Day_Type  \\\n",
       "0     Only WIthdraw    Normal        Building                  3  Working   \n",
       "1     Only WIthdraw    Normal        Building                  2  Working   \n",
       "2     Only WIthdraw    Normal        Building                  3  Working   \n",
       "3     Only WIthdraw    Normal        Building                  3  Working   \n",
       "4     Only WIthdraw    Normal        Building                  4  Working   \n",
       "\n",
       "   rating  revenue  \n",
       "0       3   172600  \n",
       "1       3   133100  \n",
       "2       4   171700  \n",
       "3       3   176700  \n",
       "4       3   138332  "
      ]
     },
     "execution_count": 3,
     "metadata": {},
     "output_type": "execute_result"
    }
   ],
   "source": [
    "test_df = pd.read_table(\"test.tsv\")\n",
    "print(test_df.shape)\n",
    "test_df.head(5)"
   ]
  },
  {
   "cell_type": "code",
   "execution_count": 4,
   "id": "9ef83f5a",
   "metadata": {},
   "outputs": [
    {
     "data": {
      "text/plain": [
       "['ATM_Zone',\n",
       " 'ATM_Placement',\n",
       " 'ATM_TYPE',\n",
       " 'ATM_Location_TYPE',\n",
       " 'ATM_looks',\n",
       " 'ATM_Attached_to',\n",
       " 'Day_Type']"
      ]
     },
     "execution_count": 4,
     "metadata": {},
     "output_type": "execute_result"
    }
   ],
   "source": [
    "object_fea = train_df.select_dtypes(include=['object']).columns.tolist()\n",
    "object_fea"
   ]
  },
  {
   "cell_type": "code",
   "execution_count": 5,
   "id": "5e08f272",
   "metadata": {},
   "outputs": [
    {
     "data": {
      "text/html": [
       "<div>\n",
       "<style scoped>\n",
       "    .dataframe tbody tr th:only-of-type {\n",
       "        vertical-align: middle;\n",
       "    }\n",
       "\n",
       "    .dataframe tbody tr th {\n",
       "        vertical-align: top;\n",
       "    }\n",
       "\n",
       "    .dataframe thead th {\n",
       "        text-align: right;\n",
       "    }\n",
       "</style>\n",
       "<table border=\"1\" class=\"dataframe\">\n",
       "  <thead>\n",
       "    <tr style=\"text-align: right;\">\n",
       "      <th></th>\n",
       "      <th>Number_of_Shops_Around_ATM</th>\n",
       "      <th>ATM_Zone</th>\n",
       "      <th>No_of_Other_ATMs_in_1_KM_radius</th>\n",
       "      <th>Estimated_Number_of_Houses_in_1_KM_Radius</th>\n",
       "      <th>ATM_Placement</th>\n",
       "      <th>ATM_TYPE</th>\n",
       "      <th>ATM_Location_TYPE</th>\n",
       "      <th>ATM_looks</th>\n",
       "      <th>ATM_Attached_to</th>\n",
       "      <th>Average_Wait_Time</th>\n",
       "      <th>Day_Type</th>\n",
       "      <th>rating</th>\n",
       "      <th>revenue</th>\n",
       "    </tr>\n",
       "  </thead>\n",
       "  <tbody>\n",
       "    <tr>\n",
       "      <th>62740</th>\n",
       "      <td>68</td>\n",
       "      <td>3</td>\n",
       "      <td>90</td>\n",
       "      <td>11700</td>\n",
       "      <td>0</td>\n",
       "      <td>3</td>\n",
       "      <td>2</td>\n",
       "      <td>1</td>\n",
       "      <td>0</td>\n",
       "      <td>3</td>\n",
       "      <td>3</td>\n",
       "      <td>3</td>\n",
       "      <td>184300</td>\n",
       "    </tr>\n",
       "    <tr>\n",
       "      <th>142799</th>\n",
       "      <td>29</td>\n",
       "      <td>3</td>\n",
       "      <td>77</td>\n",
       "      <td>8335</td>\n",
       "      <td>0</td>\n",
       "      <td>3</td>\n",
       "      <td>2</td>\n",
       "      <td>1</td>\n",
       "      <td>0</td>\n",
       "      <td>3</td>\n",
       "      <td>3</td>\n",
       "      <td>3</td>\n",
       "      <td>94000</td>\n",
       "    </tr>\n",
       "    <tr>\n",
       "      <th>91328</th>\n",
       "      <td>82</td>\n",
       "      <td>3</td>\n",
       "      <td>85</td>\n",
       "      <td>13400</td>\n",
       "      <td>0</td>\n",
       "      <td>3</td>\n",
       "      <td>2</td>\n",
       "      <td>1</td>\n",
       "      <td>0</td>\n",
       "      <td>3</td>\n",
       "      <td>3</td>\n",
       "      <td>3</td>\n",
       "      <td>162150</td>\n",
       "    </tr>\n",
       "    <tr>\n",
       "      <th>55792</th>\n",
       "      <td>191</td>\n",
       "      <td>4</td>\n",
       "      <td>65</td>\n",
       "      <td>7800</td>\n",
       "      <td>0</td>\n",
       "      <td>3</td>\n",
       "      <td>2</td>\n",
       "      <td>1</td>\n",
       "      <td>0</td>\n",
       "      <td>3</td>\n",
       "      <td>3</td>\n",
       "      <td>3</td>\n",
       "      <td>129200</td>\n",
       "    </tr>\n",
       "    <tr>\n",
       "      <th>86943</th>\n",
       "      <td>67</td>\n",
       "      <td>3</td>\n",
       "      <td>107</td>\n",
       "      <td>13891</td>\n",
       "      <td>0</td>\n",
       "      <td>3</td>\n",
       "      <td>2</td>\n",
       "      <td>1</td>\n",
       "      <td>3</td>\n",
       "      <td>4</td>\n",
       "      <td>3</td>\n",
       "      <td>5</td>\n",
       "      <td>587333</td>\n",
       "    </tr>\n",
       "  </tbody>\n",
       "</table>\n",
       "</div>"
      ],
      "text/plain": [
       "        Number_of_Shops_Around_ATM  ATM_Zone  No_of_Other_ATMs_in_1_KM_radius  \\\n",
       "62740                           68         3                               90   \n",
       "142799                          29         3                               77   \n",
       "91328                           82         3                               85   \n",
       "55792                          191         4                               65   \n",
       "86943                           67         3                              107   \n",
       "\n",
       "        Estimated_Number_of_Houses_in_1_KM_Radius  ATM_Placement  ATM_TYPE  \\\n",
       "62740                                       11700              0         3   \n",
       "142799                                       8335              0         3   \n",
       "91328                                       13400              0         3   \n",
       "55792                                        7800              0         3   \n",
       "86943                                       13891              0         3   \n",
       "\n",
       "        ATM_Location_TYPE  ATM_looks  ATM_Attached_to  Average_Wait_Time  \\\n",
       "62740                   2          1                0                  3   \n",
       "142799                  2          1                0                  3   \n",
       "91328                   2          1                0                  3   \n",
       "55792                   2          1                0                  3   \n",
       "86943                   2          1                3                  4   \n",
       "\n",
       "        Day_Type  rating  revenue  \n",
       "62740          3       3   184300  \n",
       "142799         3       3    94000  \n",
       "91328          3       3   162150  \n",
       "55792          3       3   129200  \n",
       "86943          3       5   587333  "
      ]
     },
     "execution_count": 5,
     "metadata": {},
     "output_type": "execute_result"
    }
   ],
   "source": [
    "ordinal_encoder = OrdinalEncoder()\n",
    "train_df[object_fea] = ordinal_encoder.fit_transform(train_df[object_fea]).astype(int)\n",
    "train_df.head(5)"
   ]
  },
  {
   "cell_type": "code",
   "execution_count": 6,
   "id": "e902bf5d",
   "metadata": {},
   "outputs": [],
   "source": [
    "test_df[object_fea] = ordinal_encoder.transform(test_df[object_fea]).astype(int)"
   ]
  },
  {
   "cell_type": "code",
   "execution_count": 7,
   "id": "b80da0a5",
   "metadata": {},
   "outputs": [
    {
     "data": {
      "text/html": [
       "<div>\n",
       "<style scoped>\n",
       "    .dataframe tbody tr th:only-of-type {\n",
       "        vertical-align: middle;\n",
       "    }\n",
       "\n",
       "    .dataframe tbody tr th {\n",
       "        vertical-align: top;\n",
       "    }\n",
       "\n",
       "    .dataframe thead th {\n",
       "        text-align: right;\n",
       "    }\n",
       "</style>\n",
       "<table border=\"1\" class=\"dataframe\">\n",
       "  <thead>\n",
       "    <tr style=\"text-align: right;\">\n",
       "      <th></th>\n",
       "      <th>Number_of_Shops_Around_ATM</th>\n",
       "      <th>ATM_Zone</th>\n",
       "      <th>No_of_Other_ATMs_in_1_KM_radius</th>\n",
       "      <th>Estimated_Number_of_Houses_in_1_KM_Radius</th>\n",
       "      <th>ATM_Placement</th>\n",
       "      <th>ATM_TYPE</th>\n",
       "      <th>ATM_Location_TYPE</th>\n",
       "      <th>ATM_looks</th>\n",
       "      <th>ATM_Attached_to</th>\n",
       "      <th>Average_Wait_Time</th>\n",
       "      <th>Day_Type</th>\n",
       "      <th>rating</th>\n",
       "      <th>revenue</th>\n",
       "    </tr>\n",
       "  </thead>\n",
       "  <tbody>\n",
       "    <tr>\n",
       "      <th>0</th>\n",
       "      <td>81</td>\n",
       "      <td>3</td>\n",
       "      <td>101</td>\n",
       "      <td>9150</td>\n",
       "      <td>0</td>\n",
       "      <td>2</td>\n",
       "      <td>2</td>\n",
       "      <td>1</td>\n",
       "      <td>0</td>\n",
       "      <td>3</td>\n",
       "      <td>3</td>\n",
       "      <td>3</td>\n",
       "      <td>172600</td>\n",
       "    </tr>\n",
       "    <tr>\n",
       "      <th>1</th>\n",
       "      <td>30</td>\n",
       "      <td>3</td>\n",
       "      <td>78</td>\n",
       "      <td>7800</td>\n",
       "      <td>0</td>\n",
       "      <td>3</td>\n",
       "      <td>2</td>\n",
       "      <td>1</td>\n",
       "      <td>0</td>\n",
       "      <td>2</td>\n",
       "      <td>3</td>\n",
       "      <td>3</td>\n",
       "      <td>133100</td>\n",
       "    </tr>\n",
       "    <tr>\n",
       "      <th>2</th>\n",
       "      <td>24</td>\n",
       "      <td>3</td>\n",
       "      <td>87</td>\n",
       "      <td>9830</td>\n",
       "      <td>0</td>\n",
       "      <td>2</td>\n",
       "      <td>2</td>\n",
       "      <td>1</td>\n",
       "      <td>0</td>\n",
       "      <td>3</td>\n",
       "      <td>3</td>\n",
       "      <td>4</td>\n",
       "      <td>171700</td>\n",
       "    </tr>\n",
       "    <tr>\n",
       "      <th>3</th>\n",
       "      <td>66</td>\n",
       "      <td>3</td>\n",
       "      <td>51</td>\n",
       "      <td>8121</td>\n",
       "      <td>0</td>\n",
       "      <td>2</td>\n",
       "      <td>2</td>\n",
       "      <td>1</td>\n",
       "      <td>0</td>\n",
       "      <td>3</td>\n",
       "      <td>3</td>\n",
       "      <td>3</td>\n",
       "      <td>176700</td>\n",
       "    </tr>\n",
       "    <tr>\n",
       "      <th>4</th>\n",
       "      <td>57</td>\n",
       "      <td>3</td>\n",
       "      <td>80</td>\n",
       "      <td>17120</td>\n",
       "      <td>0</td>\n",
       "      <td>3</td>\n",
       "      <td>2</td>\n",
       "      <td>1</td>\n",
       "      <td>0</td>\n",
       "      <td>4</td>\n",
       "      <td>3</td>\n",
       "      <td>3</td>\n",
       "      <td>138332</td>\n",
       "    </tr>\n",
       "  </tbody>\n",
       "</table>\n",
       "</div>"
      ],
      "text/plain": [
       "   Number_of_Shops_Around_ATM  ATM_Zone  No_of_Other_ATMs_in_1_KM_radius  \\\n",
       "0                          81         3                              101   \n",
       "1                          30         3                               78   \n",
       "2                          24         3                               87   \n",
       "3                          66         3                               51   \n",
       "4                          57         3                               80   \n",
       "\n",
       "   Estimated_Number_of_Houses_in_1_KM_Radius  ATM_Placement  ATM_TYPE  \\\n",
       "0                                       9150              0         2   \n",
       "1                                       7800              0         3   \n",
       "2                                       9830              0         2   \n",
       "3                                       8121              0         2   \n",
       "4                                      17120              0         3   \n",
       "\n",
       "   ATM_Location_TYPE  ATM_looks  ATM_Attached_to  Average_Wait_Time  Day_Type  \\\n",
       "0                  2          1                0                  3         3   \n",
       "1                  2          1                0                  2         3   \n",
       "2                  2          1                0                  3         3   \n",
       "3                  2          1                0                  3         3   \n",
       "4                  2          1                0                  4         3   \n",
       "\n",
       "   rating  revenue  \n",
       "0       3   172600  \n",
       "1       3   133100  \n",
       "2       4   171700  \n",
       "3       3   176700  \n",
       "4       3   138332  "
      ]
     },
     "execution_count": 7,
     "metadata": {},
     "output_type": "execute_result"
    }
   ],
   "source": [
    "test_df.head(5)"
   ]
  },
  {
   "cell_type": "code",
   "execution_count": 8,
   "id": "60c103b5",
   "metadata": {},
   "outputs": [
    {
     "data": {
      "text/plain": [
       "array([3, 3, 3, 3, 5], dtype=int64)"
      ]
     },
     "execution_count": 8,
     "metadata": {},
     "output_type": "execute_result"
    }
   ],
   "source": [
    "y2 = train_df['rating'].values\n",
    "y2[:5]"
   ]
  },
  {
   "cell_type": "code",
   "execution_count": 9,
   "id": "5708817c",
   "metadata": {},
   "outputs": [
    {
     "data": {
      "text/plain": [
       "array([[    68,      3,     90,  11700,      0,      3,      2,      1,\n",
       "             0,      3,      3, 184300],\n",
       "       [    29,      3,     77,   8335,      0,      3,      2,      1,\n",
       "             0,      3,      3,  94000],\n",
       "       [    82,      3,     85,  13400,      0,      3,      2,      1,\n",
       "             0,      3,      3, 162150],\n",
       "       [   191,      4,     65,   7800,      0,      3,      2,      1,\n",
       "             0,      3,      3, 129200],\n",
       "       [    67,      3,    107,  13891,      0,      3,      2,      1,\n",
       "             3,      4,      3, 587333]], dtype=int64)"
      ]
     },
     "execution_count": 9,
     "metadata": {},
     "output_type": "execute_result"
    }
   ],
   "source": [
    "x2 = train_df.drop('rating', axis=1).values\n",
    "x2[:5]"
   ]
  },
  {
   "cell_type": "code",
   "execution_count": 10,
   "id": "ac2d698d",
   "metadata": {},
   "outputs": [
    {
     "data": {
      "text/plain": [
       "array([3, 3, 4, 3, 3], dtype=int64)"
      ]
     },
     "execution_count": 10,
     "metadata": {},
     "output_type": "execute_result"
    }
   ],
   "source": [
    "y_test2 = test_df['rating'].values\n",
    "y_test2[:5]"
   ]
  },
  {
   "cell_type": "code",
   "execution_count": 11,
   "id": "f2439157",
   "metadata": {},
   "outputs": [
    {
     "data": {
      "text/plain": [
       "array([[    81,      3,    101,   9150,      0,      2,      2,      1,\n",
       "             0,      3,      3, 172600],\n",
       "       [    30,      3,     78,   7800,      0,      3,      2,      1,\n",
       "             0,      2,      3, 133100],\n",
       "       [    24,      3,     87,   9830,      0,      2,      2,      1,\n",
       "             0,      3,      3, 171700],\n",
       "       [    66,      3,     51,   8121,      0,      2,      2,      1,\n",
       "             0,      3,      3, 176700],\n",
       "       [    57,      3,     80,  17120,      0,      3,      2,      1,\n",
       "             0,      4,      3, 138332]], dtype=int64)"
      ]
     },
     "execution_count": 11,
     "metadata": {},
     "output_type": "execute_result"
    }
   ],
   "source": [
    "x_test2 = test_df.drop('rating', axis=1).values\n",
    "x_test2[:5]"
   ]
  },
  {
   "cell_type": "code",
   "execution_count": 12,
   "id": "f460376d",
   "metadata": {},
   "outputs": [],
   "source": [
    "split_percentage = 0.8\n",
    "split_point = int(len(x2) * split_percentage)\n",
    "\n",
    "x_train2 = x2[:split_point]\n",
    "x_val2 = x2[split_point:]\n",
    "y_train2 = y2[:split_point]\n",
    "y_val2 = y2[split_point:]"
   ]
  },
  {
   "cell_type": "code",
   "execution_count": 13,
   "id": "9254d713",
   "metadata": {},
   "outputs": [],
   "source": [
    "from sklearn.metrics import mean_squared_error, r2_score\n",
    "\n",
    "def rmsle(Y, Y_pred):\n",
    "    assert Y.shape == Y_pred.shape\n",
    "    return np.sqrt(np.mean(np.square(Y_pred - Y)))\n",
    "\n",
    "def run_model(model, X_train, y_train, X_val, y_val):\n",
    "    model.fit(X_train, y_train)\n",
    "    \n",
    "    ypre = model.predict(X_val)\n",
    "    \n",
    "    mse = mean_squared_error(y_val, ypre)\n",
    "    r_sq = r2_score(y_val, ypre)\n",
    "    rmlse_1 = rmsle(y_val, ypre)\n",
    "    \n",
    "    print(\"Mean Squared Error Value : \"+\"{:.2f}\".format(mse))\n",
    "    print(\"\\nR-Squared Value : \"+\"{:.2f}\".format(r_sq))\n",
    "    print(\"\\nRMLSE : \"+\"{:.2f}\".format(rmlse_1))\n",
    "    return model, mse, r_sq, rmlse_1"
   ]
  },
  {
   "cell_type": "code",
   "execution_count": 14,
   "id": "b5a59e35",
   "metadata": {},
   "outputs": [
    {
     "name": "stdout",
     "output_type": "stream",
     "text": [
      "RandomForest Regression\n",
      "---------------------------------------\n",
      "Mean Squared Error Value : 0.00\n",
      "\n",
      "R-Squared Value : 1.00\n",
      "\n",
      "RMLSE : 0.02\n"
     ]
    }
   ],
   "source": [
    "from sklearn.ensemble import RandomForestRegressor\n",
    "\n",
    "rf_reg = RandomForestRegressor()\n",
    "print(\"RandomForest Regression\")\n",
    "print(\"---------------------------------------\")\n",
    "model_5, mse_4, r_sq_4, rmlse_4 = run_model(rf_reg,x_train2, y_train2, x_val2, y_val2)"
   ]
  },
  {
   "cell_type": "code",
   "execution_count": 15,
   "id": "8cad7738",
   "metadata": {},
   "outputs": [],
   "source": [
    "y_pred_classify = model_5.predict(x_test2)"
   ]
  },
  {
   "cell_type": "code",
   "execution_count": 16,
   "id": "034f1cd9",
   "metadata": {},
   "outputs": [
    {
     "data": {
      "text/plain": [
       "array([3., 3., 4., 3., 3., 3., 3., 4., 2., 3.])"
      ]
     },
     "execution_count": 16,
     "metadata": {},
     "output_type": "execute_result"
    }
   ],
   "source": [
    "y_pred_classify[:10]"
   ]
  },
  {
   "cell_type": "code",
   "execution_count": 17,
   "id": "775fcabf",
   "metadata": {},
   "outputs": [
    {
     "data": {
      "text/plain": [
       "array([3, 3, 4, 3, 3, 3, 3, 4, 2, 3], dtype=int64)"
      ]
     },
     "execution_count": 17,
     "metadata": {},
     "output_type": "execute_result"
    }
   ],
   "source": [
    "y_test2[:10]"
   ]
  },
  {
   "cell_type": "code",
   "execution_count": 18,
   "id": "034fd884",
   "metadata": {},
   "outputs": [
    {
     "data": {
      "text/plain": [
       "0.999587362049908"
      ]
     },
     "execution_count": 18,
     "metadata": {},
     "output_type": "execute_result"
    }
   ],
   "source": [
    "# 假设你有一个包含真实值和预测值的 DataFrame\n",
    "results_df = pd.DataFrame({'true_values': y_test2, 'predicted_values': y_pred_classify})\n",
    "\n",
    "# 计算真实值和预测值之间的相关性\n",
    "correlation = results_df['true_values'].corr(results_df['predicted_values'])\n",
    "correlation"
   ]
  },
  {
   "cell_type": "code",
   "execution_count": 19,
   "id": "2f9df8b6",
   "metadata": {},
   "outputs": [
    {
     "data": {
      "text/plain": [
       "83"
      ]
     },
     "execution_count": 19,
     "metadata": {},
     "output_type": "execute_result"
    }
   ],
   "source": [
    "error_count = 0\n",
    "for i in range(len(y_test2)):\n",
    "    if y_test2[i]!=y_pred_classify[i]:\n",
    "        error_count+=1\n",
    "error_count"
   ]
  },
  {
   "cell_type": "code",
   "execution_count": 20,
   "id": "e5c96aac",
   "metadata": {},
   "outputs": [
    {
     "data": {
      "text/plain": [
       "0.02926657263751763"
      ]
     },
     "execution_count": 20,
     "metadata": {},
     "output_type": "execute_result"
    }
   ],
   "source": [
    "error_count/len(y_test2)"
   ]
  },
  {
   "cell_type": "code",
   "execution_count": 28,
   "id": "422a6c1b",
   "metadata": {},
   "outputs": [
    {
     "name": "stdout",
     "output_type": "stream",
     "text": [
      "Number_of_Shops_Around_ATM: 0.0452189209355381\n",
      "ATM_Zone: 0.02283870313003849\n",
      "No_of_Other_ATMs_in_1_KM_radius: 0.10938503784515818\n",
      "Estimated_Number_of_Houses_in_1_KM_Radius: 0.19466261080297062\n",
      "ATM_Placement: 0.00020422999543818143\n",
      "ATM_TYPE: 0.016657673446236847\n",
      "ATM_Location_TYPE: 0.014649141195393369\n",
      "ATM_looks: 0.011059901491640958\n",
      "ATM_Attached_to: 0.01992949733941776\n",
      "Average_Wait_Time: 0.03923216215702446\n",
      "Day_Type: 0.005292432665665993\n",
      "rating: 0.5208696889954771\n"
     ]
    }
   ],
   "source": [
    "# 获取特征重要性\n",
    "feature_names = train_df.drop('rati', axis=1).columns.tolist()\n",
    "feature_importances = model_5.feature_importances_\n",
    "\n",
    "# 打印特征重要性\n",
    "for feature, importance in zip(feature_names, feature_importances):\n",
    "    print(f\"{feature}: {importance}\")"
   ]
  },
  {
   "cell_type": "code",
   "execution_count": 31,
   "id": "6906ab44",
   "metadata": {},
   "outputs": [],
   "source": [
    "feature_names = train_df.drop('rating', axis=1).drop('revenue', axis=1).columns.tolist()\n",
    "feature_importances = model_5.feature_importances_"
   ]
  },
  {
   "cell_type": "code",
   "execution_count": 32,
   "id": "7f08f483",
   "metadata": {
    "scrolled": true
   },
   "outputs": [
    {
     "ename": "ValueError",
     "evalue": "shape mismatch: objects cannot be broadcast to a single shape.  Mismatch is between arg 2 with shape (12,) and arg 3 with shape (11,).",
     "output_type": "error",
     "traceback": [
      "\u001b[1;31m---------------------------------------------------------------------------\u001b[0m",
      "\u001b[1;31mValueError\u001b[0m                                Traceback (most recent call last)",
      "\u001b[1;32m~\\AppData\\Local\\Temp\\ipykernel_38944\\667455234.py\u001b[0m in \u001b[0;36m<module>\u001b[1;34m\u001b[0m\n\u001b[0;32m      2\u001b[0m \u001b[1;33m\u001b[0m\u001b[0m\n\u001b[0;32m      3\u001b[0m \u001b[1;31m# 绘制特征重要性条形图\u001b[0m\u001b[1;33m\u001b[0m\u001b[1;33m\u001b[0m\u001b[0m\n\u001b[1;32m----> 4\u001b[1;33m \u001b[0mplt\u001b[0m\u001b[1;33m.\u001b[0m\u001b[0mbarh\u001b[0m\u001b[1;33m(\u001b[0m\u001b[0mfeature_names\u001b[0m\u001b[1;33m,\u001b[0m \u001b[0mfeature_importances\u001b[0m\u001b[1;33m)\u001b[0m\u001b[1;33m\u001b[0m\u001b[1;33m\u001b[0m\u001b[0m\n\u001b[0m\u001b[0;32m      5\u001b[0m \u001b[0mplt\u001b[0m\u001b[1;33m.\u001b[0m\u001b[0mxlabel\u001b[0m\u001b[1;33m(\u001b[0m\u001b[1;34m'Feature Importance'\u001b[0m\u001b[1;33m)\u001b[0m\u001b[1;33m\u001b[0m\u001b[1;33m\u001b[0m\u001b[0m\n\u001b[0;32m      6\u001b[0m \u001b[0mplt\u001b[0m\u001b[1;33m.\u001b[0m\u001b[0mylabel\u001b[0m\u001b[1;33m(\u001b[0m\u001b[1;34m'Feature'\u001b[0m\u001b[1;33m)\u001b[0m\u001b[1;33m\u001b[0m\u001b[1;33m\u001b[0m\u001b[0m\n",
      "\u001b[1;32mD:\\0Code\\new_Anaconda\\lib\\site-packages\\matplotlib\\pyplot.py\u001b[0m in \u001b[0;36mbarh\u001b[1;34m(y, width, height, left, align, **kwargs)\u001b[0m\n\u001b[0;32m   2413\u001b[0m \u001b[1;33m@\u001b[0m\u001b[0m_copy_docstring_and_deprecators\u001b[0m\u001b[1;33m(\u001b[0m\u001b[0mAxes\u001b[0m\u001b[1;33m.\u001b[0m\u001b[0mbarh\u001b[0m\u001b[1;33m)\u001b[0m\u001b[1;33m\u001b[0m\u001b[1;33m\u001b[0m\u001b[0m\n\u001b[0;32m   2414\u001b[0m \u001b[1;32mdef\u001b[0m \u001b[0mbarh\u001b[0m\u001b[1;33m(\u001b[0m\u001b[0my\u001b[0m\u001b[1;33m,\u001b[0m \u001b[0mwidth\u001b[0m\u001b[1;33m,\u001b[0m \u001b[0mheight\u001b[0m\u001b[1;33m=\u001b[0m\u001b[1;36m0.8\u001b[0m\u001b[1;33m,\u001b[0m \u001b[0mleft\u001b[0m\u001b[1;33m=\u001b[0m\u001b[1;32mNone\u001b[0m\u001b[1;33m,\u001b[0m \u001b[1;33m*\u001b[0m\u001b[1;33m,\u001b[0m \u001b[0malign\u001b[0m\u001b[1;33m=\u001b[0m\u001b[1;34m'center'\u001b[0m\u001b[1;33m,\u001b[0m \u001b[1;33m**\u001b[0m\u001b[0mkwargs\u001b[0m\u001b[1;33m)\u001b[0m\u001b[1;33m:\u001b[0m\u001b[1;33m\u001b[0m\u001b[1;33m\u001b[0m\u001b[0m\n\u001b[1;32m-> 2415\u001b[1;33m     return gca().barh(\n\u001b[0m\u001b[0;32m   2416\u001b[0m         y, width, height=height, left=left, align=align, **kwargs)\n\u001b[0;32m   2417\u001b[0m \u001b[1;33m\u001b[0m\u001b[0m\n",
      "\u001b[1;32mD:\\0Code\\new_Anaconda\\lib\\site-packages\\matplotlib\\axes\\_axes.py\u001b[0m in \u001b[0;36mbarh\u001b[1;34m(self, y, width, height, left, align, **kwargs)\u001b[0m\n\u001b[0;32m   2549\u001b[0m         \"\"\"\n\u001b[0;32m   2550\u001b[0m         \u001b[0mkwargs\u001b[0m\u001b[1;33m.\u001b[0m\u001b[0msetdefault\u001b[0m\u001b[1;33m(\u001b[0m\u001b[1;34m'orientation'\u001b[0m\u001b[1;33m,\u001b[0m \u001b[1;34m'horizontal'\u001b[0m\u001b[1;33m)\u001b[0m\u001b[1;33m\u001b[0m\u001b[1;33m\u001b[0m\u001b[0m\n\u001b[1;32m-> 2551\u001b[1;33m         patches = self.bar(x=left, height=height, width=width, bottom=y,\n\u001b[0m\u001b[0;32m   2552\u001b[0m                            align=align, **kwargs)\n\u001b[0;32m   2553\u001b[0m         \u001b[1;32mreturn\u001b[0m \u001b[0mpatches\u001b[0m\u001b[1;33m\u001b[0m\u001b[1;33m\u001b[0m\u001b[0m\n",
      "\u001b[1;32mD:\\0Code\\new_Anaconda\\lib\\site-packages\\matplotlib\\__init__.py\u001b[0m in \u001b[0;36minner\u001b[1;34m(ax, data, *args, **kwargs)\u001b[0m\n\u001b[0;32m   1410\u001b[0m     \u001b[1;32mdef\u001b[0m \u001b[0minner\u001b[0m\u001b[1;33m(\u001b[0m\u001b[0max\u001b[0m\u001b[1;33m,\u001b[0m \u001b[1;33m*\u001b[0m\u001b[0margs\u001b[0m\u001b[1;33m,\u001b[0m \u001b[0mdata\u001b[0m\u001b[1;33m=\u001b[0m\u001b[1;32mNone\u001b[0m\u001b[1;33m,\u001b[0m \u001b[1;33m**\u001b[0m\u001b[0mkwargs\u001b[0m\u001b[1;33m)\u001b[0m\u001b[1;33m:\u001b[0m\u001b[1;33m\u001b[0m\u001b[1;33m\u001b[0m\u001b[0m\n\u001b[0;32m   1411\u001b[0m         \u001b[1;32mif\u001b[0m \u001b[0mdata\u001b[0m \u001b[1;32mis\u001b[0m \u001b[1;32mNone\u001b[0m\u001b[1;33m:\u001b[0m\u001b[1;33m\u001b[0m\u001b[1;33m\u001b[0m\u001b[0m\n\u001b[1;32m-> 1412\u001b[1;33m             \u001b[1;32mreturn\u001b[0m \u001b[0mfunc\u001b[0m\u001b[1;33m(\u001b[0m\u001b[0max\u001b[0m\u001b[1;33m,\u001b[0m \u001b[1;33m*\u001b[0m\u001b[0mmap\u001b[0m\u001b[1;33m(\u001b[0m\u001b[0msanitize_sequence\u001b[0m\u001b[1;33m,\u001b[0m \u001b[0margs\u001b[0m\u001b[1;33m)\u001b[0m\u001b[1;33m,\u001b[0m \u001b[1;33m**\u001b[0m\u001b[0mkwargs\u001b[0m\u001b[1;33m)\u001b[0m\u001b[1;33m\u001b[0m\u001b[1;33m\u001b[0m\u001b[0m\n\u001b[0m\u001b[0;32m   1413\u001b[0m \u001b[1;33m\u001b[0m\u001b[0m\n\u001b[0;32m   1414\u001b[0m         \u001b[0mbound\u001b[0m \u001b[1;33m=\u001b[0m \u001b[0mnew_sig\u001b[0m\u001b[1;33m.\u001b[0m\u001b[0mbind\u001b[0m\u001b[1;33m(\u001b[0m\u001b[0max\u001b[0m\u001b[1;33m,\u001b[0m \u001b[1;33m*\u001b[0m\u001b[0margs\u001b[0m\u001b[1;33m,\u001b[0m \u001b[1;33m**\u001b[0m\u001b[0mkwargs\u001b[0m\u001b[1;33m)\u001b[0m\u001b[1;33m\u001b[0m\u001b[1;33m\u001b[0m\u001b[0m\n",
      "\u001b[1;32mD:\\0Code\\new_Anaconda\\lib\\site-packages\\matplotlib\\axes\\_axes.py\u001b[0m in \u001b[0;36mbar\u001b[1;34m(self, x, height, width, bottom, align, **kwargs)\u001b[0m\n\u001b[0;32m   2340\u001b[0m                 \u001b[0myerr\u001b[0m \u001b[1;33m=\u001b[0m \u001b[0mself\u001b[0m\u001b[1;33m.\u001b[0m\u001b[0m_convert_dx\u001b[0m\u001b[1;33m(\u001b[0m\u001b[0myerr\u001b[0m\u001b[1;33m,\u001b[0m \u001b[0my0\u001b[0m\u001b[1;33m,\u001b[0m \u001b[0my\u001b[0m\u001b[1;33m,\u001b[0m \u001b[0mself\u001b[0m\u001b[1;33m.\u001b[0m\u001b[0mconvert_yunits\u001b[0m\u001b[1;33m)\u001b[0m\u001b[1;33m\u001b[0m\u001b[1;33m\u001b[0m\u001b[0m\n\u001b[0;32m   2341\u001b[0m \u001b[1;33m\u001b[0m\u001b[0m\n\u001b[1;32m-> 2342\u001b[1;33m         x, height, width, y, linewidth, hatch = np.broadcast_arrays(\n\u001b[0m\u001b[0;32m   2343\u001b[0m             \u001b[1;31m# Make args iterable too.\u001b[0m\u001b[1;33m\u001b[0m\u001b[1;33m\u001b[0m\u001b[0m\n\u001b[0;32m   2344\u001b[0m             np.atleast_1d(x), height, width, y, linewidth, hatch)\n",
      "\u001b[1;32mD:\\0Code\\new_Anaconda\\lib\\site-packages\\numpy\\core\\overrides.py\u001b[0m in \u001b[0;36mbroadcast_arrays\u001b[1;34m(*args, **kwargs)\u001b[0m\n",
      "\u001b[1;32mD:\\0Code\\new_Anaconda\\lib\\site-packages\\numpy\\lib\\stride_tricks.py\u001b[0m in \u001b[0;36mbroadcast_arrays\u001b[1;34m(subok, *args)\u001b[0m\n\u001b[0;32m    538\u001b[0m     \u001b[0margs\u001b[0m \u001b[1;33m=\u001b[0m \u001b[1;33m[\u001b[0m\u001b[0mnp\u001b[0m\u001b[1;33m.\u001b[0m\u001b[0marray\u001b[0m\u001b[1;33m(\u001b[0m\u001b[0m_m\u001b[0m\u001b[1;33m,\u001b[0m \u001b[0mcopy\u001b[0m\u001b[1;33m=\u001b[0m\u001b[1;32mFalse\u001b[0m\u001b[1;33m,\u001b[0m \u001b[0msubok\u001b[0m\u001b[1;33m=\u001b[0m\u001b[0msubok\u001b[0m\u001b[1;33m)\u001b[0m \u001b[1;32mfor\u001b[0m \u001b[0m_m\u001b[0m \u001b[1;32min\u001b[0m \u001b[0margs\u001b[0m\u001b[1;33m]\u001b[0m\u001b[1;33m\u001b[0m\u001b[1;33m\u001b[0m\u001b[0m\n\u001b[0;32m    539\u001b[0m \u001b[1;33m\u001b[0m\u001b[0m\n\u001b[1;32m--> 540\u001b[1;33m     \u001b[0mshape\u001b[0m \u001b[1;33m=\u001b[0m \u001b[0m_broadcast_shape\u001b[0m\u001b[1;33m(\u001b[0m\u001b[1;33m*\u001b[0m\u001b[0margs\u001b[0m\u001b[1;33m)\u001b[0m\u001b[1;33m\u001b[0m\u001b[1;33m\u001b[0m\u001b[0m\n\u001b[0m\u001b[0;32m    541\u001b[0m \u001b[1;33m\u001b[0m\u001b[0m\n\u001b[0;32m    542\u001b[0m     \u001b[1;32mif\u001b[0m \u001b[0mall\u001b[0m\u001b[1;33m(\u001b[0m\u001b[0marray\u001b[0m\u001b[1;33m.\u001b[0m\u001b[0mshape\u001b[0m \u001b[1;33m==\u001b[0m \u001b[0mshape\u001b[0m \u001b[1;32mfor\u001b[0m \u001b[0marray\u001b[0m \u001b[1;32min\u001b[0m \u001b[0margs\u001b[0m\u001b[1;33m)\u001b[0m\u001b[1;33m:\u001b[0m\u001b[1;33m\u001b[0m\u001b[1;33m\u001b[0m\u001b[0m\n",
      "\u001b[1;32mD:\\0Code\\new_Anaconda\\lib\\site-packages\\numpy\\lib\\stride_tricks.py\u001b[0m in \u001b[0;36m_broadcast_shape\u001b[1;34m(*args)\u001b[0m\n\u001b[0;32m    420\u001b[0m     \u001b[1;31m# use the old-iterator because np.nditer does not handle size 0 arrays\u001b[0m\u001b[1;33m\u001b[0m\u001b[1;33m\u001b[0m\u001b[0m\n\u001b[0;32m    421\u001b[0m     \u001b[1;31m# consistently\u001b[0m\u001b[1;33m\u001b[0m\u001b[1;33m\u001b[0m\u001b[0m\n\u001b[1;32m--> 422\u001b[1;33m     \u001b[0mb\u001b[0m \u001b[1;33m=\u001b[0m \u001b[0mnp\u001b[0m\u001b[1;33m.\u001b[0m\u001b[0mbroadcast\u001b[0m\u001b[1;33m(\u001b[0m\u001b[1;33m*\u001b[0m\u001b[0margs\u001b[0m\u001b[1;33m[\u001b[0m\u001b[1;33m:\u001b[0m\u001b[1;36m32\u001b[0m\u001b[1;33m]\u001b[0m\u001b[1;33m)\u001b[0m\u001b[1;33m\u001b[0m\u001b[1;33m\u001b[0m\u001b[0m\n\u001b[0m\u001b[0;32m    423\u001b[0m     \u001b[1;31m# unfortunately, it cannot handle 32 or more arguments directly\u001b[0m\u001b[1;33m\u001b[0m\u001b[1;33m\u001b[0m\u001b[0m\n\u001b[0;32m    424\u001b[0m     \u001b[1;32mfor\u001b[0m \u001b[0mpos\u001b[0m \u001b[1;32min\u001b[0m \u001b[0mrange\u001b[0m\u001b[1;33m(\u001b[0m\u001b[1;36m32\u001b[0m\u001b[1;33m,\u001b[0m \u001b[0mlen\u001b[0m\u001b[1;33m(\u001b[0m\u001b[0margs\u001b[0m\u001b[1;33m)\u001b[0m\u001b[1;33m,\u001b[0m \u001b[1;36m31\u001b[0m\u001b[1;33m)\u001b[0m\u001b[1;33m:\u001b[0m\u001b[1;33m\u001b[0m\u001b[1;33m\u001b[0m\u001b[0m\n",
      "\u001b[1;31mValueError\u001b[0m: shape mismatch: objects cannot be broadcast to a single shape.  Mismatch is between arg 2 with shape (12,) and arg 3 with shape (11,)."
     ]
    },
    {
     "data": {
      "image/png": "[encoded data removed]",
      "text/plain": [
       "<Figure size 640x480 with 1 Axes>"
      ]
     },
     "metadata": {},
     "output_type": "display_data"
    }
   ],
   "source": [
    "import matplotlib.pyplot as plt\n",
    "\n",
    "# 绘制特征重要性条形图\n",
    "plt.barh(feature_names, feature_importances)\n",
    "plt.xlabel('Feature Importance')\n",
    "plt.ylabel('Feature')\n",
    "plt.show()"
   ]
  },
  {
   "cell_type": "code",
   "execution_count": 24,
   "id": "42933fed",
   "metadata": {},
   "outputs": [],
   "source": [
    "# from sklearn.svm import SVC\n",
    "\n",
    "# clf = SVC(kernel='rbf', random_state=42)\n",
    "# print(\"SVC Classify\")\n",
    "# print(\"---------------------------------------\")\n",
    "# model_6, mse_4, r_sq_4, rmlse_4 = run_model(clf,x_train2, y_train2, x_val2, y_val2)"
   ]
  },
  {
   "cell_type": "code",
   "execution_count": 25,
   "id": "0ba4557a",
   "metadata": {},
   "outputs": [],
   "source": [
    "# y_pred_classify2 = model_6.predict(x_test2)\n",
    "# y_pred_classify[:10]"
   ]
  },
  {
   "cell_type": "code",
   "execution_count": 26,
   "id": "fb6f829a",
   "metadata": {},
   "outputs": [],
   "source": [
    "# # 假设你有一个包含真实值和预测值的 DataFrame\n",
    "# results_df2 = pd.DataFrame({'true_values': y_test2, 'predicted_values': y_pred_classify2})\n",
    "\n",
    "# # 计算真实值和预测值之间的相关性\n",
    "# correlation2 = results_df2['true_values'].corr(results_df2['predicted_values'])\n",
    "# correlation2"
   ]
  }
 ],
 "metadata": {
  "kernelspec": {
   "display_name": "Python 3 (ipykernel)",
   "language": "python",
   "name": "python3"
  },
  "language_info": {
   "codemirror_mode": {
    "name": "ipython",
    "version": 3
   },
   "file_extension": ".py",
   "mimetype": "text/x-python",
   "name": "python",
   "nbconvert_exporter": "python",
   "pygments_lexer": "ipython3",
   "version": "3.9.13"
  }
 },
 "nbformat": 4,
 "nbformat_minor": 5
}
